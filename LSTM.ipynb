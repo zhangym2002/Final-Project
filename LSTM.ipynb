{
 "cells": [
  {
   "cell_type": "code",
   "execution_count": 354,
   "id": "initial_id",
   "metadata": {
    "collapsed": true,
    "ExecuteTime": {
     "end_time": "2024-04-30T04:35:18.462221Z",
     "start_time": "2024-04-30T04:35:18.426918Z"
    }
   },
   "outputs": [],
   "source": [
    "import numpy as np\n",
    "import pandas as pd\n",
    "import pymap3d as pm\n",
    "import pymap3d.vincenty as pmv\n",
    "import matplotlib.pyplot as plt\n",
    "import glob as gl\n",
    "import scipy.optimize\n",
    "from tqdm.auto import tqdm\n",
    "from scipy.interpolate import InterpolatedUnivariateSpline\n",
    "from scipy.spatial import distance\n",
    "from sklearn.preprocessing import StandardScaler\n",
    "from sklearn.model_selection import train_test_split\n"
   ]
  },
  {
   "cell_type": "code",
   "outputs": [],
   "source": [
    "# Constants\n",
    "CLIGHT = 299_792_458   # speed of light (m/s)\n",
    "RE_WGS84 = 6_378_137   # earth semimajor axis (WGS84) (m)\n",
    "OMGE = 7.2921151467E-5  # earth angular velocity (IS-GPS) (rad/s)"
   ],
   "metadata": {
    "collapsed": false,
    "ExecuteTime": {
     "end_time": "2024-04-30T04:35:18.471384Z",
     "start_time": "2024-04-30T04:35:18.465414Z"
    }
   },
   "id": "b876b671879ec3a0",
   "execution_count": 355
  },
  {
   "cell_type": "code",
   "outputs": [],
   "source": [
    "# Satellite selection using carrier frequency error, elevation angle, and C/N0\n",
    "def satellite_selection(df, column):\n",
    "    \"\"\"\n",
    "    Args:\n",
    "        df : DataFrame from device_gnss.csv\n",
    "        column : Column name\n",
    "    Returns:\n",
    "        df: DataFrame with eliminated satellite signals\n",
    "    \"\"\"\n",
    "    idx = df[column].notnull()\n",
    "    idx &= df['CarrierErrorHz'] < 2.0e6  # carrier frequency error (Hz)\n",
    "    idx &= df['SvElevationDegrees'] > 10.0  # elevation angle (deg)\n",
    "    idx &= df['Cn0DbHz'] > 15.0  # C/N0 (dB-Hz)\n",
    "    idx &= df['MultipathIndicator'] == 0 # Multipath flag\n",
    "\n",
    "    return df[idx]"
   ],
   "metadata": {
    "collapsed": false,
    "ExecuteTime": {
     "end_time": "2024-04-30T04:35:18.482149Z",
     "start_time": "2024-04-30T04:35:18.473379Z"
    }
   },
   "id": "d8292041038eefde",
   "execution_count": 356
  },
  {
   "cell_type": "code",
   "outputs": [],
   "source": [
    "# Compute line-of-sight vector from user to satellite\n",
    "def los_vector(xusr, xsat):\n",
    "    \"\"\"\n",
    "    Args:\n",
    "        xusr : user position in ECEF (m)\n",
    "        xsat : satellite position in ECEF (m)\n",
    "    Returns:\n",
    "        u: unit line-of-sight vector in ECEF (m)\n",
    "        rng: distance between user and satellite (m)\n",
    "    \"\"\"\n",
    "    u = xsat - xusr\n",
    "    rng = np.linalg.norm(u, axis=1).reshape(-1, 1)\n",
    "    u /= rng\n",
    "    \n",
    "    return u, rng.reshape(-1)\n",
    "\n",
    "\n",
    "# Compute Jacobian matrix\n",
    "def jac_pr_residuals(x, xsat, pr, W):\n",
    "    \"\"\"\n",
    "    Args:\n",
    "        x : current position in ECEF (m)\n",
    "        xsat : satellite position in ECEF (m)\n",
    "        pr : pseudorange (m)\n",
    "        W : weight matrix\n",
    "    Returns:\n",
    "        W*J : Jacobian matrix\n",
    "    \"\"\"\n",
    "    u, _ = los_vector(x[:3], xsat)\n",
    "    J = np.hstack([-u, np.ones([len(pr), 1])])  # J = [-ux -uy -uz 1]\n",
    "\n",
    "    return W @ J\n",
    "\n",
    "\n",
    "# Compute pseudorange residuals\n",
    "def pr_residuals(x, xsat, pr, W):\n",
    "    \"\"\"\n",
    "    Args:\n",
    "        x : current position in ECEF (m)\n",
    "        xsat : satellite position in ECEF (m)\n",
    "        pr : pseudorange (m)\n",
    "        W : weight matrix\n",
    "    Returns:\n",
    "        residuals*W : pseudorange residuals\n",
    "    \"\"\"\n",
    "    u, rng = los_vector(x[:3], xsat)\n",
    "\n",
    "    # Approximate correction of the earth rotation (Sagnac effect) often used in GNSS positioning\n",
    "    rng += OMGE * (xsat[:, 0] * x[1] - xsat[:, 1] * x[0]) / CLIGHT\n",
    "\n",
    "    # Add GPS L1 clock offset\n",
    "    residuals = rng - (pr - x[3])\n",
    "\n",
    "    return residuals @ W\n",
    "\n",
    "\n",
    "# Compute Jacobian matrix\n",
    "def jac_prr_residuals(v, vsat, prr, x, xsat, W):\n",
    "    \"\"\"\n",
    "    Args:\n",
    "        v : current velocity in ECEF (m/s)\n",
    "        vsat : satellite velocity in ECEF (m/s)\n",
    "        prr : pseudorange rate (m/s)\n",
    "        x : current position in ECEF (m)\n",
    "        xsat : satellite position in ECEF (m)\n",
    "        W : weight matrix\n",
    "    Returns:\n",
    "        W*J : Jacobian matrix\n",
    "    \"\"\"\n",
    "    u, _ = los_vector(x[:3], xsat)\n",
    "    J = np.hstack([-u, np.ones([len(prr), 1])])\n",
    "\n",
    "    return np.dot(W, J)\n",
    "\n",
    "\n",
    "# Compute pseudorange rate residuals\n",
    "def prr_residuals(v, vsat, prr, x, xsat, W):\n",
    "    \"\"\"\n",
    "    Args:\n",
    "        v : current velocity in ECEF (m/s)\n",
    "        vsat : satellite velocity in ECEF (m/s)\n",
    "        prr : pseudorange rate (m/s)\n",
    "        x : current position in ECEF (m)\n",
    "        xsat : satellite position in ECEF (m)\n",
    "        W : weight matrix\n",
    "    Returns:\n",
    "        residuals*W : pseudorange rate residuals\n",
    "    \"\"\"\n",
    "    u, rng = los_vector(x[:3], xsat)\n",
    "    rate = np.sum((vsat-v[:3])*u, axis=1) \\\n",
    "          + OMGE / CLIGHT * (vsat[:, 1] * x[0] + xsat[:, 1] * v[0]\n",
    "                           - vsat[:, 0] * x[1] - xsat[:, 0] * v[1])\n",
    "\n",
    "    residuals = rate - (prr - v[3])\n",
    "\n",
    "    return residuals @ W"
   ],
   "metadata": {
    "collapsed": false,
    "ExecuteTime": {
     "end_time": "2024-04-30T04:35:18.502900Z",
     "start_time": "2024-04-30T04:35:18.484145Z"
    }
   },
   "id": "abd193db87498cf5",
   "execution_count": 357
  },
  {
   "cell_type": "code",
   "outputs": [],
   "source": [
    "# Carrier smoothing of pseudarange\n",
    "def carrier_smoothing(gnss_df):\n",
    "    \"\"\"\n",
    "    Args:\n",
    "        df : DataFrame from device_gnss.csv\n",
    "    Returns:\n",
    "        df: DataFrame with carrier-smoothing pseudorange 'pr_smooth'\n",
    "    \"\"\"\n",
    "    carr_th = 1.6 # carrier phase jump threshold [m] 2->1.5 (best)->1.0\n",
    "    pr_th =  20.0 # pseudorange jump threshold [m] 20->15\n",
    "\n",
    "    prsmooth = np.full_like(gnss_df['RawPseudorangeMeters'], np.nan)\n",
    "    # Loop for each signal\n",
    "    for (i, (svid_sigtype, df)) in enumerate((gnss_df.groupby(['Svid', 'SignalType']))):\n",
    "        df = df.replace(\n",
    "            {'AccumulatedDeltaRangeMeters': {0: np.nan}})  # 0 to NaN\n",
    "\n",
    "        # Compare time difference between pseudorange/carrier with Doppler\n",
    "        drng1 = df['AccumulatedDeltaRangeMeters'].diff() - df['PseudorangeRateMetersPerSecond']\n",
    "        drng2 = df['RawPseudorangeMeters'].diff() - df['PseudorangeRateMetersPerSecond']\n",
    "\n",
    "        # Check cycle-slip\n",
    "        slip1 = (df['AccumulatedDeltaRangeState'].to_numpy() & 2**1) != 0  # reset flag\n",
    "        slip2 = (df['AccumulatedDeltaRangeState'].to_numpy() & 2**2) != 0  # cycle-slip flag\n",
    "        slip3 = np.fabs(drng1.to_numpy()) > carr_th # Carrier phase jump\n",
    "        slip4 = np.fabs(drng2.to_numpy()) > pr_th # Pseudorange jump\n",
    "\n",
    "        idx_slip = slip1 | slip2 | slip3 | slip4\n",
    "        idx_slip[0] = True\n",
    "\n",
    "        # groups with continuous carrier phase tracking\n",
    "        df['group_slip'] = np.cumsum(idx_slip)\n",
    "\n",
    "        # Psudorange - carrier phase\n",
    "        df['dpc'] = df['RawPseudorangeMeters'] - df['AccumulatedDeltaRangeMeters']\n",
    "\n",
    "        # Absolute distance bias of carrier phase\n",
    "        meandpc = df.groupby('group_slip')['dpc'].mean()\n",
    "        df = df.merge(meandpc, on='group_slip', suffixes=('', '_Mean'))\n",
    "\n",
    "        # Index of original gnss_df\n",
    "        idx = (gnss_df['Svid'] == svid_sigtype[0]) & (\n",
    "            gnss_df['SignalType'] == svid_sigtype[1])\n",
    "\n",
    "        # Carrier phase + bias\n",
    "        prsmooth[idx] = df['AccumulatedDeltaRangeMeters'] + df['dpc_Mean']\n",
    "\n",
    "    # If carrier smoothing is not possible, use original pseudorange\n",
    "    idx_nan = np.isnan(prsmooth)\n",
    "    prsmooth[idx_nan] = gnss_df['RawPseudorangeMeters'][idx_nan]\n",
    "    gnss_df['pr_smooth'] = prsmooth\n",
    "\n",
    "    return gnss_df"
   ],
   "metadata": {
    "collapsed": false,
    "ExecuteTime": {
     "end_time": "2024-04-30T04:35:18.512921Z",
     "start_time": "2024-04-30T04:35:18.503899Z"
    }
   },
   "id": "86d308f007aaaa34",
   "execution_count": 358
  },
  {
   "cell_type": "code",
   "outputs": [],
   "source": [
    "# Compute distance by Vincenty's formulae\n",
    "def vincenty_distance(llh1, llh2):\n",
    "    \"\"\"\n",
    "    Args:\n",
    "        llh1 : [latitude,longitude] (deg)\n",
    "        llh2 : [latitude,longitude] (deg)\n",
    "    Returns:\n",
    "        d : distance between llh1 and llh2 (m)\n",
    "    \"\"\"\n",
    "    d, az = np.array(pmv.vdist(llh1[:, 0], llh1[:, 1], llh2[:, 0], llh2[:, 1]))\n",
    "\n",
    "    return d\n",
    "\n",
    "\n",
    "# Compute score\n",
    "def calc_score(llh, llh_gt):\n",
    "    \"\"\"\n",
    "    Args:\n",
    "        llh : [latitude,longitude] (deg)\n",
    "        llh_gt : [latitude,longitude] (deg)\n",
    "    Returns:\n",
    "        score : (m)\n",
    "    \"\"\"\n",
    "    d = vincenty_distance(llh, llh_gt)\n",
    "    score = np.mean([np.quantile(d, 0.50), np.quantile(d, 0.95)])\n",
    "\n",
    "    return score"
   ],
   "metadata": {
    "collapsed": false,
    "ExecuteTime": {
     "end_time": "2024-04-30T04:35:18.519271Z",
     "start_time": "2024-04-30T04:35:18.513920Z"
    }
   },
   "id": "3e4e7dde3034ca8b",
   "execution_count": 359
  },
  {
   "cell_type": "code",
   "outputs": [],
   "source": [
    "# GNSS single point positioning using pseudorange\n",
    "\n",
    "def point_positioning(gnss_df):\n",
    "    # Add nominal frequency to each signal\n",
    "    # Note: GLONASS is an FDMA signal, so each satellite has a different frequency\n",
    "    CarrierFrequencyHzRef = gnss_df.groupby(['Svid', 'SignalType'])[\n",
    "        'CarrierFrequencyHz'].median()\n",
    "    gnss_df = gnss_df.merge(CarrierFrequencyHzRef, how='left', on=[\n",
    "                            'Svid', 'SignalType'], suffixes=('', 'Ref'))\n",
    "    gnss_df['CarrierErrorHz'] = np.abs(\n",
    "        (gnss_df['CarrierFrequencyHz'] - gnss_df['CarrierFrequencyHzRef']))\n",
    "\n",
    "    # Carrier smoothing\n",
    "    gnss_df = carrier_smoothing(gnss_df)\n",
    "\n",
    "    # GNSS single point positioning\n",
    "    utcTimeMillis = gnss_df['utcTimeMillis'].unique()\n",
    "    nepoch = len(utcTimeMillis)\n",
    "    x0 = np.zeros(4)  # [x,y,z,tGPSL1]\n",
    "    v0 = np.zeros(4)  # [vx,vy,vz,dtGPSL1]\n",
    "    x_wls = np.full([nepoch, 3], np.nan)  # For saving position\n",
    "    v_wls = np.full([nepoch, 3], np.nan)  # For saving velocity\n",
    "\n",
    "    # Loop for epochs\n",
    "    for i, (t_utc, df) in enumerate(tqdm(gnss_df.groupby('utcTimeMillis'), total=nepoch)):\n",
    "        # Valid satellite selection\n",
    "        df_pr = satellite_selection(df, 'pr_smooth')\n",
    "        df_prr = satellite_selection(df, 'PseudorangeRateMetersPerSecond')\n",
    "\n",
    "        # Corrected pseudorange/pseudorange rate\n",
    "        pr = (df_pr['pr_smooth'] + df_pr['SvClockBiasMeters'] - df_pr['IsrbMeters'] -\n",
    "              df_pr['IonosphericDelayMeters'] - df_pr['TroposphericDelayMeters']).to_numpy()\n",
    "        prr = (df_prr['PseudorangeRateMetersPerSecond'] +\n",
    "               df_prr['SvClockDriftMetersPerSecond']).to_numpy()\n",
    "\n",
    "        # Satellite position/velocity\n",
    "        xsat_pr = df_pr[['SvPositionXEcefMeters', 'SvPositionYEcefMeters',\n",
    "                         'SvPositionZEcefMeters']].to_numpy()\n",
    "        xsat_prr = df_prr[['SvPositionXEcefMeters', 'SvPositionYEcefMeters',\n",
    "                           'SvPositionZEcefMeters']].to_numpy()\n",
    "        vsat = df_prr[['SvVelocityXEcefMetersPerSecond', 'SvVelocityYEcefMetersPerSecond',\n",
    "                       'SvVelocityZEcefMetersPerSecond']].to_numpy()\n",
    "\n",
    "        # Weight matrix for peseudorange/pseudorange rate\n",
    "        Wx = np.diag(1 / df_pr['RawPseudorangeUncertaintyMeters'].to_numpy())\n",
    "        Wv = np.diag(1 / df_prr['PseudorangeRateUncertaintyMetersPerSecond'].to_numpy())\n",
    "\n",
    "        # Robust WLS requires accurate initial values for convergence,\n",
    "        # so perform normal WLS for the first time\n",
    "        if len(df_pr) >= 4:\n",
    "            # Normal WLS\n",
    "            if np.all(x0 == 0):\n",
    "                opt = scipy.optimize.least_squares(\n",
    "                    pr_residuals, x0, jac_pr_residuals, args=(xsat_pr, pr, Wx))\n",
    "                x0 = opt.x \n",
    "            # Robust WLS for position estimation\n",
    "            opt = scipy.optimize.least_squares(\n",
    "                 pr_residuals, x0, jac_pr_residuals, args=(xsat_pr, pr, Wx), loss='soft_l1')\n",
    "            if opt.status < 1 or opt.status == 2:\n",
    "                 print(f'i = {i} position lsq status = {opt.status}')\n",
    "            else:\n",
    "                 x_wls[i, :] = opt.x[:3]\n",
    "                 x0 = opt.x\n",
    "                 \n",
    "        # Velocity estimation\n",
    "        if len(df_prr) >= 4:\n",
    "            if np.all(v0 == 0): # Normal WLS\n",
    "                opt = scipy.optimize.least_squares(\n",
    "                    prr_residuals, v0, jac_prr_residuals, args=(vsat, prr, x0, xsat_prr, Wv))\n",
    "                v0 = opt.x\n",
    "            # Robust WLS for velocity estimation\n",
    "            opt = scipy.optimize.least_squares(\n",
    "                prr_residuals, v0, jac_prr_residuals, args=(vsat, prr, x0, xsat_prr, Wv), loss='soft_l1')\n",
    "            if opt.status < 1:\n",
    "                print(f'i = {i} velocity lsq status = {opt.status}')\n",
    "            else:\n",
    "                v_wls[i, :] = opt.x[:3]\n",
    "                v0 = opt.x\n",
    "\n",
    "    return utcTimeMillis, x_wls, v_wls"
   ],
   "metadata": {
    "collapsed": false,
    "ExecuteTime": {
     "end_time": "2024-04-30T04:35:18.533969Z",
     "start_time": "2024-04-30T04:35:18.520272Z"
    }
   },
   "id": "72a77b994903f2f2",
   "execution_count": 360
  },
  {
   "cell_type": "code",
   "outputs": [],
   "source": [
    "# Simple outlier detection and interpolation\n",
    "def exclude_interpolate_outlier(x_wls, v_wls):\n",
    "    # Up velocity threshold\n",
    "    v_up_th = 2.0 # m/s\n",
    "\n",
    "    # Coordinate conversion\n",
    "    x_llh = np.array(pm.ecef2geodetic(x_wls[:, 0], x_wls[:, 1], x_wls[:, 2])).T\n",
    "    v_enu = np.array(pm.ecef2enuv(\n",
    "        v_wls[:, 0], v_wls[:, 1], v_wls[:, 2], x_llh[0, 0], x_llh[0, 1])).T\n",
    "\n",
    "    # Up velocity jump detection\n",
    "    # Cars don't jump suddenly!\n",
    "    idx_v_out = np.abs(v_enu[:, 2]) > v_up_th\n",
    "    v_wls[idx_v_out, :] = np.nan\n",
    "    \n",
    "    # Interpolate NaNs at beginning and end of array\n",
    "    x_df = pd.DataFrame({'x': x_wls[:, 0], 'y': x_wls[:, 1], 'z': x_wls[:, 2]})\n",
    "    x_df = x_df.interpolate(limit_area='outside', limit_direction='both')\n",
    "    \n",
    "    # Interpolate all NaN data\n",
    "    v_df = pd.DataFrame({'x': v_wls[:, 0], 'y': v_wls[:, 1], 'z': v_wls[:, 2]})\n",
    "    v_df = v_df.interpolate(limit_area='outside', limit_direction='both')\n",
    "    v_df = v_df.interpolate('spline', order=3)\n",
    "\n",
    "    return x_df.to_numpy(), v_df.to_numpy()"
   ],
   "metadata": {
    "collapsed": false,
    "ExecuteTime": {
     "end_time": "2024-04-30T04:35:18.542765Z",
     "start_time": "2024-04-30T04:35:18.534969Z"
    }
   },
   "id": "2acbef0dde82b974",
   "execution_count": 361
  },
  {
   "cell_type": "code",
   "outputs": [],
   "source": [
    "# Kalman filter\n",
    "def Kalman_filter(zs, us, phone):\n",
    "    # Parameters\n",
    "    # I don't know why only XiaomiMi8 seems to be inaccurate ... \n",
    "    sigma_v = 0.6 if phone == 'XiaomiMi8' else 0.1 # velocity SD m/s\n",
    "    sigma_x = 5.0  # position SD m\n",
    "    sigma_mahalanobis = 30.0 # Mahalanobis distance for rejecting innovation\n",
    "    \n",
    "    n, dim_x = zs.shape\n",
    "    F = np.eye(3)  # Transition matrix\n",
    "    Q = sigma_v**2 * np.eye(3)  # Process noise\n",
    "\n",
    "    H = np.eye(3)  # Measurement function\n",
    "    R = sigma_x**2 * np.eye(3)  # Measurement noise\n",
    "\n",
    "    # Initial state and covariance\n",
    "    x = zs[0, :3].T  # State\n",
    "    P = sigma_x**2 * np.eye(3)  # State covariance\n",
    "    I = np.eye(dim_x)\n",
    "\n",
    "    x_kf = np.zeros([n, dim_x])\n",
    "    P_kf = np.zeros([n, dim_x, dim_x])\n",
    "\n",
    "    # Kalman filtering\n",
    "    for i, (u, z) in enumerate(zip(us, zs)):\n",
    "        # First step\n",
    "        if i == 0:\n",
    "            x_kf[i] = x.T\n",
    "            P_kf[i] = P\n",
    "            continue\n",
    "\n",
    "        # Prediction step\n",
    "        x = F @ x + u.T\n",
    "        P = (F @ P) @ F.T + Q\n",
    "\n",
    "        # Check outliers for observation\n",
    "        d = distance.mahalanobis(z, H @ x, np.linalg.pinv(P))\n",
    "\n",
    "        # Update step\n",
    "        if d < sigma_mahalanobis:\n",
    "            y = z.T - H @ x\n",
    "            S = (H @ P) @ H.T + R\n",
    "            K = (P @ H.T) @ np.linalg.inv(S)\n",
    "            x = x + K @ y\n",
    "            P = (I - (K @ H)) @ P\n",
    "        else:\n",
    "            # If no observation update is available, increase covariance\n",
    "            P += 10**2*Q\n",
    "\n",
    "        x_kf[i] = x.T\n",
    "        P_kf[i] = P\n",
    "\n",
    "    return x_kf, P_kf\n",
    "\n",
    "\n",
    "# Forward + backward Kalman filter and smoothing\n",
    "def Kalman_smoothing(x_wls, v_wls, phone):\n",
    "    n, dim_x = x_wls.shape\n",
    "\n",
    "    # Forward\n",
    "    v = np.vstack([np.zeros([1, 3]), (v_wls[:-1, :] + v_wls[1:, :])/2])\n",
    "    x_f, P_f = Kalman_filter(x_wls, v, phone)\n",
    "\n",
    "    # Backward\n",
    "    v = -np.flipud(v_wls)\n",
    "    v = np.vstack([np.zeros([1, 3]), (v[:-1, :] + v[1:, :])/2])\n",
    "    x_b, P_b = Kalman_filter(np.flipud(x_wls), v, phone)\n",
    "\n",
    "    # Smoothing\n",
    "    x_fb = np.zeros_like(x_f)\n",
    "    P_fb = np.zeros_like(P_f)\n",
    "    for (f, b) in zip(range(n), range(n-1, -1, -1)):\n",
    "        P_fi = np.linalg.inv(P_f[f])\n",
    "        P_bi = np.linalg.inv(P_b[b])\n",
    "\n",
    "        P_fb[f] = np.linalg.inv(P_fi + P_bi)\n",
    "        x_fb[f] = P_fb[f] @ (P_fi @ x_f[f] + P_bi @ x_b[b])\n",
    "\n",
    "    return x_fb, x_f, np.flipud(x_b)"
   ],
   "metadata": {
    "collapsed": false,
    "ExecuteTime": {
     "end_time": "2024-04-30T04:35:18.554797Z",
     "start_time": "2024-04-30T04:35:18.543767Z"
    }
   },
   "id": "bc621cb4fab73ac2",
   "execution_count": 362
  },
  {
   "cell_type": "code",
   "outputs": [],
   "source": [
    "from torch.optim.lr_scheduler import ReduceLROnPlateau\n",
    "import torch\n",
    "import numpy as np\n",
    "from sklearn.preprocessing import StandardScaler\n",
    "from torch import nn\n",
    "\n",
    "def create_sequences(data, target, sequence_length):\n",
    "    data_sequences = []\n",
    "    target_sequences = []\n",
    "    for i in range(len(data) - sequence_length):\n",
    "        data_sequences.append(data[i:i+sequence_length])\n",
    "        target_sequences.append(target[i+sequence_length])\n",
    "    \n",
    "    return np.array(data_sequences), np.array(target_sequences)\n",
    "# data_sequences, target_sequences = create_sequences(data_train, data_target, sequence_length)"
   ],
   "metadata": {
    "collapsed": false,
    "ExecuteTime": {
     "end_time": "2024-04-30T04:35:18.562692Z",
     "start_time": "2024-04-30T04:35:18.555801Z"
    }
   },
   "id": "ee85b2613f4c014b",
   "execution_count": 363
  },
  {
   "cell_type": "code",
   "outputs": [],
   "source": [
    "# 定义 LSTM 模型\n",
    "class LSTMModel(nn.Module):\n",
    "    def __init__(self, input_dim, hidden_dim, output_dim, num_layers, dropout_rate):\n",
    "        super(LSTMModel, self).__init__()\n",
    "        self.hidden_dim = hidden_dim\n",
    "        self.num_layers = num_layers\n",
    "\n",
    "        # 定义带dropout的LSTM层\n",
    "        self.lstm = nn.LSTM(input_dim, hidden_dim, num_layers, batch_first=True, dropout=dropout_rate)\n",
    "        \n",
    "        # 定义输出层\n",
    "        self.linear = nn.Linear(hidden_dim, output_dim)\n",
    "\n",
    "    def forward(self, x):\n",
    "        # 初始化隐藏状态和细胞状态\n",
    "        h0 = torch.zeros(self.num_layers, x.size(0), self.hidden_dim).to(x.device)\n",
    "        c0 = torch.zeros(self.num_layers, x.size(0), self.hidden_dim).to(x.device)\n",
    "        \n",
    "        # 从LSTM层获取所有隐藏状态\n",
    "        out, _ = self.lstm(x, (h0, c0))\n",
    "        \n",
    "        # 取最后一个时间步的输出\n",
    "        out = self.linear(out[:, -1, :])\n",
    "        return out"
   ],
   "metadata": {
    "collapsed": false,
    "ExecuteTime": {
     "end_time": "2024-04-30T04:35:18.572446Z",
     "start_time": "2024-04-30T04:35:18.563690Z"
    }
   },
   "id": "4c6eadf12264f5a3",
   "execution_count": 364
  },
  {
   "cell_type": "code",
   "outputs": [],
   "source": [
    "# 训练函数\n",
    "def train_file(model_train, train_tensor,target_tensor, optimizer, criterion, epochs):\n",
    "    # loss_history = []  # 用于存储每个epoch的loss，以便绘图\n",
    "    final_outputs = []\n",
    "    for epoch in range(epochs):\n",
    "        optimizer.zero_grad()\n",
    "        outputs = model_train(train_tensor)\n",
    "        loss = criterion(outputs, target_tensor)\n",
    "        loss.backward()\n",
    "        torch.nn.utils.clip_grad_norm_(model_train.parameters(), max_norm=1.0)  # 梯度裁剪\n",
    "        optimizer.step()\n",
    "        # scheduler.step(loss)\n",
    "        \n",
    "        # loss_history.append(loss.item())  # 记录当前epoch的loss\n",
    "        if (epoch + 1) % 20 == 0:  # 每10个epoch输出一次\n",
    "            current_lr = optimizer.param_groups[0]['lr']\n",
    "            print(f'Epoch [{epoch+1}/{epochs}], Loss: {loss.item():.4f}, Current LR: {current_lr}')\n",
    "        if epoch == epochs - 1:\n",
    "            final_outputs = outputs.detach().numpy()    \n",
    "        \n",
    "    return final_outputs"
   ],
   "metadata": {
    "collapsed": false,
    "ExecuteTime": {
     "end_time": "2024-04-30T04:35:18.580064Z",
     "start_time": "2024-04-30T04:35:18.573444Z"
    }
   },
   "id": "9873911cd7d9e974",
   "execution_count": 365
  },
  {
   "cell_type": "code",
   "outputs": [],
   "source": [
    "from torch.utils.data import TensorDataset, DataLoader\n",
    "\n",
    "train_score_bl = []\n",
    "train_score_wls = []\n",
    "train_score_kf = []\n",
    "train_score_lstm = []\n",
    "\n",
    "def process_array(x_wls):\n",
    "    try:\n",
    "        # 检查数据中是否有nan\n",
    "        if np.any(np.isnan(x_wls)):\n",
    "            raise ValueError(\"Data contains NaN values\")\n",
    "\n",
    "        # 进行数据训练或其他处理\n",
    "        train_score_bl,train_score_wls,train_score_kf,train_score_lstm = train_lstm(x_wls)\n",
    "        return train_score_bl,train_score_wls,train_score_kf,train_score_lstm\n",
    "\n",
    "    except Exception as e:\n",
    "        print(\"Error processing\")\n",
    "        return None\n",
    "    \n",
    "def train_lstm(x_wls):\n",
    "    # Kalman smoothing\n",
    "    x_kf, _, _ = Kalman_smoothing(x_wls, v_wls, phone)\n",
    "\n",
    "    # Baseline\n",
    "    x_bl = gnss_df.groupby('TimeNanos')[['WlsPositionXEcefMeters', 'WlsPositionYEcefMeters',   'WlsPositionZEcefMeters']].mean().to_numpy()\n",
    "    llh_bl = np.array(pm.ecef2geodetic(x_bl[:, 0], x_bl[:, 1], x_bl[:, 2])).T\n",
    "    \n",
    "    # data_diff = x_kf - x_bl\n",
    "    utc_array = np.array(utc).reshape(-1,1)\n",
    "    data_train = np.hstack((x_kf,utc_array))\n",
    "    data_target =  x_bl\n",
    "    train_sequence , target_sequence = create_sequences(data_train,data_target,sequence_length)\n",
    "    train_tensor = torch.tensor(train_sequence, dtype=torch.float32)\n",
    "    target_tensor = torch.tensor(target_sequence, dtype=torch.float32)\n",
    "\n",
    "    x_lstm = train_file(model_train, train_tensor,target_tensor,optimizer,loss_function,epochs=100)\n",
    "    x_lstm_final = np.concatenate((x_kf[:sequence_length],x_lstm))\n",
    "\n",
    "    array1 = x_kf - x_bl\n",
    "    array2 = x_lstm_final - x_bl\n",
    "    x_min = np.where(np.abs(array1) <= np.abs(array2), array1, array2)\n",
    "    x_min_final = x_min + x_bl\n",
    "    \n",
    "    # compute score\n",
    "    llh_gt = gt_df[['LatitudeDegrees', 'LongitudeDegrees']].to_numpy()\n",
    "    llh_wls = np.array(pm.ecef2geodetic(x_wls[:, 0], x_wls[:, 1], x_wls[:, 2])).T\n",
    "    llh_kf = np.array(pm.ecef2geodetic(x_kf[:, 0], x_kf[:, 1], x_kf[:, 2])).T\n",
    "    llh_lstm = np.array(pm.ecef2geodetic(x_min_final[:, 0], x_min_final[:, 1],x_min_final[:, 2])).T\n",
    "    \n",
    "    # Distance from ground truth\n",
    "    len_diff = llh_bl.shape[0] - llh_gt.shape[0]\n",
    "    vd_bl = vincenty_distance(llh_bl[len_diff:], llh_gt)\n",
    "    vd_wls = vincenty_distance(llh_wls[len_diff:], llh_gt)\n",
    "    vd_kf = vincenty_distance(llh_kf[len_diff:], llh_gt)\n",
    "    vd_lstm = vincenty_distance(llh_lstm[len_diff:], llh_gt)\n",
    "    \n",
    "    \n",
    "    score_bl = calc_score(llh_bl[len_diff:], llh_gt)\n",
    "    train_score_bl.append(score_bl)\n",
    "    score_wls = calc_score(llh_wls[len_diff:], llh_gt)\n",
    "    train_score_wls.append(score_wls)\n",
    "    score_kf = calc_score(llh_kf[len_diff:-1, :], llh_gt[:-1, :])\n",
    "    train_score_kf.append(score_kf)\n",
    "    score_lstm = calc_score(llh_lstm[len_diff:, :], llh_gt[:, :])\n",
    "    train_score_lstm.append(score_lstm)\n",
    "    \n",
    "    return train_score_bl,train_score_wls,train_score_kf,train_score_lstm"
   ],
   "metadata": {
    "collapsed": false,
    "ExecuteTime": {
     "end_time": "2024-04-30T04:35:18.595172Z",
     "start_time": "2024-04-30T04:35:18.581063Z"
    }
   },
   "id": "f22a189d8b537db",
   "execution_count": 366
  },
  {
   "cell_type": "code",
   "outputs": [
    {
     "data": {
      "text/plain": "  0%|          | 0/156 [00:00<?, ?it/s]",
      "application/vnd.jupyter.widget-view+json": {
       "version_major": 2,
       "version_minor": 0,
       "model_id": "5afc751ebc784ac9ac8a1c99839097b7"
      }
     },
     "metadata": {},
     "output_type": "display_data"
    },
    {
     "name": "stdout",
     "output_type": "stream",
     "text": [
      "Drive: 2020-06-25-00-34-us-ca-mtv-sb-101, Phone: pixel4\n"
     ]
    },
    {
     "data": {
      "text/plain": "  0%|          | 0/1300 [00:00<?, ?it/s]",
      "application/vnd.jupyter.widget-view+json": {
       "version_major": 2,
       "version_minor": 0,
       "model_id": "f128322c9ba646b8b6cd5d0858ee64c4"
      }
     },
     "metadata": {},
     "output_type": "display_data"
    },
    {
     "name": "stdout",
     "output_type": "stream",
     "text": [
      "Epoch [20/100], Loss: 13526596845568.0000, Current LR: 0.001\n",
      "Epoch [40/100], Loss: 13526579019776.0000, Current LR: 0.001\n",
      "Epoch [60/100], Loss: 13526567485440.0000, Current LR: 0.001\n",
      "Epoch [80/100], Loss: 13526559096832.0000, Current LR: 0.001\n",
      "Epoch [100/100], Loss: 13526548611072.0000, Current LR: 0.001\n",
      "Processed successfully 1/1.\n",
      "Drive: 2020-06-25-00-34-us-ca-mtv-sb-101, Phone: pixel4xl\n"
     ]
    },
    {
     "data": {
      "text/plain": "  0%|          | 0/1303 [00:00<?, ?it/s]",
      "application/vnd.jupyter.widget-view+json": {
       "version_major": 2,
       "version_minor": 0,
       "model_id": "9c6930f87edb4f7983512b29b9dbccf7"
      }
     },
     "metadata": {},
     "output_type": "display_data"
    },
    {
     "name": "stdout",
     "output_type": "stream",
     "text": [
      "Epoch [20/100], Loss: 13526538125312.0000, Current LR: 0.001\n",
      "Epoch [40/100], Loss: 13526527639552.0000, Current LR: 0.001\n",
      "Epoch [60/100], Loss: 13526518202368.0000, Current LR: 0.001\n",
      "Epoch [80/100], Loss: 13526507716608.0000, Current LR: 0.001\n",
      "Epoch [100/100], Loss: 13526498279424.0000, Current LR: 0.001\n",
      "Processed successfully 2/2.\n",
      "Drive: 2020-07-08-22-28-us-ca, Phone: pixel4\n"
     ]
    },
    {
     "data": {
      "text/plain": "  0%|          | 0/2131 [00:00<?, ?it/s]",
      "application/vnd.jupyter.widget-view+json": {
       "version_major": 2,
       "version_minor": 0,
       "model_id": "9ef7d185783e424cb2f66bbfc7ca8547"
      }
     },
     "metadata": {},
     "output_type": "display_data"
    },
    {
     "name": "stdout",
     "output_type": "stream",
     "text": [
      "Error processing\n",
      "Skipped due to errors.\n",
      "Drive: 2020-07-08-22-28-us-ca, Phone: pixel4xl\n"
     ]
    },
    {
     "data": {
      "text/plain": "  0%|          | 0/2147 [00:00<?, ?it/s]",
      "application/vnd.jupyter.widget-view+json": {
       "version_major": 2,
       "version_minor": 0,
       "model_id": "0a61b58b881b446baff25b89c57fd38e"
      }
     },
     "metadata": {},
     "output_type": "display_data"
    },
    {
     "name": "stdout",
     "output_type": "stream",
     "text": [
      "Error processing\n",
      "Skipped due to errors.\n",
      "Drive: 2020-07-17-22-27-us-ca-mtv-sf-280, Phone: pixel4\n"
     ]
    },
    {
     "data": {
      "text/plain": "  0%|          | 0/1929 [00:00<?, ?it/s]",
      "application/vnd.jupyter.widget-view+json": {
       "version_major": 2,
       "version_minor": 0,
       "model_id": "ed5157e7890d4a56acf374db5a839393"
      }
     },
     "metadata": {},
     "output_type": "display_data"
    },
    {
     "name": "stdout",
     "output_type": "stream",
     "text": [
      "Error processing\n",
      "Skipped due to errors.\n",
      "Drive: 2020-07-17-23-13-us-ca-sf-mtv-280, Phone: pixel4\n"
     ]
    },
    {
     "data": {
      "text/plain": "  0%|          | 0/1699 [00:00<?, ?it/s]",
      "application/vnd.jupyter.widget-view+json": {
       "version_major": 2,
       "version_minor": 0,
       "model_id": "58b55770f55247c6ad165f6f8f3754f1"
      }
     },
     "metadata": {},
     "output_type": "display_data"
    },
    {
     "name": "stdout",
     "output_type": "stream",
     "text": [
      "Error processing\n",
      "Skipped due to errors.\n",
      "Drive: 2020-07-17-23-13-us-ca-sf-mtv-280, Phone: pixel4xl\n"
     ]
    },
    {
     "data": {
      "text/plain": "  0%|          | 0/1700 [00:00<?, ?it/s]",
      "application/vnd.jupyter.widget-view+json": {
       "version_major": 2,
       "version_minor": 0,
       "model_id": "b93bba82dc8342caa307e9be274d9f1d"
      }
     },
     "metadata": {},
     "output_type": "display_data"
    },
    {
     "name": "stdout",
     "output_type": "stream",
     "text": [
      "Epoch [20/100], Loss: 13527001595904.0000, Current LR: 0.001\n",
      "Epoch [40/100], Loss: 13526992158720.0000, Current LR: 0.001\n",
      "Epoch [60/100], Loss: 13526980624384.0000, Current LR: 0.001\n",
      "Epoch [80/100], Loss: 13526973284352.0000, Current LR: 0.001\n",
      "Epoch [100/100], Loss: 13526961750016.0000, Current LR: 0.001\n",
      "Processed successfully 3/7.\n",
      "Drive: 2020-08-04-00-19-us-ca-sb-mtv-101, Phone: pixel4\n"
     ]
    },
    {
     "data": {
      "text/plain": "  0%|          | 0/1691 [00:00<?, ?it/s]",
      "application/vnd.jupyter.widget-view+json": {
       "version_major": 2,
       "version_minor": 0,
       "model_id": "56b6cb41cfc643b686eaadeb203bccb4"
      }
     },
     "metadata": {},
     "output_type": "display_data"
    },
    {
     "name": "stdout",
     "output_type": "stream",
     "text": [
      "Epoch [20/100], Loss: 13526387130368.0000, Current LR: 0.001\n",
      "Epoch [40/100], Loss: 13526379790336.0000, Current LR: 0.001\n",
      "Epoch [60/100], Loss: 13526371401728.0000, Current LR: 0.001\n",
      "Epoch [80/100], Loss: 13526359867392.0000, Current LR: 0.001\n",
      "Epoch [100/100], Loss: 13526351478784.0000, Current LR: 0.001\n",
      "Processed successfully 4/8.\n",
      "Drive: 2020-08-04-00-20-us-ca-sb-mtv-101, Phone: pixel4xl\n"
     ]
    },
    {
     "data": {
      "text/plain": "  0%|          | 0/1629 [00:00<?, ?it/s]",
      "application/vnd.jupyter.widget-view+json": {
       "version_major": 2,
       "version_minor": 0,
       "model_id": "9f03d56f34c141a5832aced272b5fc61"
      }
     },
     "metadata": {},
     "output_type": "display_data"
    },
    {
     "name": "stdout",
     "output_type": "stream",
     "text": [
      "i = 1173 position lsq status = 0\n",
      "Error processing\n",
      "Skipped due to errors.\n",
      "Drive: 2020-08-04-00-20-us-ca-sb-mtv-101, Phone: pixel5\n"
     ]
    },
    {
     "data": {
      "text/plain": "  0%|          | 0/1628 [00:00<?, ?it/s]",
      "application/vnd.jupyter.widget-view+json": {
       "version_major": 2,
       "version_minor": 0,
       "model_id": "e33a85de44214591ae7102fe94887cb1"
      }
     },
     "metadata": {},
     "output_type": "display_data"
    },
    {
     "name": "stdout",
     "output_type": "stream",
     "text": [
      "i = 1170 position lsq status = 2\n",
      "Error processing\n",
      "Skipped due to errors.\n",
      "Drive: 2020-08-13-21-41-us-ca-mtv-sf-280, Phone: pixel4\n"
     ]
    },
    {
     "data": {
      "text/plain": "  0%|          | 0/1881 [00:00<?, ?it/s]",
      "application/vnd.jupyter.widget-view+json": {
       "version_major": 2,
       "version_minor": 0,
       "model_id": "256c39cb0c5643f8a5594b9547152b3b"
      }
     },
     "metadata": {},
     "output_type": "display_data"
    },
    {
     "name": "stdout",
     "output_type": "stream",
     "text": [
      "Epoch [20/100], Loss: 13526861086720.0000, Current LR: 0.001\n",
      "Epoch [40/100], Loss: 13526852698112.0000, Current LR: 0.001\n",
      "Epoch [60/100], Loss: 13526842212352.0000, Current LR: 0.001\n",
      "Epoch [80/100], Loss: 13526832775168.0000, Current LR: 0.001\n",
      "Epoch [100/100], Loss: 13526822289408.0000, Current LR: 0.001\n",
      "Processed successfully 5/11.\n",
      "Drive: 2020-08-13-21-41-us-ca-mtv-sf-280, Phone: pixel4xl\n"
     ]
    },
    {
     "data": {
      "text/plain": "  0%|          | 0/1870 [00:00<?, ?it/s]",
      "application/vnd.jupyter.widget-view+json": {
       "version_major": 2,
       "version_minor": 0,
       "model_id": "73a1f7c07eaf4eb1838bb241003925f7"
      }
     },
     "metadata": {},
     "output_type": "display_data"
    },
    {
     "name": "stdout",
     "output_type": "stream",
     "text": [
      "i = 373 position lsq status = 2\n",
      "Error processing\n",
      "Skipped due to errors.\n",
      "Drive: 2020-08-13-21-42-us-ca-mtv-sf-280, Phone: pixel5\n"
     ]
    },
    {
     "data": {
      "text/plain": "  0%|          | 0/1830 [00:00<?, ?it/s]",
      "application/vnd.jupyter.widget-view+json": {
       "version_major": 2,
       "version_minor": 0,
       "model_id": "6222c3d2ebdd420ea20573651e1b6767"
      }
     },
     "metadata": {},
     "output_type": "display_data"
    },
    {
     "name": "stdout",
     "output_type": "stream",
     "text": [
      "Error processing\n",
      "Skipped due to errors.\n",
      "Drive: 2020-12-10-22-17-us-ca-sjc-c, Phone: mi8\n"
     ]
    },
    {
     "data": {
      "text/plain": "  0%|          | 0/1495 [00:00<?, ?it/s]",
      "application/vnd.jupyter.widget-view+json": {
       "version_major": 2,
       "version_minor": 0,
       "model_id": "cbacf00ac24c4f17871dfb99cb43ae27"
      }
     },
     "metadata": {},
     "output_type": "display_data"
    },
    {
     "name": "stdout",
     "output_type": "stream",
     "text": [
      "i = 80 position lsq status = 2\n",
      "i = 90 position lsq status = 2\n",
      "Error processing\n",
      "Skipped due to errors.\n",
      "Drive: 2020-12-10-22-52-us-ca-sjc-c, Phone: mi8\n"
     ]
    },
    {
     "data": {
      "text/plain": "  0%|          | 0/1408 [00:00<?, ?it/s]",
      "application/vnd.jupyter.widget-view+json": {
       "version_major": 2,
       "version_minor": 0,
       "model_id": "a53bcf0c268648fea4577817e934df01"
      }
     },
     "metadata": {},
     "output_type": "display_data"
    },
    {
     "name": "stdout",
     "output_type": "stream",
     "text": [
      "Epoch [20/100], Loss: 13526775103488.0000, Current LR: 0.001\n",
      "Epoch [40/100], Loss: 13526766714880.0000, Current LR: 0.001\n",
      "Epoch [60/100], Loss: 13526758326272.0000, Current LR: 0.001\n",
      "Epoch [80/100], Loss: 13526747840512.0000, Current LR: 0.001\n",
      "Epoch [100/100], Loss: 13526739451904.0000, Current LR: 0.001\n",
      "Processed successfully 6/15.\n",
      "Drive: 2020-12-10-22-52-us-ca-sjc-c, Phone: pixel4\n"
     ]
    },
    {
     "data": {
      "text/plain": "  0%|          | 0/1408 [00:00<?, ?it/s]",
      "application/vnd.jupyter.widget-view+json": {
       "version_major": 2,
       "version_minor": 0,
       "model_id": "e2354222118441d8897fdfc4c106c40d"
      }
     },
     "metadata": {},
     "output_type": "display_data"
    },
    {
     "name": "stdout",
     "output_type": "stream",
     "text": [
      "Epoch [20/100], Loss: 13526730014720.0000, Current LR: 0.001\n",
      "Epoch [40/100], Loss: 13526719528960.0000, Current LR: 0.001\n",
      "Epoch [60/100], Loss: 13526712188928.0000, Current LR: 0.001\n",
      "Epoch [80/100], Loss: 13526700654592.0000, Current LR: 0.001\n",
      "Epoch [100/100], Loss: 13526692265984.0000, Current LR: 0.001\n",
      "Processed successfully 7/16.\n",
      "Drive: 2020-12-10-22-52-us-ca-sjc-c, Phone: pixel4xl\n"
     ]
    },
    {
     "data": {
      "text/plain": "  0%|          | 0/1408 [00:00<?, ?it/s]",
      "application/vnd.jupyter.widget-view+json": {
       "version_major": 2,
       "version_minor": 0,
       "model_id": "11e03284daaf4f0094f43694dca7f551"
      }
     },
     "metadata": {},
     "output_type": "display_data"
    },
    {
     "name": "stdout",
     "output_type": "stream",
     "text": [
      "Epoch [20/100], Loss: 13526676537344.0000, Current LR: 0.001\n",
      "Epoch [40/100], Loss: 13526668148736.0000, Current LR: 0.001\n",
      "Epoch [60/100], Loss: 13526658711552.0000, Current LR: 0.001\n",
      "Epoch [80/100], Loss: 13526647177216.0000, Current LR: 0.001\n",
      "Epoch [100/100], Loss: 13526637740032.0000, Current LR: 0.001\n",
      "Processed successfully 8/17.\n",
      "Drive: 2020-12-10-22-52-us-ca-sjc-c, Phone: pixel5\n"
     ]
    },
    {
     "data": {
      "text/plain": "  0%|          | 0/1408 [00:00<?, ?it/s]",
      "application/vnd.jupyter.widget-view+json": {
       "version_major": 2,
       "version_minor": 0,
       "model_id": "5004e7a6bfe24c9c95b19e16c4665a2e"
      }
     },
     "metadata": {},
     "output_type": "display_data"
    },
    {
     "name": "stdout",
     "output_type": "stream",
     "text": [
      "Epoch [20/100], Loss: 13526634594304.0000, Current LR: 0.001\n",
      "Epoch [40/100], Loss: 13526625157120.0000, Current LR: 0.001\n",
      "Epoch [60/100], Loss: 13526616768512.0000, Current LR: 0.001\n",
      "Epoch [80/100], Loss: 13526606282752.0000, Current LR: 0.001\n",
      "Epoch [100/100], Loss: 13526597894144.0000, Current LR: 0.001\n",
      "Processed successfully 9/18.\n",
      "Drive: 2021-01-04-21-50-us-ca-e1highway280driveroutea, Phone: mi8\n"
     ]
    },
    {
     "data": {
      "text/plain": "  0%|          | 0/2002 [00:00<?, ?it/s]",
      "application/vnd.jupyter.widget-view+json": {
       "version_major": 2,
       "version_minor": 0,
       "model_id": "8e44ea81c99d4fbd9b014ad3a6f39952"
      }
     },
     "metadata": {},
     "output_type": "display_data"
    },
    {
     "name": "stdout",
     "output_type": "stream",
     "text": [
      "Epoch [20/100], Loss: 13526766714880.0000, Current LR: 0.001\n",
      "Epoch [40/100], Loss: 13526756229120.0000, Current LR: 0.001\n",
      "Epoch [60/100], Loss: 13526747840512.0000, Current LR: 0.001\n",
      "Epoch [80/100], Loss: 13526738403328.0000, Current LR: 0.001\n",
      "Epoch [100/100], Loss: 13526728966144.0000, Current LR: 0.001\n",
      "Processed successfully 10/19.\n",
      "Drive: 2021-01-04-21-50-us-ca-e1highway280driveroutea, Phone: pixel4\n"
     ]
    },
    {
     "data": {
      "text/plain": "  0%|          | 0/2004 [00:00<?, ?it/s]",
      "application/vnd.jupyter.widget-view+json": {
       "version_major": 2,
       "version_minor": 0,
       "model_id": "cd6704c8b8c14eeab86f3d995b3f4d3b"
      }
     },
     "metadata": {},
     "output_type": "display_data"
    },
    {
     "name": "stdout",
     "output_type": "stream",
     "text": [
      "Epoch [20/100], Loss: 13526706946048.0000, Current LR: 0.001\n",
      "Epoch [40/100], Loss: 13526697508864.0000, Current LR: 0.001\n",
      "Epoch [60/100], Loss: 13526687023104.0000, Current LR: 0.001\n",
      "Epoch [80/100], Loss: 13526678634496.0000, Current LR: 0.001\n",
      "Epoch [100/100], Loss: 13526668148736.0000, Current LR: 0.001\n",
      "Processed successfully 11/20.\n",
      "Drive: 2021-01-04-21-50-us-ca-e1highway280driveroutea, Phone: pixel5\n"
     ]
    },
    {
     "data": {
      "text/plain": "  0%|          | 0/2002 [00:00<?, ?it/s]",
      "application/vnd.jupyter.widget-view+json": {
       "version_major": 2,
       "version_minor": 0,
       "model_id": "7d61960222ab465e98f5f282d80823d4"
      }
     },
     "metadata": {},
     "output_type": "display_data"
    },
    {
     "name": "stdout",
     "output_type": "stream",
     "text": [
      "Epoch [20/100], Loss: 13526662905856.0000, Current LR: 0.001\n",
      "Epoch [40/100], Loss: 13526651371520.0000, Current LR: 0.001\n",
      "Epoch [60/100], Loss: 13526644031488.0000, Current LR: 0.001\n",
      "Epoch [80/100], Loss: 13526634594304.0000, Current LR: 0.001\n",
      "Epoch [100/100], Loss: 13526627254272.0000, Current LR: 0.001\n",
      "Processed successfully 12/21.\n",
      "Drive: 2021-01-04-22-40-us-ca-mtv-a, Phone: mi8\n"
     ]
    },
    {
     "data": {
      "text/plain": "  0%|          | 0/1856 [00:00<?, ?it/s]",
      "application/vnd.jupyter.widget-view+json": {
       "version_major": 2,
       "version_minor": 0,
       "model_id": "4916b86376de42bda05133ebe5753089"
      }
     },
     "metadata": {},
     "output_type": "display_data"
    },
    {
     "name": "stdout",
     "output_type": "stream",
     "text": [
      "Epoch [20/100], Loss: 13526625157120.0000, Current LR: 0.001\n",
      "Epoch [40/100], Loss: 13526615719936.0000, Current LR: 0.001\n",
      "Epoch [60/100], Loss: 13526606282752.0000, Current LR: 0.001\n",
      "Epoch [80/100], Loss: 13526596845568.0000, Current LR: 0.001\n",
      "Epoch [100/100], Loss: 13526589505536.0000, Current LR: 0.001\n",
      "Processed successfully 13/22.\n",
      "Drive: 2021-01-04-22-40-us-ca-mtv-a, Phone: pixel4\n"
     ]
    },
    {
     "data": {
      "text/plain": "  0%|          | 0/1851 [00:00<?, ?it/s]",
      "application/vnd.jupyter.widget-view+json": {
       "version_major": 2,
       "version_minor": 0,
       "model_id": "15e3134cc69443f5958abfbf6bc6e4d9"
      }
     },
     "metadata": {},
     "output_type": "display_data"
    },
    {
     "name": "stdout",
     "output_type": "stream",
     "text": [
      "Epoch [20/100], Loss: 13526579019776.0000, Current LR: 0.001\n",
      "Epoch [40/100], Loss: 13526569582592.0000, Current LR: 0.001\n",
      "Epoch [60/100], Loss: 13526559096832.0000, Current LR: 0.001\n",
      "Epoch [80/100], Loss: 13526550708224.0000, Current LR: 0.001\n",
      "Epoch [100/100], Loss: 13526543368192.0000, Current LR: 0.001\n",
      "Processed successfully 14/23.\n",
      "Drive: 2021-01-04-22-40-us-ca-mtv-a, Phone: pixel5\n"
     ]
    },
    {
     "data": {
      "text/plain": "  0%|          | 0/1855 [00:00<?, ?it/s]",
      "application/vnd.jupyter.widget-view+json": {
       "version_major": 2,
       "version_minor": 0,
       "model_id": "53eae97474344c28abe936daa8d20fab"
      }
     },
     "metadata": {},
     "output_type": "display_data"
    },
    {
     "name": "stdout",
     "output_type": "stream",
     "text": [
      "Epoch [20/100], Loss: 13526531833856.0000, Current LR: 0.001\n",
      "Epoch [40/100], Loss: 13526522396672.0000, Current LR: 0.001\n",
      "Epoch [60/100], Loss: 13526515056640.0000, Current LR: 0.001\n",
      "Epoch [80/100], Loss: 13526503522304.0000, Current LR: 0.001\n",
      "Epoch [100/100], Loss: 13526495133696.0000, Current LR: 0.001\n",
      "Processed successfully 15/24.\n",
      "Drive: 2021-01-05-21-12-us-ca-mtv-d, Phone: mi8\n"
     ]
    },
    {
     "data": {
      "text/plain": "  0%|          | 0/1302 [00:00<?, ?it/s]",
      "application/vnd.jupyter.widget-view+json": {
       "version_major": 2,
       "version_minor": 0,
       "model_id": "9662b089e55a4d31b94307e002a3e8c4"
      }
     },
     "metadata": {},
     "output_type": "display_data"
    },
    {
     "name": "stdout",
     "output_type": "stream",
     "text": [
      "Epoch [20/100], Loss: 13526257106944.0000, Current LR: 0.001\n",
      "Epoch [40/100], Loss: 13526246621184.0000, Current LR: 0.001\n",
      "Epoch [60/100], Loss: 13526239281152.0000, Current LR: 0.001\n",
      "Epoch [80/100], Loss: 13526229843968.0000, Current LR: 0.001\n",
      "Epoch [100/100], Loss: 13526220406784.0000, Current LR: 0.001\n",
      "Processed successfully 16/25.\n",
      "Drive: 2021-01-05-21-12-us-ca-mtv-d, Phone: pixel4\n"
     ]
    },
    {
     "data": {
      "text/plain": "  0%|          | 0/1299 [00:00<?, ?it/s]",
      "application/vnd.jupyter.widget-view+json": {
       "version_major": 2,
       "version_minor": 0,
       "model_id": "f5ee629c9f5444c98296a37f018efeac"
      }
     },
     "metadata": {},
     "output_type": "display_data"
    },
    {
     "name": "stdout",
     "output_type": "stream",
     "text": [
      "Epoch [20/100], Loss: 13526207823872.0000, Current LR: 0.001\n",
      "Epoch [40/100], Loss: 13526197338112.0000, Current LR: 0.001\n",
      "Epoch [60/100], Loss: 13526187900928.0000, Current LR: 0.001\n",
      "Epoch [80/100], Loss: 13526178463744.0000, Current LR: 0.001\n",
      "Epoch [100/100], Loss: 13526170075136.0000, Current LR: 0.001\n",
      "Processed successfully 17/26.\n",
      "Drive: 2021-01-05-21-52-us-ca-mtv-d, Phone: mi8\n"
     ]
    },
    {
     "data": {
      "text/plain": "  0%|          | 0/1164 [00:00<?, ?it/s]",
      "application/vnd.jupyter.widget-view+json": {
       "version_major": 2,
       "version_minor": 0,
       "model_id": "3f6dd7f6574a491ea8c76dcd87bfae5b"
      }
     },
     "metadata": {},
     "output_type": "display_data"
    },
    {
     "name": "stdout",
     "output_type": "stream",
     "text": [
      "Epoch [20/100], Loss: 13526169026560.0000, Current LR: 0.001\n",
      "Epoch [40/100], Loss: 13526159589376.0000, Current LR: 0.001\n",
      "Epoch [60/100], Loss: 13526151200768.0000, Current LR: 0.001\n",
      "Epoch [80/100], Loss: 13526140715008.0000, Current LR: 0.001\n",
      "Epoch [100/100], Loss: 13526131277824.0000, Current LR: 0.001\n",
      "Processed successfully 18/27.\n",
      "Drive: 2021-01-05-21-52-us-ca-mtv-d, Phone: pixel4\n"
     ]
    },
    {
     "data": {
      "text/plain": "  0%|          | 0/1160 [00:00<?, ?it/s]",
      "application/vnd.jupyter.widget-view+json": {
       "version_major": 2,
       "version_minor": 0,
       "model_id": "b190aec55ad241359b47251fdf5a192a"
      }
     },
     "metadata": {},
     "output_type": "display_data"
    },
    {
     "name": "stdout",
     "output_type": "stream",
     "text": [
      "Epoch [20/100], Loss: 13526117646336.0000, Current LR: 0.001\n",
      "Epoch [40/100], Loss: 13526109257728.0000, Current LR: 0.001\n",
      "Epoch [60/100], Loss: 13526101917696.0000, Current LR: 0.001\n",
      "Epoch [80/100], Loss: 13526090383360.0000, Current LR: 0.001\n",
      "Epoch [100/100], Loss: 13526080946176.0000, Current LR: 0.001\n",
      "Processed successfully 19/28.\n",
      "Drive: 2021-03-10-23-13-us-ca-mtv-h, Phone: mi8\n"
     ]
    },
    {
     "data": {
      "text/plain": "  0%|          | 0/1461 [00:00<?, ?it/s]",
      "application/vnd.jupyter.widget-view+json": {
       "version_major": 2,
       "version_minor": 0,
       "model_id": "bf38d852f3114bb0a1fc682165fbb1ef"
      }
     },
     "metadata": {},
     "output_type": "display_data"
    },
    {
     "name": "stdout",
     "output_type": "stream",
     "text": [
      "Epoch [20/100], Loss: 13526013837312.0000, Current LR: 0.001\n",
      "Epoch [40/100], Loss: 13526004400128.0000, Current LR: 0.001\n",
      "Epoch [60/100], Loss: 13525997060096.0000, Current LR: 0.001\n",
      "Epoch [80/100], Loss: 13525984477184.0000, Current LR: 0.001\n",
      "Epoch [100/100], Loss: 13525977137152.0000, Current LR: 0.001\n",
      "Processed successfully 20/29.\n",
      "Drive: 2021-03-10-23-13-us-ca-mtv-h, Phone: pixel5\n"
     ]
    },
    {
     "data": {
      "text/plain": "  0%|          | 0/1465 [00:00<?, ?it/s]",
      "application/vnd.jupyter.widget-view+json": {
       "version_major": 2,
       "version_minor": 0,
       "model_id": "2dc59094bab940e3819a6fd728b6c021"
      }
     },
     "metadata": {},
     "output_type": "display_data"
    },
    {
     "name": "stdout",
     "output_type": "stream",
     "text": [
      "Epoch [20/100], Loss: 13525973991424.0000, Current LR: 0.001\n",
      "Epoch [40/100], Loss: 13525962457088.0000, Current LR: 0.001\n",
      "Epoch [60/100], Loss: 13525956165632.0000, Current LR: 0.001\n",
      "Epoch [80/100], Loss: 13525945679872.0000, Current LR: 0.001\n",
      "Epoch [100/100], Loss: 13525935194112.0000, Current LR: 0.001\n",
      "Processed successfully 21/30.\n",
      "Drive: 2021-03-16-18-59-us-ca-mtv-a, Phone: mi8\n"
     ]
    },
    {
     "data": {
      "text/plain": "  0%|          | 0/2161 [00:00<?, ?it/s]",
      "application/vnd.jupyter.widget-view+json": {
       "version_major": 2,
       "version_minor": 0,
       "model_id": "49ea2ebc99624b938f1d86e3825b5695"
      }
     },
     "metadata": {},
     "output_type": "display_data"
    },
    {
     "name": "stdout",
     "output_type": "stream",
     "text": [
      "Epoch [20/100], Loss: 13526173220864.0000, Current LR: 0.001\n",
      "Epoch [40/100], Loss: 13526162735104.0000, Current LR: 0.001\n",
      "Epoch [60/100], Loss: 13526155395072.0000, Current LR: 0.001\n",
      "Epoch [80/100], Loss: 13526144909312.0000, Current LR: 0.001\n",
      "Epoch [100/100], Loss: 13526135472128.0000, Current LR: 0.001\n",
      "Processed successfully 22/31.\n",
      "Drive: 2021-03-16-18-59-us-ca-mtv-a, Phone: pixel5\n"
     ]
    },
    {
     "data": {
      "text/plain": "  0%|          | 0/2159 [00:00<?, ?it/s]",
      "application/vnd.jupyter.widget-view+json": {
       "version_major": 2,
       "version_minor": 0,
       "model_id": "cc7660d493de4bdf80fa21e3a61359b9"
      }
     },
     "metadata": {},
     "output_type": "display_data"
    },
    {
     "name": "stdout",
     "output_type": "stream",
     "text": [
      "Epoch [20/100], Loss: 13526120792064.0000, Current LR: 0.001\n",
      "Epoch [40/100], Loss: 13526110306304.0000, Current LR: 0.001\n",
      "Epoch [60/100], Loss: 13526100869120.0000, Current LR: 0.001\n",
      "Epoch [80/100], Loss: 13526094577664.0000, Current LR: 0.001\n",
      "Epoch [100/100], Loss: 13526080946176.0000, Current LR: 0.001\n",
      "Processed successfully 23/32.\n",
      "Drive: 2021-03-16-18-59-us-ca-mtv-a, Phone: sm-g988b\n"
     ]
    },
    {
     "data": {
      "text/plain": "  0%|          | 0/2162 [00:00<?, ?it/s]",
      "application/vnd.jupyter.widget-view+json": {
       "version_major": 2,
       "version_minor": 0,
       "model_id": "a389462394354119ae110f7563a5d006"
      }
     },
     "metadata": {},
     "output_type": "display_data"
    },
    {
     "name": "stdout",
     "output_type": "stream",
     "text": [
      "Epoch [20/100], Loss: 13526087237632.0000, Current LR: 0.001\n",
      "Epoch [40/100], Loss: 13526075703296.0000, Current LR: 0.001\n",
      "Epoch [60/100], Loss: 13526069411840.0000, Current LR: 0.001\n",
      "Epoch [80/100], Loss: 13526058926080.0000, Current LR: 0.001\n",
      "Epoch [100/100], Loss: 13526048440320.0000, Current LR: 0.001\n",
      "Processed successfully 24/33.\n",
      "Drive: 2021-03-16-19-00-us-ca-mtv-a, Phone: pixel4xl\n"
     ]
    },
    {
     "data": {
      "text/plain": "  0%|          | 0/2092 [00:00<?, ?it/s]",
      "application/vnd.jupyter.widget-view+json": {
       "version_major": 2,
       "version_minor": 0,
       "model_id": "5c144fd54f16485ead952c759b34eb42"
      }
     },
     "metadata": {},
     "output_type": "display_data"
    },
    {
     "name": "stdout",
     "output_type": "stream",
     "text": [
      "Epoch [20/100], Loss: 13526030614528.0000, Current LR: 0.001\n",
      "Epoch [40/100], Loss: 13526020128768.0000, Current LR: 0.001\n",
      "Epoch [60/100], Loss: 13526012788736.0000, Current LR: 0.001\n",
      "Epoch [80/100], Loss: 13526003351552.0000, Current LR: 0.001\n",
      "Epoch [100/100], Loss: 13525991817216.0000, Current LR: 0.001\n",
      "Processed successfully 25/34.\n",
      "Drive: 2021-03-16-20-40-us-ca-mtv-b, Phone: mi8\n"
     ]
    },
    {
     "data": {
      "text/plain": "  0%|          | 0/1473 [00:00<?, ?it/s]",
      "application/vnd.jupyter.widget-view+json": {
       "version_major": 2,
       "version_minor": 0,
       "model_id": "e6f3d07747cc4dffa638bb7192973958"
      }
     },
     "metadata": {},
     "output_type": "display_data"
    },
    {
     "name": "stdout",
     "output_type": "stream",
     "text": [
      "i = 1196 position lsq status = 2\n",
      "i = 1236 position lsq status = 2\n",
      "Error processing\n",
      "Skipped due to errors.\n",
      "Drive: 2021-03-16-20-40-us-ca-mtv-b, Phone: pixel4xl\n"
     ]
    },
    {
     "data": {
      "text/plain": "  0%|          | 0/1476 [00:00<?, ?it/s]",
      "application/vnd.jupyter.widget-view+json": {
       "version_major": 2,
       "version_minor": 0,
       "model_id": "44125ce145ab4ecc8e29753d02c3f77a"
      }
     },
     "metadata": {},
     "output_type": "display_data"
    },
    {
     "name": "stdout",
     "output_type": "stream",
     "text": [
      "Epoch [20/100], Loss: 13525383643136.0000, Current LR: 0.001\n",
      "Epoch [40/100], Loss: 13525373157376.0000, Current LR: 0.001\n",
      "Epoch [60/100], Loss: 13525361623040.0000, Current LR: 0.001\n",
      "Epoch [80/100], Loss: 13525353234432.0000, Current LR: 0.001\n",
      "Epoch [100/100], Loss: 13525343797248.0000, Current LR: 0.001\n",
      "Processed successfully 26/36.\n",
      "Drive: 2021-03-16-20-40-us-ca-mtv-b, Phone: pixel5\n"
     ]
    },
    {
     "data": {
      "text/plain": "  0%|          | 0/1470 [00:00<?, ?it/s]",
      "application/vnd.jupyter.widget-view+json": {
       "version_major": 2,
       "version_minor": 0,
       "model_id": "d6ddeb4df56e49b69aa54b55fd0db823"
      }
     },
     "metadata": {},
     "output_type": "display_data"
    },
    {
     "name": "stdout",
     "output_type": "stream",
     "text": [
      "Epoch [20/100], Loss: 13525335408640.0000, Current LR: 0.001\n",
      "Epoch [40/100], Loss: 13525323874304.0000, Current LR: 0.001\n",
      "Epoch [60/100], Loss: 13525315485696.0000, Current LR: 0.001\n",
      "Epoch [80/100], Loss: 13525307097088.0000, Current LR: 0.001\n",
      "Epoch [100/100], Loss: 13525297659904.0000, Current LR: 0.001\n",
      "Processed successfully 27/37.\n",
      "Drive: 2021-04-02-20-43-us-ca-mtv-f, Phone: mi8\n"
     ]
    },
    {
     "data": {
      "text/plain": "  0%|          | 0/2284 [00:00<?, ?it/s]",
      "application/vnd.jupyter.widget-view+json": {
       "version_major": 2,
       "version_minor": 0,
       "model_id": "3a9bbff9fc3645eba77634c81bc238a6"
      }
     },
     "metadata": {},
     "output_type": "display_data"
    },
    {
     "name": "stdout",
     "output_type": "stream",
     "text": [
      "Error processing\n",
      "Skipped due to errors.\n",
      "Drive: 2021-04-02-20-43-us-ca-mtv-f, Phone: pixel5\n"
     ]
    },
    {
     "data": {
      "text/plain": "  0%|          | 0/2284 [00:00<?, ?it/s]",
      "application/vnd.jupyter.widget-view+json": {
       "version_major": 2,
       "version_minor": 0,
       "model_id": "fde5b38d86814d9788acba6ddc8c87d5"
      }
     },
     "metadata": {},
     "output_type": "display_data"
    },
    {
     "name": "stdout",
     "output_type": "stream",
     "text": [
      "Epoch [20/100], Loss: 13525547220992.0000, Current LR: 0.001\n",
      "Epoch [40/100], Loss: 13525536735232.0000, Current LR: 0.001\n",
      "Epoch [60/100], Loss: 13525528346624.0000, Current LR: 0.001\n",
      "Epoch [80/100], Loss: 13525517860864.0000, Current LR: 0.001\n",
      "Epoch [100/100], Loss: 13525508423680.0000, Current LR: 0.001\n",
      "Processed successfully 28/39.\n",
      "Drive: 2021-04-02-20-43-us-ca-mtv-f, Phone: sm-g988b\n"
     ]
    },
    {
     "data": {
      "text/plain": "  0%|          | 0/2285 [00:00<?, ?it/s]",
      "application/vnd.jupyter.widget-view+json": {
       "version_major": 2,
       "version_minor": 0,
       "model_id": "447151b037b340beac486ec5d55d3d53"
      }
     },
     "metadata": {},
     "output_type": "display_data"
    },
    {
     "name": "stdout",
     "output_type": "stream",
     "text": [
      "i = 1013 position lsq status = 2\n",
      "Error processing\n",
      "Skipped due to errors.\n",
      "Drive: 2021-04-08-21-28-us-ca-mtv-k, Phone: pixel5\n"
     ]
    },
    {
     "data": {
      "text/plain": "  0%|          | 0/993 [00:00<?, ?it/s]",
      "application/vnd.jupyter.widget-view+json": {
       "version_major": 2,
       "version_minor": 0,
       "model_id": "f192a30d8dbc486cacc589da8b495605"
      }
     },
     "metadata": {},
     "output_type": "display_data"
    },
    {
     "name": "stdout",
     "output_type": "stream",
     "text": [
      "Epoch [20/100], Loss: 13525408808960.0000, Current LR: 0.001\n",
      "Epoch [40/100], Loss: 13525398323200.0000, Current LR: 0.001\n",
      "Epoch [60/100], Loss: 13525389934592.0000, Current LR: 0.001\n",
      "Epoch [80/100], Loss: 13525380497408.0000, Current LR: 0.001\n",
      "Epoch [100/100], Loss: 13525368963072.0000, Current LR: 0.001\n",
      "Processed successfully 29/41.\n",
      "Drive: 2021-04-08-21-28-us-ca-mtv-k, Phone: sm-g988b\n"
     ]
    },
    {
     "data": {
      "text/plain": "  0%|          | 0/993 [00:00<?, ?it/s]",
      "application/vnd.jupyter.widget-view+json": {
       "version_major": 2,
       "version_minor": 0,
       "model_id": "7782cf2db9aa4396bfb084a14a9b55dd"
      }
     },
     "metadata": {},
     "output_type": "display_data"
    },
    {
     "name": "stdout",
     "output_type": "stream",
     "text": [
      "Epoch [20/100], Loss: 13525361623040.0000, Current LR: 0.001\n",
      "Epoch [40/100], Loss: 13525351137280.0000, Current LR: 0.001\n",
      "Epoch [60/100], Loss: 13525342748672.0000, Current LR: 0.001\n",
      "Epoch [80/100], Loss: 13525332262912.0000, Current LR: 0.001\n",
      "Epoch [100/100], Loss: 13525322825728.0000, Current LR: 0.001\n",
      "Processed successfully 30/42.\n",
      "Drive: 2021-04-26-23-38-us-ca-mtv-h, Phone: mi8\n"
     ]
    },
    {
     "data": {
      "text/plain": "  0%|          | 0/3119 [00:00<?, ?it/s]",
      "application/vnd.jupyter.widget-view+json": {
       "version_major": 2,
       "version_minor": 0,
       "model_id": "f4e9cec9d49142e48bc2e304083b6a3e"
      }
     },
     "metadata": {},
     "output_type": "display_data"
    },
    {
     "name": "stdout",
     "output_type": "stream",
     "text": [
      "Epoch [20/100], Loss: 13525514715136.0000, Current LR: 0.001\n",
      "Epoch [40/100], Loss: 13525503180800.0000, Current LR: 0.001\n",
      "Epoch [60/100], Loss: 13525494792192.0000, Current LR: 0.001\n",
      "Epoch [80/100], Loss: 13525486403584.0000, Current LR: 0.001\n",
      "Epoch [100/100], Loss: 13525474869248.0000, Current LR: 0.001\n",
      "Processed successfully 31/43.\n",
      "Drive: 2021-04-26-23-38-us-ca-mtv-h, Phone: sm-g988b\n"
     ]
    },
    {
     "data": {
      "text/plain": "  0%|          | 0/3121 [00:00<?, ?it/s]",
      "application/vnd.jupyter.widget-view+json": {
       "version_major": 2,
       "version_minor": 0,
       "model_id": "b0f9d01ad22f48b3a90ca5f2c812569b"
      }
     },
     "metadata": {},
     "output_type": "display_data"
    },
    {
     "name": "stdout",
     "output_type": "stream",
     "text": [
      "Epoch [20/100], Loss: 13525463334912.0000, Current LR: 0.001\n",
      "Epoch [40/100], Loss: 13525453897728.0000, Current LR: 0.001\n",
      "Epoch [60/100], Loss: 13525444460544.0000, Current LR: 0.001\n",
      "Epoch [80/100], Loss: 13525435023360.0000, Current LR: 0.001\n",
      "Epoch [100/100], Loss: 13525424537600.0000, Current LR: 0.001\n",
      "Processed successfully 32/44.\n",
      "Drive: 2021-07-14-20-50-us-ca-mtv-e, Phone: pixel4\n"
     ]
    },
    {
     "data": {
      "text/plain": "  0%|          | 0/1188 [00:00<?, ?it/s]",
      "application/vnd.jupyter.widget-view+json": {
       "version_major": 2,
       "version_minor": 0,
       "model_id": "854d2d82003d4f47bce69d06b00fe584"
      }
     },
     "metadata": {},
     "output_type": "display_data"
    },
    {
     "name": "stdout",
     "output_type": "stream",
     "text": [
      "Epoch [20/100], Loss: 13525687730176.0000, Current LR: 0.001\n",
      "Epoch [40/100], Loss: 13525676195840.0000, Current LR: 0.001\n",
      "Epoch [60/100], Loss: 13525668855808.0000, Current LR: 0.001\n",
      "Epoch [80/100], Loss: 13525659418624.0000, Current LR: 0.001\n",
      "Epoch [100/100], Loss: 13525646835712.0000, Current LR: 0.001\n",
      "Processed successfully 33/45.\n",
      "Drive: 2021-07-14-20-50-us-ca-mtv-e, Phone: pixel5\n"
     ]
    },
    {
     "data": {
      "text/plain": "  0%|          | 0/1187 [00:00<?, ?it/s]",
      "application/vnd.jupyter.widget-view+json": {
       "version_major": 2,
       "version_minor": 0,
       "model_id": "2078abd7706b4310aa812d8ce634e51b"
      }
     },
     "metadata": {},
     "output_type": "display_data"
    },
    {
     "name": "stdout",
     "output_type": "stream",
     "text": [
      "Epoch [20/100], Loss: 13525641592832.0000, Current LR: 0.001\n",
      "Epoch [40/100], Loss: 13525632155648.0000, Current LR: 0.001\n",
      "Epoch [60/100], Loss: 13525621669888.0000, Current LR: 0.001\n",
      "Epoch [80/100], Loss: 13525612232704.0000, Current LR: 0.001\n",
      "Epoch [100/100], Loss: 13525602795520.0000, Current LR: 0.001\n",
      "Processed successfully 34/46.\n",
      "Drive: 2021-07-14-20-50-us-ca-mtv-e, Phone: sm-g988b\n"
     ]
    },
    {
     "data": {
      "text/plain": "  0%|          | 0/1165 [00:00<?, ?it/s]",
      "application/vnd.jupyter.widget-view+json": {
       "version_major": 2,
       "version_minor": 0,
       "model_id": "b2258878d12d473eb3e32b0382e3ba4f"
      }
     },
     "metadata": {},
     "output_type": "display_data"
    },
    {
     "name": "stdout",
     "output_type": "stream",
     "text": [
      "i = 558 position lsq status = 2\n",
      "Error processing\n",
      "Skipped due to errors.\n",
      "Drive: 2021-07-19-20-49-us-ca-mtv-a, Phone: mi8\n"
     ]
    },
    {
     "data": {
      "text/plain": "  0%|          | 0/1898 [00:00<?, ?it/s]",
      "application/vnd.jupyter.widget-view+json": {
       "version_major": 2,
       "version_minor": 0,
       "model_id": "d4cd26d66f1642d7bbf7c6dddb2b8f68"
      }
     },
     "metadata": {},
     "output_type": "display_data"
    },
    {
     "name": "stdout",
     "output_type": "stream",
     "text": [
      "Error processing\n",
      "Skipped due to errors.\n",
      "Drive: 2021-07-19-20-49-us-ca-mtv-a, Phone: pixel4\n"
     ]
    },
    {
     "data": {
      "text/plain": "  0%|          | 0/1897 [00:00<?, ?it/s]",
      "application/vnd.jupyter.widget-view+json": {
       "version_major": 2,
       "version_minor": 0,
       "model_id": "5929f9f428374b2082f4b84f85348a61"
      }
     },
     "metadata": {},
     "output_type": "display_data"
    },
    {
     "name": "stdout",
     "output_type": "stream",
     "text": [
      "Epoch [20/100], Loss: 13525589164032.0000, Current LR: 0.001\n",
      "Epoch [40/100], Loss: 13525579726848.0000, Current LR: 0.001\n",
      "Epoch [60/100], Loss: 13525570289664.0000, Current LR: 0.001\n",
      "Epoch [80/100], Loss: 13525561901056.0000, Current LR: 0.001\n",
      "Epoch [100/100], Loss: 13525552463872.0000, Current LR: 0.001\n",
      "Processed successfully 35/49.\n",
      "Drive: 2021-07-19-20-49-us-ca-mtv-a, Phone: pixel5\n"
     ]
    },
    {
     "data": {
      "text/plain": "  0%|          | 0/1897 [00:00<?, ?it/s]",
      "application/vnd.jupyter.widget-view+json": {
       "version_major": 2,
       "version_minor": 0,
       "model_id": "86c7876f11804abab123db47586dc687"
      }
     },
     "metadata": {},
     "output_type": "display_data"
    },
    {
     "name": "stdout",
     "output_type": "stream",
     "text": [
      "Epoch [20/100], Loss: 13525546172416.0000, Current LR: 0.001\n",
      "Epoch [40/100], Loss: 13525535686656.0000, Current LR: 0.001\n",
      "Epoch [60/100], Loss: 13525528346624.0000, Current LR: 0.001\n",
      "Epoch [80/100], Loss: 13525518909440.0000, Current LR: 0.001\n",
      "Epoch [100/100], Loss: 13525509472256.0000, Current LR: 0.001\n",
      "Processed successfully 36/50.\n",
      "Drive: 2021-07-19-20-49-us-ca-mtv-a, Phone: sm-g988b\n"
     ]
    },
    {
     "data": {
      "text/plain": "  0%|          | 0/1898 [00:00<?, ?it/s]",
      "application/vnd.jupyter.widget-view+json": {
       "version_major": 2,
       "version_minor": 0,
       "model_id": "74ed287c2b8f405497360c0ca3f57948"
      }
     },
     "metadata": {},
     "output_type": "display_data"
    },
    {
     "name": "stdout",
     "output_type": "stream",
     "text": [
      "Epoch [20/100], Loss: 13525521006592.0000, Current LR: 0.001\n",
      "Epoch [40/100], Loss: 13525513666560.0000, Current LR: 0.001\n",
      "Epoch [60/100], Loss: 13525504229376.0000, Current LR: 0.001\n",
      "Epoch [80/100], Loss: 13525493743616.0000, Current LR: 0.001\n",
      "Epoch [100/100], Loss: 13525484306432.0000, Current LR: 0.001\n",
      "Processed successfully 37/51.\n",
      "Drive: 2021-07-27-19-49-us-ca-mtv-b, Phone: mi8\n"
     ]
    },
    {
     "data": {
      "text/plain": "  0%|          | 0/1699 [00:00<?, ?it/s]",
      "application/vnd.jupyter.widget-view+json": {
       "version_major": 2,
       "version_minor": 0,
       "model_id": "b19b134b225946f481b5594ad00d5e6e"
      }
     },
     "metadata": {},
     "output_type": "display_data"
    },
    {
     "name": "stdout",
     "output_type": "stream",
     "text": [
      "Epoch [20/100], Loss: 13524866695168.0000, Current LR: 0.001\n",
      "Epoch [40/100], Loss: 13524858306560.0000, Current LR: 0.001\n",
      "Epoch [60/100], Loss: 13524849917952.0000, Current LR: 0.001\n",
      "Epoch [80/100], Loss: 13524839432192.0000, Current LR: 0.001\n",
      "Epoch [100/100], Loss: 13524831043584.0000, Current LR: 0.001\n",
      "Processed successfully 38/52.\n",
      "Drive: 2021-07-27-19-49-us-ca-mtv-b, Phone: pixel4\n"
     ]
    },
    {
     "data": {
      "text/plain": "  0%|          | 0/1678 [00:00<?, ?it/s]",
      "application/vnd.jupyter.widget-view+json": {
       "version_major": 2,
       "version_minor": 0,
       "model_id": "f44244591f2c467e9b07da44e2719ebf"
      }
     },
     "metadata": {},
     "output_type": "display_data"
    },
    {
     "name": "stdout",
     "output_type": "stream",
     "text": [
      "Epoch [20/100], Loss: 13524810072064.0000, Current LR: 0.001\n",
      "Epoch [40/100], Loss: 13524799586304.0000, Current LR: 0.001\n",
      "Epoch [60/100], Loss: 13524792246272.0000, Current LR: 0.001\n",
      "Epoch [80/100], Loss: 13524782809088.0000, Current LR: 0.001\n",
      "Epoch [100/100], Loss: 13524772323328.0000, Current LR: 0.001\n",
      "Processed successfully 39/53.\n",
      "Drive: 2021-07-27-19-49-us-ca-mtv-b, Phone: pixel5\n"
     ]
    },
    {
     "data": {
      "text/plain": "  0%|          | 0/1679 [00:00<?, ?it/s]",
      "application/vnd.jupyter.widget-view+json": {
       "version_major": 2,
       "version_minor": 0,
       "model_id": "c8bb818361c64f7fadacdfde5f4de385"
      }
     },
     "metadata": {},
     "output_type": "display_data"
    },
    {
     "name": "stdout",
     "output_type": "stream",
     "text": [
      "Epoch [20/100], Loss: 13524761837568.0000, Current LR: 0.001\n",
      "Epoch [40/100], Loss: 13524751351808.0000, Current LR: 0.001\n",
      "Epoch [60/100], Loss: 13524741914624.0000, Current LR: 0.001\n",
      "Epoch [80/100], Loss: 13524734574592.0000, Current LR: 0.001\n",
      "Epoch [100/100], Loss: 13524724088832.0000, Current LR: 0.001\n",
      "Processed successfully 40/54.\n",
      "Drive: 2021-08-04-20-40-us-ca-sjc-c, Phone: sm-g988b\n"
     ]
    },
    {
     "data": {
      "text/plain": "  0%|          | 0/1554 [00:00<?, ?it/s]",
      "application/vnd.jupyter.widget-view+json": {
       "version_major": 2,
       "version_minor": 0,
       "model_id": "4180d3f2a48a46919f8eb153199012bd"
      }
     },
     "metadata": {},
     "output_type": "display_data"
    },
    {
     "name": "stdout",
     "output_type": "stream",
     "text": [
      "Error processing\n",
      "Skipped due to errors.\n",
      "Drive: 2021-08-24-20-32-us-ca-mtv-h, Phone: mi8\n"
     ]
    },
    {
     "data": {
      "text/plain": "  0%|          | 0/3140 [00:00<?, ?it/s]",
      "application/vnd.jupyter.widget-view+json": {
       "version_major": 2,
       "version_minor": 0,
       "model_id": "fc20b2339f70444db7fc671110b736b0"
      }
     },
     "metadata": {},
     "output_type": "display_data"
    },
    {
     "name": "stdout",
     "output_type": "stream",
     "text": [
      "i = 1636 position lsq status = 2\n",
      "Error processing\n",
      "Skipped due to errors.\n",
      "Drive: 2021-08-24-20-32-us-ca-mtv-h, Phone: pixel4\n"
     ]
    },
    {
     "data": {
      "text/plain": "  0%|          | 0/3141 [00:00<?, ?it/s]",
      "application/vnd.jupyter.widget-view+json": {
       "version_major": 2,
       "version_minor": 0,
       "model_id": "f550fcdb81be4db087741c9d6edeb337"
      }
     },
     "metadata": {},
     "output_type": "display_data"
    },
    {
     "name": "stdout",
     "output_type": "stream",
     "text": [
      "Epoch [20/100], Loss: 13525048098816.0000, Current LR: 0.001\n",
      "Epoch [40/100], Loss: 13525037613056.0000, Current LR: 0.001\n",
      "Epoch [60/100], Loss: 13525031321600.0000, Current LR: 0.001\n",
      "Epoch [80/100], Loss: 13525018738688.0000, Current LR: 0.001\n",
      "Epoch [100/100], Loss: 13525010350080.0000, Current LR: 0.001\n",
      "Processed successfully 41/57.\n",
      "Drive: 2021-08-24-20-32-us-ca-mtv-h, Phone: pixel5\n"
     ]
    },
    {
     "data": {
      "text/plain": "  0%|          | 0/3140 [00:00<?, ?it/s]",
      "application/vnd.jupyter.widget-view+json": {
       "version_major": 2,
       "version_minor": 0,
       "model_id": "3be129ef01b44e1aa93cac5972597bd9"
      }
     },
     "metadata": {},
     "output_type": "display_data"
    },
    {
     "name": "stdout",
     "output_type": "stream",
     "text": [
      "Epoch [20/100], Loss: 13524998815744.0000, Current LR: 0.001\n",
      "Epoch [40/100], Loss: 13524988329984.0000, Current LR: 0.001\n",
      "Epoch [60/100], Loss: 13524980989952.0000, Current LR: 0.001\n",
      "Epoch [80/100], Loss: 13524971552768.0000, Current LR: 0.001\n",
      "Epoch [100/100], Loss: 13524960018432.0000, Current LR: 0.001\n",
      "Processed successfully 42/58.\n",
      "Drive: 2021-08-24-20-32-us-ca-mtv-h, Phone: sm-g988b\n"
     ]
    },
    {
     "data": {
      "text/plain": "  0%|          | 0/3141 [00:00<?, ?it/s]",
      "application/vnd.jupyter.widget-view+json": {
       "version_major": 2,
       "version_minor": 0,
       "model_id": "aaaa005fd14740c393fd0282c8357ccb"
      }
     },
     "metadata": {},
     "output_type": "display_data"
    },
    {
     "name": "stdout",
     "output_type": "stream",
     "text": [
      "Error processing\n",
      "Skipped due to errors.\n",
      "Drive: 2021-12-07-19-22-us-ca-lax-d, Phone: mi8\n"
     ]
    },
    {
     "data": {
      "text/plain": "  0%|          | 0/1761 [00:00<?, ?it/s]",
      "application/vnd.jupyter.widget-view+json": {
       "version_major": 2,
       "version_minor": 0,
       "model_id": "a90fe9944067431d8bec5003dcdf6e94"
      }
     },
     "metadata": {},
     "output_type": "display_data"
    },
    {
     "name": "stdout",
     "output_type": "stream",
     "text": [
      "i = 342 position lsq status = 2\n",
      "i = 751 position lsq status = 2\n",
      "i = 1584 velocity lsq status = 0\n",
      "Error processing\n",
      "Skipped due to errors.\n",
      "Drive: 2021-12-07-19-22-us-ca-lax-d, Phone: pixel5\n"
     ]
    },
    {
     "data": {
      "text/plain": "  0%|          | 0/1760 [00:00<?, ?it/s]",
      "application/vnd.jupyter.widget-view+json": {
       "version_major": 2,
       "version_minor": 0,
       "model_id": "336e68689579452b9248a26b5929ee6c"
      }
     },
     "metadata": {},
     "output_type": "display_data"
    },
    {
     "name": "stdout",
     "output_type": "stream",
     "text": [
      "Error processing\n",
      "Skipped due to errors.\n",
      "Drive: 2021-12-07-19-22-us-ca-lax-d, Phone: pixel6pro\n"
     ]
    },
    {
     "data": {
      "text/plain": "  0%|          | 0/1761 [00:00<?, ?it/s]",
      "application/vnd.jupyter.widget-view+json": {
       "version_major": 2,
       "version_minor": 0,
       "model_id": "966faab69ede4f47b53dcf6f342f79c9"
      }
     },
     "metadata": {},
     "output_type": "display_data"
    },
    {
     "name": "stdout",
     "output_type": "stream",
     "text": [
      "Epoch [20/100], Loss: 13530826801152.0000, Current LR: 0.001\n",
      "Epoch [40/100], Loss: 13530818412544.0000, Current LR: 0.001\n",
      "Epoch [60/100], Loss: 13530810023936.0000, Current LR: 0.001\n",
      "Epoch [80/100], Loss: 13530799538176.0000, Current LR: 0.001\n",
      "Epoch [100/100], Loss: 13530790100992.0000, Current LR: 0.001\n",
      "Processed successfully 43/62.\n",
      "Drive: 2021-12-07-19-22-us-ca-lax-d, Phone: sm-g988b\n"
     ]
    },
    {
     "data": {
      "text/plain": "  0%|          | 0/1761 [00:00<?, ?it/s]",
      "application/vnd.jupyter.widget-view+json": {
       "version_major": 2,
       "version_minor": 0,
       "model_id": "24ffe211f6d54920ba4eac426e19e766"
      }
     },
     "metadata": {},
     "output_type": "display_data"
    },
    {
     "name": "stdout",
     "output_type": "stream",
     "text": [
      "Epoch [20/100], Loss: 13530794295296.0000, Current LR: 0.001\n",
      "Epoch [40/100], Loss: 13530784858112.0000, Current LR: 0.001\n",
      "Epoch [60/100], Loss: 13530774372352.0000, Current LR: 0.001\n",
      "Epoch [80/100], Loss: 13530767032320.0000, Current LR: 0.001\n",
      "Epoch [100/100], Loss: 13530758643712.0000, Current LR: 0.001\n",
      "Processed successfully 44/63.\n",
      "Drive: 2021-12-07-22-21-us-ca-lax-g, Phone: mi8\n"
     ]
    },
    {
     "data": {
      "text/plain": "  0%|          | 0/1434 [00:00<?, ?it/s]",
      "application/vnd.jupyter.widget-view+json": {
       "version_major": 2,
       "version_minor": 0,
       "model_id": "0438e96ad5954b638b7a94085c82975b"
      }
     },
     "metadata": {},
     "output_type": "display_data"
    },
    {
     "name": "stdout",
     "output_type": "stream",
     "text": [
      "Epoch [20/100], Loss: 13530548928512.0000, Current LR: 0.001\n",
      "Epoch [40/100], Loss: 13530539491328.0000, Current LR: 0.001\n",
      "Epoch [60/100], Loss: 13530529005568.0000, Current LR: 0.001\n",
      "Epoch [80/100], Loss: 13530521665536.0000, Current LR: 0.001\n",
      "Epoch [100/100], Loss: 13530512228352.0000, Current LR: 0.001\n",
      "Processed successfully 45/64.\n",
      "Drive: 2021-12-07-22-21-us-ca-lax-g, Phone: pixel5\n"
     ]
    },
    {
     "data": {
      "text/plain": "  0%|          | 0/1433 [00:00<?, ?it/s]",
      "application/vnd.jupyter.widget-view+json": {
       "version_major": 2,
       "version_minor": 0,
       "model_id": "dc3b9fc4b33a4393b17d45f5bdf46ac1"
      }
     },
     "metadata": {},
     "output_type": "display_data"
    },
    {
     "name": "stdout",
     "output_type": "stream",
     "text": [
      "Epoch [20/100], Loss: 13530498596864.0000, Current LR: 0.001\n",
      "Epoch [40/100], Loss: 13530488111104.0000, Current LR: 0.001\n",
      "Epoch [60/100], Loss: 13530479722496.0000, Current LR: 0.001\n",
      "Epoch [80/100], Loss: 13530472382464.0000, Current LR: 0.001\n",
      "Epoch [100/100], Loss: 13530462945280.0000, Current LR: 0.001\n",
      "Processed successfully 46/65.\n",
      "Drive: 2021-12-07-22-21-us-ca-lax-g, Phone: pixel6pro\n"
     ]
    },
    {
     "data": {
      "text/plain": "  0%|          | 0/1434 [00:00<?, ?it/s]",
      "application/vnd.jupyter.widget-view+json": {
       "version_major": 2,
       "version_minor": 0,
       "model_id": "f4bd91baccd74ac8b3f3a3855c41efbf"
      }
     },
     "metadata": {},
     "output_type": "display_data"
    },
    {
     "name": "stdout",
     "output_type": "stream",
     "text": [
      "Epoch [20/100], Loss: 13530452459520.0000, Current LR: 0.001\n",
      "Epoch [40/100], Loss: 13530441973760.0000, Current LR: 0.001\n",
      "Epoch [60/100], Loss: 13530432536576.0000, Current LR: 0.001\n",
      "Epoch [80/100], Loss: 13530425196544.0000, Current LR: 0.001\n",
      "Epoch [100/100], Loss: 13530415759360.0000, Current LR: 0.001\n",
      "Processed successfully 47/66.\n",
      "Drive: 2021-12-07-22-21-us-ca-lax-g, Phone: sm-g988b\n"
     ]
    },
    {
     "data": {
      "text/plain": "  0%|          | 0/1433 [00:00<?, ?it/s]",
      "application/vnd.jupyter.widget-view+json": {
       "version_major": 2,
       "version_minor": 0,
       "model_id": "e4f3b92031004f869ea19e34a17b7899"
      }
     },
     "metadata": {},
     "output_type": "display_data"
    },
    {
     "name": "stdout",
     "output_type": "stream",
     "text": [
      "Epoch [20/100], Loss: 13530413662208.0000, Current LR: 0.001\n",
      "Epoch [40/100], Loss: 13530404225024.0000, Current LR: 0.001\n",
      "Epoch [60/100], Loss: 13530393739264.0000, Current LR: 0.001\n",
      "Epoch [80/100], Loss: 13530385350656.0000, Current LR: 0.001\n",
      "Epoch [100/100], Loss: 13530375913472.0000, Current LR: 0.001\n",
      "Processed successfully 48/67.\n",
      "Drive: 2021-12-08-17-22-us-ca-lax-a, Phone: pixel5\n"
     ]
    },
    {
     "data": {
      "text/plain": "  0%|          | 0/1442 [00:00<?, ?it/s]",
      "application/vnd.jupyter.widget-view+json": {
       "version_major": 2,
       "version_minor": 0,
       "model_id": "9e20154ecdc04c93b9fa46a1be3875cb"
      }
     },
     "metadata": {},
     "output_type": "display_data"
    },
    {
     "name": "stdout",
     "output_type": "stream",
     "text": [
      "Epoch [20/100], Loss: 13530277347328.0000, Current LR: 0.001\n",
      "Epoch [40/100], Loss: 13530268958720.0000, Current LR: 0.001\n",
      "Epoch [60/100], Loss: 13530259521536.0000, Current LR: 0.001\n",
      "Epoch [80/100], Loss: 13530251132928.0000, Current LR: 0.001\n",
      "Epoch [100/100], Loss: 13530242744320.0000, Current LR: 0.001\n",
      "Processed successfully 49/68.\n",
      "Drive: 2021-12-08-17-22-us-ca-lax-a, Phone: pixel6pro\n"
     ]
    },
    {
     "data": {
      "text/plain": "  0%|          | 0/1442 [00:00<?, ?it/s]",
      "application/vnd.jupyter.widget-view+json": {
       "version_major": 2,
       "version_minor": 0,
       "model_id": "de7eb81d13844bad83cb567823ffe733"
      }
     },
     "metadata": {},
     "output_type": "display_data"
    },
    {
     "name": "stdout",
     "output_type": "stream",
     "text": [
      "i = 137 position lsq status = 2\n",
      "i = 138 position lsq status = 2\n",
      "Error processing\n",
      "Skipped due to errors.\n",
      "Drive: 2021-12-08-18-52-us-ca-lax-b, Phone: mi8\n"
     ]
    },
    {
     "data": {
      "text/plain": "  0%|          | 0/1462 [00:00<?, ?it/s]",
      "application/vnd.jupyter.widget-view+json": {
       "version_major": 2,
       "version_minor": 0,
       "model_id": "d2338c8799fa489ebb5fd0d5ad096770"
      }
     },
     "metadata": {},
     "output_type": "display_data"
    },
    {
     "name": "stdout",
     "output_type": "stream",
     "text": [
      "Epoch [20/100], Loss: 13530240647168.0000, Current LR: 0.001\n",
      "Epoch [40/100], Loss: 13530231209984.0000, Current LR: 0.001\n",
      "Epoch [60/100], Loss: 13530220724224.0000, Current LR: 0.001\n",
      "Epoch [80/100], Loss: 13530212335616.0000, Current LR: 0.001\n",
      "Epoch [100/100], Loss: 13530202898432.0000, Current LR: 0.001\n",
      "Processed successfully 50/70.\n",
      "Drive: 2021-12-08-18-52-us-ca-lax-b, Phone: pixel6pro\n"
     ]
    },
    {
     "data": {
      "text/plain": "  0%|          | 0/1418 [00:00<?, ?it/s]",
      "application/vnd.jupyter.widget-view+json": {
       "version_major": 2,
       "version_minor": 0,
       "model_id": "250ba75d7e094ec68a960fdb8de72e87"
      }
     },
     "metadata": {},
     "output_type": "display_data"
    },
    {
     "name": "stdout",
     "output_type": "stream",
     "text": [
      "Epoch [20/100], Loss: 13530179829760.0000, Current LR: 0.001\n",
      "Epoch [40/100], Loss: 13530171441152.0000, Current LR: 0.001\n",
      "Epoch [60/100], Loss: 13530163052544.0000, Current LR: 0.001\n",
      "Epoch [80/100], Loss: 13530153615360.0000, Current LR: 0.001\n",
      "Epoch [100/100], Loss: 13530143129600.0000, Current LR: 0.001\n",
      "Processed successfully 51/71.\n",
      "Drive: 2021-12-08-20-28-us-ca-lax-c, Phone: pixel5\n"
     ]
    },
    {
     "data": {
      "text/plain": "  0%|          | 0/924 [00:00<?, ?it/s]",
      "application/vnd.jupyter.widget-view+json": {
       "version_major": 2,
       "version_minor": 0,
       "model_id": "f4c58b7a6c694626ab263dcc197267b1"
      }
     },
     "metadata": {},
     "output_type": "display_data"
    },
    {
     "name": "stdout",
     "output_type": "stream",
     "text": [
      "Epoch [20/100], Loss: 13530364379136.0000, Current LR: 0.001\n",
      "Epoch [40/100], Loss: 13530354941952.0000, Current LR: 0.001\n",
      "Epoch [60/100], Loss: 13530346553344.0000, Current LR: 0.001\n",
      "Epoch [80/100], Loss: 13530336067584.0000, Current LR: 0.001\n",
      "Epoch [100/100], Loss: 13530326630400.0000, Current LR: 0.001\n",
      "Processed successfully 52/72.\n",
      "Drive: 2021-12-08-20-28-us-ca-lax-c, Phone: pixel6pro\n"
     ]
    },
    {
     "data": {
      "text/plain": "  0%|          | 0/923 [00:00<?, ?it/s]",
      "application/vnd.jupyter.widget-view+json": {
       "version_major": 2,
       "version_minor": 0,
       "model_id": "183c12f0e4964ab28b19dba9cac1d7a5"
      }
     },
     "metadata": {},
     "output_type": "display_data"
    },
    {
     "name": "stdout",
     "output_type": "stream",
     "text": [
      "Epoch [20/100], Loss: 13530315096064.0000, Current LR: 0.001\n",
      "Epoch [40/100], Loss: 13530305658880.0000, Current LR: 0.001\n",
      "Epoch [60/100], Loss: 13530296221696.0000, Current LR: 0.001\n",
      "Epoch [80/100], Loss: 13530288881664.0000, Current LR: 0.001\n",
      "Epoch [100/100], Loss: 13530277347328.0000, Current LR: 0.001\n",
      "Processed successfully 53/73.\n",
      "Drive: 2021-12-08-20-28-us-ca-lax-c, Phone: sm-g988b\n"
     ]
    },
    {
     "data": {
      "text/plain": "  0%|          | 0/921 [00:00<?, ?it/s]",
      "application/vnd.jupyter.widget-view+json": {
       "version_major": 2,
       "version_minor": 0,
       "model_id": "0e86a36f16624f0dafed2201156b9ee9"
      }
     },
     "metadata": {},
     "output_type": "display_data"
    },
    {
     "name": "stdout",
     "output_type": "stream",
     "text": [
      "Epoch [20/100], Loss: 13530294124544.0000, Current LR: 0.001\n",
      "Epoch [40/100], Loss: 13530287833088.0000, Current LR: 0.001\n",
      "Epoch [60/100], Loss: 13530277347328.0000, Current LR: 0.001\n",
      "Epoch [80/100], Loss: 13530267910144.0000, Current LR: 0.001\n",
      "Epoch [100/100], Loss: 13530258472960.0000, Current LR: 0.001\n",
      "Processed successfully 54/74.\n",
      "Drive: 2021-12-09-17-06-us-ca-lax-e, Phone: pixel5\n"
     ]
    },
    {
     "data": {
      "text/plain": "  0%|          | 0/1101 [00:00<?, ?it/s]",
      "application/vnd.jupyter.widget-view+json": {
       "version_major": 2,
       "version_minor": 0,
       "model_id": "d7719d064e6b473a980fd6729b5142ec"
      }
     },
     "metadata": {},
     "output_type": "display_data"
    },
    {
     "name": "stdout",
     "output_type": "stream",
     "text": [
      "Error processing\n",
      "Skipped due to errors.\n",
      "Drive: 2021-12-09-17-06-us-ca-lax-e, Phone: pixel6pro\n"
     ]
    },
    {
     "data": {
      "text/plain": "  0%|          | 0/1101 [00:00<?, ?it/s]",
      "application/vnd.jupyter.widget-view+json": {
       "version_major": 2,
       "version_minor": 0,
       "model_id": "03831d26c6384d67a5948cd6e4fcb7d0"
      }
     },
     "metadata": {},
     "output_type": "display_data"
    },
    {
     "name": "stdout",
     "output_type": "stream",
     "text": [
      "Epoch [20/100], Loss: 13529934462976.0000, Current LR: 0.001\n",
      "Epoch [40/100], Loss: 13529923977216.0000, Current LR: 0.001\n",
      "Epoch [60/100], Loss: 13529915588608.0000, Current LR: 0.001\n",
      "Epoch [80/100], Loss: 13529907200000.0000, Current LR: 0.001\n",
      "Epoch [100/100], Loss: 13529896714240.0000, Current LR: 0.001\n",
      "Processed successfully 55/76.\n",
      "Drive: 2022-01-11-18-48-us-ca-mtv-n, Phone: mi8\n"
     ]
    },
    {
     "data": {
      "text/plain": "  0%|          | 0/964 [00:00<?, ?it/s]",
      "application/vnd.jupyter.widget-view+json": {
       "version_major": 2,
       "version_minor": 0,
       "model_id": "f4e4f63e09d34f6583b9f8b762426385"
      }
     },
     "metadata": {},
     "output_type": "display_data"
    },
    {
     "name": "stdout",
     "output_type": "stream",
     "text": [
      "Epoch [20/100], Loss: 13524426293248.0000, Current LR: 0.001\n",
      "Epoch [40/100], Loss: 13524413710336.0000, Current LR: 0.001\n",
      "Epoch [60/100], Loss: 13524406370304.0000, Current LR: 0.001\n",
      "Epoch [80/100], Loss: 13524395884544.0000, Current LR: 0.001\n",
      "Epoch [100/100], Loss: 13524386447360.0000, Current LR: 0.001\n",
      "Processed successfully 56/77.\n",
      "Drive: 2022-01-11-18-48-us-ca-mtv-n, Phone: pixel5\n"
     ]
    },
    {
     "data": {
      "text/plain": "  0%|          | 0/989 [00:00<?, ?it/s]",
      "application/vnd.jupyter.widget-view+json": {
       "version_major": 2,
       "version_minor": 0,
       "model_id": "e49a9ace4f094d518760083249afa9ef"
      }
     },
     "metadata": {},
     "output_type": "display_data"
    },
    {
     "name": "stdout",
     "output_type": "stream",
     "text": [
      "Epoch [20/100], Loss: 13524365475840.0000, Current LR: 0.001\n",
      "Epoch [40/100], Loss: 13524352892928.0000, Current LR: 0.001\n",
      "Epoch [60/100], Loss: 13524344504320.0000, Current LR: 0.001\n",
      "Epoch [80/100], Loss: 13524337164288.0000, Current LR: 0.001\n",
      "Epoch [100/100], Loss: 13524325629952.0000, Current LR: 0.001\n",
      "Processed successfully 57/78.\n",
      "Drive: 2022-01-11-18-48-us-ca-mtv-n, Phone: pixel6pro\n"
     ]
    },
    {
     "data": {
      "text/plain": "  0%|          | 0/978 [00:00<?, ?it/s]",
      "application/vnd.jupyter.widget-view+json": {
       "version_major": 2,
       "version_minor": 0,
       "model_id": "61c562258c0043dba3806915902eb5bf"
      }
     },
     "metadata": {},
     "output_type": "display_data"
    },
    {
     "name": "stdout",
     "output_type": "stream",
     "text": [
      "Epoch [20/100], Loss: 13524321435648.0000, Current LR: 0.001\n",
      "Epoch [40/100], Loss: 13524310949888.0000, Current LR: 0.001\n",
      "Epoch [60/100], Loss: 13524301512704.0000, Current LR: 0.001\n",
      "Epoch [80/100], Loss: 13524294172672.0000, Current LR: 0.001\n",
      "Epoch [100/100], Loss: 13524283686912.0000, Current LR: 0.001\n",
      "Processed successfully 58/79.\n",
      "Drive: 2022-01-26-20-02-us-ca-mtv-pe1, Phone: mi8\n"
     ]
    },
    {
     "data": {
      "text/plain": "  0%|          | 0/1699 [00:00<?, ?it/s]",
      "application/vnd.jupyter.widget-view+json": {
       "version_major": 2,
       "version_minor": 0,
       "model_id": "01467f7b8df8437fafb0b6aed2d82bb1"
      }
     },
     "metadata": {},
     "output_type": "display_data"
    },
    {
     "name": "stdout",
     "output_type": "stream",
     "text": [
      "i = 47 position lsq status = 2\n",
      "i = 49 position lsq status = 2\n",
      "Error processing\n",
      "Skipped due to errors.\n",
      "Drive: 2022-01-26-20-02-us-ca-mtv-pe1, Phone: pixel5\n"
     ]
    },
    {
     "data": {
      "text/plain": "  0%|          | 0/1698 [00:00<?, ?it/s]",
      "application/vnd.jupyter.widget-view+json": {
       "version_major": 2,
       "version_minor": 0,
       "model_id": "ca44ac0fb40b40618383c426d94033ce"
      }
     },
     "metadata": {},
     "output_type": "display_data"
    },
    {
     "name": "stdout",
     "output_type": "stream",
     "text": [
      "Error processing\n",
      "Skipped due to errors.\n",
      "Drive: 2022-01-26-20-02-us-ca-mtv-pe1, Phone: sm-g988b\n"
     ]
    },
    {
     "data": {
      "text/plain": "  0%|          | 0/1698 [00:00<?, ?it/s]",
      "application/vnd.jupyter.widget-view+json": {
       "version_major": 2,
       "version_minor": 0,
       "model_id": "a9faa6fb43154f28aaa2e6bdb598f5af"
      }
     },
     "metadata": {},
     "output_type": "display_data"
    },
    {
     "name": "stdout",
     "output_type": "stream",
     "text": [
      "i = 12 position lsq status = 2\n",
      "Error processing\n",
      "Skipped due to errors.\n",
      "Drive: 2022-02-24-18-29-us-ca-lax-o, Phone: mi8\n"
     ]
    },
    {
     "data": {
      "text/plain": "  0%|          | 0/2466 [00:00<?, ?it/s]",
      "application/vnd.jupyter.widget-view+json": {
       "version_major": 2,
       "version_minor": 0,
       "model_id": "609399ad0a834759bb8bf9f059ad691d"
      }
     },
     "metadata": {},
     "output_type": "display_data"
    },
    {
     "name": "stdout",
     "output_type": "stream",
     "text": [
      "i = 1136 position lsq status = 2\n",
      "Error processing\n",
      "Skipped due to errors.\n",
      "Drive: 2022-02-24-18-29-us-ca-lax-o, Phone: pixel5\n"
     ]
    },
    {
     "data": {
      "text/plain": "  0%|          | 0/2439 [00:00<?, ?it/s]",
      "application/vnd.jupyter.widget-view+json": {
       "version_major": 2,
       "version_minor": 0,
       "model_id": "ee24bb1aa0674071881ff8eade8b7c07"
      }
     },
     "metadata": {},
     "output_type": "display_data"
    },
    {
     "name": "stdout",
     "output_type": "stream",
     "text": [
      "Epoch [20/100], Loss: 13529340968960.0000, Current LR: 0.001\n",
      "Epoch [40/100], Loss: 13529334677504.0000, Current LR: 0.001\n",
      "Epoch [60/100], Loss: 13529323143168.0000, Current LR: 0.001\n",
      "Epoch [80/100], Loss: 13529313705984.0000, Current LR: 0.001\n",
      "Epoch [100/100], Loss: 13529306365952.0000, Current LR: 0.001\n",
      "Processed successfully 59/84.\n",
      "Drive: 2022-02-24-18-29-us-ca-lax-o, Phone: pixel6pro\n"
     ]
    },
    {
     "data": {
      "text/plain": "  0%|          | 0/2423 [00:00<?, ?it/s]",
      "application/vnd.jupyter.widget-view+json": {
       "version_major": 2,
       "version_minor": 0,
       "model_id": "eca21b6efd3145b3bb1b9628f8ea4dd0"
      }
     },
     "metadata": {},
     "output_type": "display_data"
    },
    {
     "name": "stdout",
     "output_type": "stream",
     "text": [
      "i = 827 position lsq status = 2\n",
      "i = 878 position lsq status = 2\n",
      "i = 1497 position lsq status = 2\n",
      "Error processing\n",
      "Skipped due to errors.\n",
      "Drive: 2022-04-01-18-22-us-ca-lax-t, Phone: mi8\n"
     ]
    },
    {
     "data": {
      "text/plain": "  0%|          | 0/1463 [00:00<?, ?it/s]",
      "application/vnd.jupyter.widget-view+json": {
       "version_major": 2,
       "version_minor": 0,
       "model_id": "f3d7d6c5fada4687b5b31fba1c3ef710"
      }
     },
     "metadata": {},
     "output_type": "display_data"
    },
    {
     "name": "stdout",
     "output_type": "stream",
     "text": [
      "i = 1389 position lsq status = 2\n",
      "Error processing\n",
      "Skipped due to errors.\n",
      "Drive: 2022-04-01-18-22-us-ca-lax-t, Phone: pixel5\n"
     ]
    },
    {
     "data": {
      "text/plain": "  0%|          | 0/1466 [00:00<?, ?it/s]",
      "application/vnd.jupyter.widget-view+json": {
       "version_major": 2,
       "version_minor": 0,
       "model_id": "8f976054bc3342a58e4cb5284dc64bd2"
      }
     },
     "metadata": {},
     "output_type": "display_data"
    },
    {
     "name": "stdout",
     "output_type": "stream",
     "text": [
      "Epoch [20/100], Loss: 13529277005824.0000, Current LR: 0.001\n",
      "Epoch [40/100], Loss: 13529266520064.0000, Current LR: 0.001\n",
      "Epoch [60/100], Loss: 13529259180032.0000, Current LR: 0.001\n",
      "Epoch [80/100], Loss: 13529249742848.0000, Current LR: 0.001\n",
      "Epoch [100/100], Loss: 13529240305664.0000, Current LR: 0.001\n",
      "Processed successfully 60/87.\n",
      "Drive: 2022-04-01-18-22-us-ca-lax-t, Phone: pixel6pro\n"
     ]
    },
    {
     "data": {
      "text/plain": "  0%|          | 0/1466 [00:00<?, ?it/s]",
      "application/vnd.jupyter.widget-view+json": {
       "version_major": 2,
       "version_minor": 0,
       "model_id": "123620ee7f384cf19de7890ebc068c57"
      }
     },
     "metadata": {},
     "output_type": "display_data"
    },
    {
     "name": "stdout",
     "output_type": "stream",
     "text": [
      "Error processing\n",
      "Skipped due to errors.\n",
      "Drive: 2022-05-13-20-57-us-ca-mtv-pe1, Phone: pixel6pro\n"
     ]
    },
    {
     "data": {
      "text/plain": "  0%|          | 0/2180 [00:00<?, ?it/s]",
      "application/vnd.jupyter.widget-view+json": {
       "version_major": 2,
       "version_minor": 0,
       "model_id": "d67a882d6e69467a886e2eca93440f33"
      }
     },
     "metadata": {},
     "output_type": "display_data"
    },
    {
     "name": "stdout",
     "output_type": "stream",
     "text": [
      "Error processing\n",
      "Skipped due to errors.\n",
      "Drive: 2022-05-13-20-57-us-ca-mtv-pe1, Phone: samsungs21ultra\n"
     ]
    },
    {
     "data": {
      "text/plain": "  0%|          | 0/2183 [00:00<?, ?it/s]",
      "application/vnd.jupyter.widget-view+json": {
       "version_major": 2,
       "version_minor": 0,
       "model_id": "2373d20d39cf4c07b1041e9af43c2e9d"
      }
     },
     "metadata": {},
     "output_type": "display_data"
    },
    {
     "name": "stdout",
     "output_type": "stream",
     "text": [
      "Epoch [20/100], Loss: 13524354990080.0000, Current LR: 0.001\n",
      "Epoch [40/100], Loss: 13524344504320.0000, Current LR: 0.001\n",
      "Epoch [60/100], Loss: 13524337164288.0000, Current LR: 0.001\n",
      "Epoch [80/100], Loss: 13524326678528.0000, Current LR: 0.001\n",
      "Epoch [100/100], Loss: 13524317241344.0000, Current LR: 0.001\n",
      "Processed successfully 61/90.\n",
      "Drive: 2022-05-13-20-57-us-ca-mtv-pe1, Phone: sm-g988b\n"
     ]
    },
    {
     "data": {
      "text/plain": "  0%|          | 0/2182 [00:00<?, ?it/s]",
      "application/vnd.jupyter.widget-view+json": {
       "version_major": 2,
       "version_minor": 0,
       "model_id": "41d35933022f497c893680bbdf9739d5"
      }
     },
     "metadata": {},
     "output_type": "display_data"
    },
    {
     "name": "stdout",
     "output_type": "stream",
     "text": [
      "Epoch [20/100], Loss: 13524292075520.0000, Current LR: 0.001\n",
      "Epoch [40/100], Loss: 13524282638336.0000, Current LR: 0.001\n",
      "Epoch [60/100], Loss: 13524272152576.0000, Current LR: 0.001\n",
      "Epoch [80/100], Loss: 13524262715392.0000, Current LR: 0.001\n",
      "Epoch [100/100], Loss: 13524253278208.0000, Current LR: 0.001\n",
      "Processed successfully 62/91.\n",
      "Drive: 2022-07-26-21-01-us-ca-sjc-s, Phone: pixel5\n"
     ]
    },
    {
     "data": {
      "text/plain": "  0%|          | 0/1509 [00:00<?, ?it/s]",
      "application/vnd.jupyter.widget-view+json": {
       "version_major": 2,
       "version_minor": 0,
       "model_id": "6c5e3b76010545f6863dd39ced2b7aed"
      }
     },
     "metadata": {},
     "output_type": "display_data"
    },
    {
     "name": "stdout",
     "output_type": "stream",
     "text": [
      "Error processing\n",
      "Skipped due to errors.\n",
      "Drive: 2022-07-26-21-01-us-ca-sjc-s, Phone: samsunga325g\n"
     ]
    },
    {
     "data": {
      "text/plain": "  0%|          | 0/1512 [00:00<?, ?it/s]",
      "application/vnd.jupyter.widget-view+json": {
       "version_major": 2,
       "version_minor": 0,
       "model_id": "28550cd62a3744cf9cab5cac2d51fb47"
      }
     },
     "metadata": {},
     "output_type": "display_data"
    },
    {
     "name": "stdout",
     "output_type": "stream",
     "text": [
      "Error processing\n",
      "Skipped due to errors.\n",
      "Drive: 2022-08-04-20-07-us-ca-sjc-q, Phone: mi8\n"
     ]
    },
    {
     "data": {
      "text/plain": "  0%|          | 0/1417 [00:00<?, ?it/s]",
      "application/vnd.jupyter.widget-view+json": {
       "version_major": 2,
       "version_minor": 0,
       "model_id": "4989e6b3fd6b451b99bf9b3d618fbb12"
      }
     },
     "metadata": {},
     "output_type": "display_data"
    },
    {
     "name": "stdout",
     "output_type": "stream",
     "text": [
      "i = 49 position lsq status = 2\n",
      "i = 51 position lsq status = 2\n",
      "Error processing\n",
      "Skipped due to errors.\n",
      "Drive: 2022-08-04-20-07-us-ca-sjc-q, Phone: pixel5\n"
     ]
    },
    {
     "data": {
      "text/plain": "  0%|          | 0/1450 [00:00<?, ?it/s]",
      "application/vnd.jupyter.widget-view+json": {
       "version_major": 2,
       "version_minor": 0,
       "model_id": "cc5dece7899542bb996511a8ca87fc59"
      }
     },
     "metadata": {},
     "output_type": "display_data"
    },
    {
     "name": "stdout",
     "output_type": "stream",
     "text": [
      "Epoch [20/100], Loss: 13524075020288.0000, Current LR: 0.001\n",
      "Epoch [40/100], Loss: 13524064534528.0000, Current LR: 0.001\n",
      "Epoch [60/100], Loss: 13524056145920.0000, Current LR: 0.001\n",
      "Epoch [80/100], Loss: 13524048805888.0000, Current LR: 0.001\n",
      "Epoch [100/100], Loss: 13524039368704.0000, Current LR: 0.001\n",
      "Processed successfully 63/95.\n",
      "Drive: 2022-08-04-20-07-us-ca-sjc-q, Phone: sm-a325f\n"
     ]
    },
    {
     "data": {
      "text/plain": "  0%|          | 0/1452 [00:00<?, ?it/s]",
      "application/vnd.jupyter.widget-view+json": {
       "version_major": 2,
       "version_minor": 0,
       "model_id": "03b3c39d6e9248d19361e08d657126e1"
      }
     },
     "metadata": {},
     "output_type": "display_data"
    },
    {
     "name": "stdout",
     "output_type": "stream",
     "text": [
      "Error processing\n",
      "Skipped due to errors.\n",
      "Drive: 2022-10-06-21-51-us-ca-mtv-n, Phone: sm-a205u\n"
     ]
    },
    {
     "data": {
      "text/plain": "  0%|          | 0/1213 [00:00<?, ?it/s]",
      "application/vnd.jupyter.widget-view+json": {
       "version_major": 2,
       "version_minor": 0,
       "model_id": "e8667f1fd8dd445cac4851a7e6bf08c7"
      }
     },
     "metadata": {},
     "output_type": "display_data"
    },
    {
     "name": "stdout",
     "output_type": "stream",
     "text": [
      "Epoch [20/100], Loss: 13524095991808.0000, Current LR: 0.001\n",
      "Epoch [40/100], Loss: 13524089700352.0000, Current LR: 0.001\n",
      "Epoch [60/100], Loss: 13524077117440.0000, Current LR: 0.001\n",
      "Epoch [80/100], Loss: 13524069777408.0000, Current LR: 0.001\n",
      "Epoch [100/100], Loss: 13524058243072.0000, Current LR: 0.001\n",
      "Processed successfully 64/97.\n",
      "Drive: 2022-10-06-21-51-us-ca-mtv-n, Phone: sm-a217m\n"
     ]
    },
    {
     "data": {
      "text/plain": "  0%|          | 0/1222 [00:00<?, ?it/s]",
      "application/vnd.jupyter.widget-view+json": {
       "version_major": 2,
       "version_minor": 0,
       "model_id": "7981775cb1674727ba86d90a35c76eaa"
      }
     },
     "metadata": {},
     "output_type": "display_data"
    },
    {
     "name": "stdout",
     "output_type": "stream",
     "text": [
      "Epoch [20/100], Loss: 13524037271552.0000, Current LR: 0.001\n",
      "Epoch [40/100], Loss: 13524024688640.0000, Current LR: 0.001\n",
      "Epoch [60/100], Loss: 13524018397184.0000, Current LR: 0.001\n",
      "Epoch [80/100], Loss: 13524005814272.0000, Current LR: 0.001\n",
      "Epoch [100/100], Loss: 13523999522816.0000, Current LR: 0.001\n",
      "Processed successfully 65/98.\n",
      "Drive: 2022-10-06-21-51-us-ca-mtv-n, Phone: sm-a325f\n"
     ]
    },
    {
     "data": {
      "text/plain": "  0%|          | 0/1230 [00:00<?, ?it/s]",
      "application/vnd.jupyter.widget-view+json": {
       "version_major": 2,
       "version_minor": 0,
       "model_id": "be352237b28647b0a52e1adddb10d0ad"
      }
     },
     "metadata": {},
     "output_type": "display_data"
    },
    {
     "name": "stdout",
     "output_type": "stream",
     "text": [
      "i = 2 position lsq status = 0\n",
      "Error processing\n",
      "Skipped due to errors.\n",
      "Drive: 2022-11-15-00-53-us-ca-mtv-a, Phone: pixel5\n"
     ]
    },
    {
     "data": {
      "text/plain": "  0%|          | 0/1230 [00:00<?, ?it/s]",
      "application/vnd.jupyter.widget-view+json": {
       "version_major": 2,
       "version_minor": 0,
       "model_id": "95cf3913f461456f907ef60f7206018b"
      }
     },
     "metadata": {},
     "output_type": "display_data"
    },
    {
     "name": "stdout",
     "output_type": "stream",
     "text": [
      "Epoch [20/100], Loss: 13523933462528.0000, Current LR: 0.001\n",
      "Epoch [40/100], Loss: 13523922976768.0000, Current LR: 0.001\n",
      "Epoch [60/100], Loss: 13523914588160.0000, Current LR: 0.001\n",
      "Epoch [80/100], Loss: 13523904102400.0000, Current LR: 0.001\n",
      "Epoch [100/100], Loss: 13523895713792.0000, Current LR: 0.001\n",
      "Processed successfully 66/100.\n",
      "Drive: 2022-11-15-00-53-us-ca-mtv-a, Phone: pixel7\n"
     ]
    },
    {
     "data": {
      "text/plain": "  0%|          | 0/1230 [00:00<?, ?it/s]",
      "application/vnd.jupyter.widget-view+json": {
       "version_major": 2,
       "version_minor": 0,
       "model_id": "b2ccdc0a0c29499ca6d555677ef115ad"
      }
     },
     "metadata": {},
     "output_type": "display_data"
    },
    {
     "name": "stdout",
     "output_type": "stream",
     "text": [
      "Epoch [20/100], Loss: 13523866353664.0000, Current LR: 0.001\n",
      "Epoch [40/100], Loss: 13523856916480.0000, Current LR: 0.001\n",
      "Epoch [60/100], Loss: 13523846430720.0000, Current LR: 0.001\n",
      "Epoch [80/100], Loss: 13523838042112.0000, Current LR: 0.001\n",
      "Epoch [100/100], Loss: 13523828604928.0000, Current LR: 0.001\n",
      "Processed successfully 67/101.\n",
      "Drive: 2022-11-15-00-53-us-ca-mtv-a, Phone: pixel7pro\n"
     ]
    },
    {
     "data": {
      "text/plain": "  0%|          | 0/1231 [00:00<?, ?it/s]",
      "application/vnd.jupyter.widget-view+json": {
       "version_major": 2,
       "version_minor": 0,
       "model_id": "4ea0a1592ca9435493d5cf8334adba2f"
      }
     },
     "metadata": {},
     "output_type": "display_data"
    },
    {
     "name": "stdout",
     "output_type": "stream",
     "text": [
      "Epoch [20/100], Loss: 13523835944960.0000, Current LR: 0.001\n",
      "Epoch [40/100], Loss: 13523826507776.0000, Current LR: 0.001\n",
      "Epoch [60/100], Loss: 13523818119168.0000, Current LR: 0.001\n",
      "Epoch [80/100], Loss: 13523806584832.0000, Current LR: 0.001\n",
      "Epoch [100/100], Loss: 13523798196224.0000, Current LR: 0.001\n",
      "Processed successfully 68/102.\n",
      "Drive: 2023-03-08-21-34-us-ca-mtv-u, Phone: pixel5\n"
     ]
    },
    {
     "data": {
      "text/plain": "  0%|          | 0/1102 [00:00<?, ?it/s]",
      "application/vnd.jupyter.widget-view+json": {
       "version_major": 2,
       "version_minor": 0,
       "model_id": "14cd00aed30045f091745b1f3e76f5f9"
      }
     },
     "metadata": {},
     "output_type": "display_data"
    },
    {
     "name": "stdout",
     "output_type": "stream",
     "text": [
      "Epoch [20/100], Loss: 13523658735616.0000, Current LR: 0.001\n",
      "Epoch [40/100], Loss: 13523648249856.0000, Current LR: 0.001\n",
      "Epoch [60/100], Loss: 13523640909824.0000, Current LR: 0.001\n",
      "Epoch [80/100], Loss: 13523630424064.0000, Current LR: 0.001\n",
      "Epoch [100/100], Loss: 13523620986880.0000, Current LR: 0.001\n",
      "Processed successfully 69/103.\n",
      "Drive: 2023-03-08-21-34-us-ca-mtv-u, Phone: pixel6pro\n"
     ]
    },
    {
     "data": {
      "text/plain": "  0%|          | 0/1102 [00:00<?, ?it/s]",
      "application/vnd.jupyter.widget-view+json": {
       "version_major": 2,
       "version_minor": 0,
       "model_id": "bfc491e5db564fbfac90b948d3dc9926"
      }
     },
     "metadata": {},
     "output_type": "display_data"
    },
    {
     "name": "stdout",
     "output_type": "stream",
     "text": [
      "Epoch [20/100], Loss: 13523602112512.0000, Current LR: 0.001\n",
      "Epoch [40/100], Loss: 13523593723904.0000, Current LR: 0.001\n",
      "Epoch [60/100], Loss: 13523583238144.0000, Current LR: 0.001\n",
      "Epoch [80/100], Loss: 13523575898112.0000, Current LR: 0.001\n",
      "Epoch [100/100], Loss: 13523567509504.0000, Current LR: 0.001\n",
      "Processed successfully 70/104.\n",
      "Drive: 2023-03-08-21-34-us-ca-mtv-u, Phone: pixel7pro\n"
     ]
    },
    {
     "data": {
      "text/plain": "  0%|          | 0/1100 [00:00<?, ?it/s]",
      "application/vnd.jupyter.widget-view+json": {
       "version_major": 2,
       "version_minor": 0,
       "model_id": "fba1405ea07c4d77a302678b8e25155b"
      }
     },
     "metadata": {},
     "output_type": "display_data"
    },
    {
     "name": "stdout",
     "output_type": "stream",
     "text": [
      "Epoch [20/100], Loss: 13523558072320.0000, Current LR: 0.001\n",
      "Epoch [40/100], Loss: 13523547586560.0000, Current LR: 0.001\n",
      "Epoch [60/100], Loss: 13523541295104.0000, Current LR: 0.001\n",
      "Epoch [80/100], Loss: 13523530809344.0000, Current LR: 0.001\n",
      "Epoch [100/100], Loss: 13523520323584.0000, Current LR: 0.001\n",
      "Processed successfully 71/105.\n",
      "Drive: 2023-05-09-21-32-us-ca-mtv-pe1, Phone: pixel5\n"
     ]
    },
    {
     "data": {
      "text/plain": "  0%|          | 0/2132 [00:00<?, ?it/s]",
      "application/vnd.jupyter.widget-view+json": {
       "version_major": 2,
       "version_minor": 0,
       "model_id": "b5b2fbc1377c45b5821001b9bf8bc6c0"
      }
     },
     "metadata": {},
     "output_type": "display_data"
    },
    {
     "name": "stdout",
     "output_type": "stream",
     "text": [
      "Error processing\n",
      "Skipped due to errors.\n",
      "Drive: 2023-05-09-21-32-us-ca-mtv-pe1, Phone: pixel7pro\n"
     ]
    },
    {
     "data": {
      "text/plain": "  0%|          | 0/2130 [00:00<?, ?it/s]",
      "application/vnd.jupyter.widget-view+json": {
       "version_major": 2,
       "version_minor": 0,
       "model_id": "e2f9cb0decb34a6688ebc2793ec83162"
      }
     },
     "metadata": {},
     "output_type": "display_data"
    },
    {
     "name": "stdout",
     "output_type": "stream",
     "text": [
      "Epoch [20/100], Loss: 13523819167744.0000, Current LR: 0.001\n",
      "Epoch [40/100], Loss: 13523807633408.0000, Current LR: 0.001\n",
      "Epoch [60/100], Loss: 13523800293376.0000, Current LR: 0.001\n",
      "Epoch [80/100], Loss: 13523788759040.0000, Current LR: 0.001\n",
      "Epoch [100/100], Loss: 13523781419008.0000, Current LR: 0.001\n",
      "Processed successfully 72/107.\n",
      "Drive: 2023-05-09-21-32-us-ca-mtv-pe1, Phone: samsungs22ultra\n"
     ]
    },
    {
     "data": {
      "text/plain": "  0%|          | 0/2133 [00:00<?, ?it/s]",
      "application/vnd.jupyter.widget-view+json": {
       "version_major": 2,
       "version_minor": 0,
       "model_id": "3103e74d98c14dab843c5d7d6c64f98a"
      }
     },
     "metadata": {},
     "output_type": "display_data"
    },
    {
     "name": "stdout",
     "output_type": "stream",
     "text": [
      "Epoch [20/100], Loss: 13523797147648.0000, Current LR: 0.001\n",
      "Epoch [40/100], Loss: 13523787710464.0000, Current LR: 0.001\n",
      "Epoch [60/100], Loss: 13523780370432.0000, Current LR: 0.001\n",
      "Epoch [80/100], Loss: 13523769884672.0000, Current LR: 0.001\n",
      "Epoch [100/100], Loss: 13523760447488.0000, Current LR: 0.001\n",
      "Processed successfully 73/108.\n",
      "Drive: 2023-05-16-19-54-us-ca-mtv-xe1, Phone: pixel5\n"
     ]
    },
    {
     "data": {
      "text/plain": "  0%|          | 0/2323 [00:00<?, ?it/s]",
      "application/vnd.jupyter.widget-view+json": {
       "version_major": 2,
       "version_minor": 0,
       "model_id": "b84c2fab0a4c4be0a8732eaff7574a02"
      }
     },
     "metadata": {},
     "output_type": "display_data"
    },
    {
     "name": "stdout",
     "output_type": "stream",
     "text": [
      "Error processing\n",
      "Skipped due to errors.\n",
      "Drive: 2023-05-16-19-55-us-ca-mtv-xe1, Phone: pixel7pro\n"
     ]
    },
    {
     "data": {
      "text/plain": "  0%|          | 0/2323 [00:00<?, ?it/s]",
      "application/vnd.jupyter.widget-view+json": {
       "version_major": 2,
       "version_minor": 0,
       "model_id": "a1c741e7f1404802ba8a3bf740dc3913"
      }
     },
     "metadata": {},
     "output_type": "display_data"
    },
    {
     "name": "stdout",
     "output_type": "stream",
     "text": [
      "Epoch [20/100], Loss: 13523692290048.0000, Current LR: 0.001\n",
      "Epoch [40/100], Loss: 13523684950016.0000, Current LR: 0.001\n",
      "Epoch [60/100], Loss: 13523674464256.0000, Current LR: 0.001\n",
      "Epoch [80/100], Loss: 13523665027072.0000, Current LR: 0.001\n",
      "Epoch [100/100], Loss: 13523655589888.0000, Current LR: 0.001\n",
      "Processed successfully 74/110.\n",
      "Drive: 2023-05-19-20-10-us-ca-mtv-ie2, Phone: pixel5\n"
     ]
    },
    {
     "data": {
      "text/plain": "  0%|          | 0/1231 [00:00<?, ?it/s]",
      "application/vnd.jupyter.widget-view+json": {
       "version_major": 2,
       "version_minor": 0,
       "model_id": "5113ae0397244b688e927198755e6a85"
      }
     },
     "metadata": {},
     "output_type": "display_data"
    },
    {
     "name": "stdout",
     "output_type": "stream",
     "text": [
      "Epoch [20/100], Loss: 13523335774208.0000, Current LR: 0.001\n",
      "Epoch [40/100], Loss: 13523327385600.0000, Current LR: 0.001\n",
      "Epoch [60/100], Loss: 13523316899840.0000, Current LR: 0.001\n",
      "Epoch [80/100], Loss: 13523308511232.0000, Current LR: 0.001\n",
      "Epoch [100/100], Loss: 13523299074048.0000, Current LR: 0.001\n",
      "Processed successfully 75/111.\n",
      "Drive: 2023-05-19-20-10-us-ca-mtv-ie2, Phone: pixel7pro\n"
     ]
    },
    {
     "data": {
      "text/plain": "  0%|          | 0/1233 [00:00<?, ?it/s]",
      "application/vnd.jupyter.widget-view+json": {
       "version_major": 2,
       "version_minor": 0,
       "model_id": "8d74f7cbce34418cbf11a909799d4dd9"
      }
     },
     "metadata": {},
     "output_type": "display_data"
    },
    {
     "name": "stdout",
     "output_type": "stream",
     "text": [
      "Epoch [20/100], Loss: 13523314802688.0000, Current LR: 0.001\n",
      "Epoch [40/100], Loss: 13523305365504.0000, Current LR: 0.001\n",
      "Epoch [60/100], Loss: 13523295928320.0000, Current LR: 0.001\n",
      "Epoch [80/100], Loss: 13523286491136.0000, Current LR: 0.001\n",
      "Epoch [100/100], Loss: 13523277053952.0000, Current LR: 0.001\n",
      "Processed successfully 76/112.\n",
      "Drive: 2023-05-19-20-10-us-ca-mtv-ie2, Phone: sm-s908b\n"
     ]
    },
    {
     "data": {
      "text/plain": "  0%|          | 0/1229 [00:00<?, ?it/s]",
      "application/vnd.jupyter.widget-view+json": {
       "version_major": 2,
       "version_minor": 0,
       "model_id": "8975111d8bc4469f9c8054c8b34b0496"
      }
     },
     "metadata": {},
     "output_type": "display_data"
    },
    {
     "name": "stdout",
     "output_type": "stream",
     "text": [
      "Epoch [20/100], Loss: 13523306414080.0000, Current LR: 0.001\n",
      "Epoch [40/100], Loss: 13523296976896.0000, Current LR: 0.001\n",
      "Epoch [60/100], Loss: 13523287539712.0000, Current LR: 0.001\n",
      "Epoch [80/100], Loss: 13523278102528.0000, Current LR: 0.001\n",
      "Epoch [100/100], Loss: 13523267616768.0000, Current LR: 0.001\n",
      "Processed successfully 77/113.\n",
      "Drive: 2023-05-23-19-16-us-ca-mtv-ie2, Phone: pixel5\n"
     ]
    },
    {
     "data": {
      "text/plain": "  0%|          | 0/1071 [00:00<?, ?it/s]",
      "application/vnd.jupyter.widget-view+json": {
       "version_major": 2,
       "version_minor": 0,
       "model_id": "58b9690e269d462fb484a696c1478a7a"
      }
     },
     "metadata": {},
     "output_type": "display_data"
    },
    {
     "name": "stdout",
     "output_type": "stream",
     "text": [
      "Epoch [20/100], Loss: 13523197362176.0000, Current LR: 0.001\n",
      "Epoch [40/100], Loss: 13523186876416.0000, Current LR: 0.001\n",
      "Epoch [60/100], Loss: 13523178487808.0000, Current LR: 0.001\n",
      "Epoch [80/100], Loss: 13523168002048.0000, Current LR: 0.001\n",
      "Epoch [100/100], Loss: 13523159613440.0000, Current LR: 0.001\n",
      "Processed successfully 78/114.\n",
      "Drive: 2023-05-23-19-16-us-ca-mtv-ie2, Phone: sm-s908b\n"
     ]
    },
    {
     "data": {
      "text/plain": "  0%|          | 0/1074 [00:00<?, ?it/s]",
      "application/vnd.jupyter.widget-view+json": {
       "version_major": 2,
       "version_minor": 0,
       "model_id": "2735fcd04c864fc986c8c6ab3aec9d27"
      }
     },
     "metadata": {},
     "output_type": "display_data"
    },
    {
     "name": "stdout",
     "output_type": "stream",
     "text": [
      "Epoch [20/100], Loss: 13523170099200.0000, Current LR: 0.001\n",
      "Epoch [40/100], Loss: 13523160662016.0000, Current LR: 0.001\n",
      "Epoch [60/100], Loss: 13523151224832.0000, Current LR: 0.001\n",
      "Epoch [80/100], Loss: 13523140739072.0000, Current LR: 0.001\n",
      "Epoch [100/100], Loss: 13523132350464.0000, Current LR: 0.001\n",
      "Processed successfully 79/115.\n",
      "Drive: 2023-05-23-19-56-us-ca-mtv-ie2, Phone: sm-a226b\n"
     ]
    },
    {
     "data": {
      "text/plain": "  0%|          | 0/1112 [00:00<?, ?it/s]",
      "application/vnd.jupyter.widget-view+json": {
       "version_major": 2,
       "version_minor": 0,
       "model_id": "9dd73016f9a34db9b8f4d4a31d6b8a98"
      }
     },
     "metadata": {},
     "output_type": "display_data"
    },
    {
     "name": "stdout",
     "output_type": "stream",
     "text": [
      "Epoch [20/100], Loss: 13523105087488.0000, Current LR: 0.001\n",
      "Epoch [40/100], Loss: 13523095650304.0000, Current LR: 0.001\n",
      "Epoch [60/100], Loss: 13523085164544.0000, Current LR: 0.001\n",
      "Epoch [80/100], Loss: 13523075727360.0000, Current LR: 0.001\n",
      "Epoch [100/100], Loss: 13523067338752.0000, Current LR: 0.001\n",
      "Processed successfully 80/116.\n",
      "Drive: 2023-05-23-19-56-us-ca-mtv-ie2, Phone: sm-a505g\n"
     ]
    },
    {
     "data": {
      "text/plain": "  0%|          | 0/1114 [00:00<?, ?it/s]",
      "application/vnd.jupyter.widget-view+json": {
       "version_major": 2,
       "version_minor": 0,
       "model_id": "3052182ffc4440698bd1c9bda6d3f397"
      }
     },
     "metadata": {},
     "output_type": "display_data"
    },
    {
     "name": "stdout",
     "output_type": "stream",
     "text": [
      "i = 15 position lsq status = 2\n",
      "Error processing\n",
      "Skipped due to errors.\n",
      "Drive: 2023-05-23-19-56-us-ca-mtv-ie2, Phone: sm-a600t\n"
     ]
    },
    {
     "data": {
      "text/plain": "  0%|          | 0/1117 [00:00<?, ?it/s]",
      "application/vnd.jupyter.widget-view+json": {
       "version_major": 2,
       "version_minor": 0,
       "model_id": "1588fb66168b4c37a19ad2b2c870b970"
      }
     },
     "metadata": {},
     "output_type": "display_data"
    },
    {
     "name": "stdout",
     "output_type": "stream",
     "text": [
      "Epoch [20/100], Loss: 13523093553152.0000, Current LR: 0.001\n",
      "Epoch [40/100], Loss: 13523084115968.0000, Current LR: 0.001\n",
      "Epoch [60/100], Loss: 13523073630208.0000, Current LR: 0.001\n",
      "Epoch [80/100], Loss: 13523063144448.0000, Current LR: 0.001\n",
      "Epoch [100/100], Loss: 13523055804416.0000, Current LR: 0.001\n",
      "Processed successfully 81/118.\n",
      "Drive: 2023-05-24-20-26-us-ca-sjc-ge2, Phone: pixel5\n"
     ]
    },
    {
     "data": {
      "text/plain": "  0%|          | 0/1386 [00:00<?, ?it/s]",
      "application/vnd.jupyter.widget-view+json": {
       "version_major": 2,
       "version_minor": 0,
       "model_id": "cf9d58b45d2b4fee84e7acd6176c6183"
      }
     },
     "metadata": {},
     "output_type": "display_data"
    },
    {
     "name": "stdout",
     "output_type": "stream",
     "text": [
      "Epoch [20/100], Loss: 13523334725632.0000, Current LR: 0.001\n",
      "Epoch [40/100], Loss: 13523326337024.0000, Current LR: 0.001\n",
      "Epoch [60/100], Loss: 13523314802688.0000, Current LR: 0.001\n",
      "Epoch [80/100], Loss: 13523306414080.0000, Current LR: 0.001\n",
      "Epoch [100/100], Loss: 13523298025472.0000, Current LR: 0.001\n",
      "Processed successfully 82/119.\n",
      "Drive: 2023-05-24-20-26-us-ca-sjc-ge2, Phone: pixel7pro\n"
     ]
    },
    {
     "data": {
      "text/plain": "  0%|          | 0/1384 [00:00<?, ?it/s]",
      "application/vnd.jupyter.widget-view+json": {
       "version_major": 2,
       "version_minor": 0,
       "model_id": "221ce2e9a5dc457c9d0a6565163c9918"
      }
     },
     "metadata": {},
     "output_type": "display_data"
    },
    {
     "name": "stdout",
     "output_type": "stream",
     "text": [
      "Epoch [20/100], Loss: 13523305365504.0000, Current LR: 0.001\n",
      "Epoch [40/100], Loss: 13523295928320.0000, Current LR: 0.001\n",
      "Epoch [60/100], Loss: 13523285442560.0000, Current LR: 0.001\n",
      "Epoch [80/100], Loss: 13523278102528.0000, Current LR: 0.001\n",
      "Epoch [100/100], Loss: 13523266568192.0000, Current LR: 0.001\n",
      "Processed successfully 83/120.\n",
      "Drive: 2023-05-25-19-10-us-ca-sjc-be2, Phone: pixel5\n"
     ]
    },
    {
     "data": {
      "text/plain": "  0%|          | 0/1393 [00:00<?, ?it/s]",
      "application/vnd.jupyter.widget-view+json": {
       "version_major": 2,
       "version_minor": 0,
       "model_id": "d69208ff212043c0993478b1c55ec732"
      }
     },
     "metadata": {},
     "output_type": "display_data"
    },
    {
     "name": "stdout",
     "output_type": "stream",
     "text": [
      "Epoch [20/100], Loss: 13523358842880.0000, Current LR: 0.001\n",
      "Epoch [40/100], Loss: 13523351502848.0000, Current LR: 0.001\n",
      "Epoch [60/100], Loss: 13523341017088.0000, Current LR: 0.001\n",
      "Epoch [80/100], Loss: 13523332628480.0000, Current LR: 0.001\n",
      "Epoch [100/100], Loss: 13523323191296.0000, Current LR: 0.001\n",
      "Processed successfully 84/121.\n",
      "Drive: 2023-05-25-19-10-us-ca-sjc-be2, Phone: pixel7pro\n"
     ]
    },
    {
     "data": {
      "text/plain": "  0%|          | 0/1393 [00:00<?, ?it/s]",
      "application/vnd.jupyter.widget-view+json": {
       "version_major": 2,
       "version_minor": 0,
       "model_id": "56c8a9ed79cd4376bf9428e86718b897"
      }
     },
     "metadata": {},
     "output_type": "display_data"
    },
    {
     "name": "stdout",
     "output_type": "stream",
     "text": [
      "Epoch [20/100], Loss: 13523325288448.0000, Current LR: 0.001\n",
      "Epoch [40/100], Loss: 13523317948416.0000, Current LR: 0.001\n",
      "Epoch [60/100], Loss: 13523307462656.0000, Current LR: 0.001\n",
      "Epoch [80/100], Loss: 13523299074048.0000, Current LR: 0.001\n",
      "Epoch [100/100], Loss: 13523287539712.0000, Current LR: 0.001\n",
      "Processed successfully 85/122.\n",
      "Drive: 2023-05-25-19-10-us-ca-sjc-be2, Phone: sm-s908b\n"
     ]
    },
    {
     "data": {
      "text/plain": "  0%|          | 0/1399 [00:00<?, ?it/s]",
      "application/vnd.jupyter.widget-view+json": {
       "version_major": 2,
       "version_minor": 0,
       "model_id": "870675602e1344a5abcba87a5f544f3e"
      }
     },
     "metadata": {},
     "output_type": "display_data"
    },
    {
     "name": "stdout",
     "output_type": "stream",
     "text": [
      "Epoch [20/100], Loss: 13523303268352.0000, Current LR: 0.001\n",
      "Epoch [40/100], Loss: 13523294879744.0000, Current LR: 0.001\n",
      "Epoch [60/100], Loss: 13523285442560.0000, Current LR: 0.001\n",
      "Epoch [80/100], Loss: 13523276005376.0000, Current LR: 0.001\n",
      "Epoch [100/100], Loss: 13523265519616.0000, Current LR: 0.001\n",
      "Processed successfully 86/123.\n",
      "Drive: 2023-05-25-20-11-us-ca-sjc-he2, Phone: pixel5\n"
     ]
    },
    {
     "data": {
      "text/plain": "  0%|          | 0/1265 [00:00<?, ?it/s]",
      "application/vnd.jupyter.widget-view+json": {
       "version_major": 2,
       "version_minor": 0,
       "model_id": "7bcde8ba40f44c3f89f81975d69971ea"
      }
     },
     "metadata": {},
     "output_type": "display_data"
    },
    {
     "name": "stdout",
     "output_type": "stream",
     "text": [
      "Epoch [20/100], Loss: 13523228819456.0000, Current LR: 0.001\n",
      "Epoch [40/100], Loss: 13523220430848.0000, Current LR: 0.001\n",
      "Epoch [60/100], Loss: 13523209945088.0000, Current LR: 0.001\n",
      "Epoch [80/100], Loss: 13523201556480.0000, Current LR: 0.001\n",
      "Epoch [100/100], Loss: 13523192119296.0000, Current LR: 0.001\n",
      "Processed successfully 87/124.\n",
      "Drive: 2023-05-25-20-11-us-ca-sjc-he2, Phone: pixel7pro\n"
     ]
    },
    {
     "data": {
      "text/plain": "  0%|          | 0/1259 [00:00<?, ?it/s]",
      "application/vnd.jupyter.widget-view+json": {
       "version_major": 2,
       "version_minor": 0,
       "model_id": "fc1a5586c4834af1b3c85bdd0c48470c"
      }
     },
     "metadata": {},
     "output_type": "display_data"
    },
    {
     "name": "stdout",
     "output_type": "stream",
     "text": [
      "Epoch [20/100], Loss: 13523200507904.0000, Current LR: 0.001\n",
      "Epoch [40/100], Loss: 13523191070720.0000, Current LR: 0.001\n",
      "Epoch [60/100], Loss: 13523181633536.0000, Current LR: 0.001\n",
      "Epoch [80/100], Loss: 13523173244928.0000, Current LR: 0.001\n",
      "Epoch [100/100], Loss: 13523163807744.0000, Current LR: 0.001\n",
      "Processed successfully 88/125.\n",
      "Drive: 2023-05-25-20-11-us-ca-sjc-he2, Phone: sm-s908b\n"
     ]
    },
    {
     "data": {
      "text/plain": "  0%|          | 0/1259 [00:00<?, ?it/s]",
      "application/vnd.jupyter.widget-view+json": {
       "version_major": 2,
       "version_minor": 0,
       "model_id": "09a6d935b12648489a1b6d355f80b6db"
      }
     },
     "metadata": {},
     "output_type": "display_data"
    },
    {
     "name": "stdout",
     "output_type": "stream",
     "text": [
      "Epoch [20/100], Loss: 13523207847936.0000, Current LR: 0.001\n",
      "Epoch [40/100], Loss: 13523199459328.0000, Current LR: 0.001\n",
      "Epoch [60/100], Loss: 13523188973568.0000, Current LR: 0.001\n",
      "Epoch [80/100], Loss: 13523179536384.0000, Current LR: 0.001\n",
      "Epoch [100/100], Loss: 13523168002048.0000, Current LR: 0.001\n",
      "Processed successfully 89/126.\n",
      "Drive: 2023-05-26-18-50-us-ca-sjc-ge2, Phone: sm-s908b\n"
     ]
    },
    {
     "data": {
      "text/plain": "  0%|          | 0/1524 [00:00<?, ?it/s]",
      "application/vnd.jupyter.widget-view+json": {
       "version_major": 2,
       "version_minor": 0,
       "model_id": "c22d542b32fd4287b5fbc853b3eb56d0"
      }
     },
     "metadata": {},
     "output_type": "display_data"
    },
    {
     "name": "stdout",
     "output_type": "stream",
     "text": [
      "Epoch [20/100], Loss: 13522970869760.0000, Current LR: 0.001\n",
      "Epoch [40/100], Loss: 13522959335424.0000, Current LR: 0.001\n",
      "Epoch [60/100], Loss: 13522951995392.0000, Current LR: 0.001\n",
      "Epoch [80/100], Loss: 13522942558208.0000, Current LR: 0.001\n",
      "Epoch [100/100], Loss: 13522932072448.0000, Current LR: 0.001\n",
      "Processed successfully 90/127.\n",
      "Drive: 2023-05-26-18-51-us-ca-sjc-ge2, Phone: pixel5\n"
     ]
    },
    {
     "data": {
      "text/plain": "  0%|          | 0/1463 [00:00<?, ?it/s]",
      "application/vnd.jupyter.widget-view+json": {
       "version_major": 2,
       "version_minor": 0,
       "model_id": "5d78772df94241658e11879ce2e364de"
      }
     },
     "metadata": {},
     "output_type": "display_data"
    },
    {
     "name": "stdout",
     "output_type": "stream",
     "text": [
      "Epoch [20/100], Loss: 13522894323712.0000, Current LR: 0.001\n",
      "Epoch [40/100], Loss: 13522883837952.0000, Current LR: 0.001\n",
      "Epoch [60/100], Loss: 13522873352192.0000, Current LR: 0.001\n",
      "Epoch [80/100], Loss: 13522863915008.0000, Current LR: 0.001\n",
      "Epoch [100/100], Loss: 13522855526400.0000, Current LR: 0.001\n",
      "Processed successfully 91/128.\n",
      "Drive: 2023-05-26-18-51-us-ca-sjc-ge2, Phone: pixel7pro\n"
     ]
    },
    {
     "data": {
      "text/plain": "  0%|          | 0/1462 [00:00<?, ?it/s]",
      "application/vnd.jupyter.widget-view+json": {
       "version_major": 2,
       "version_minor": 0,
       "model_id": "b2dcac1188ca4b08b4c834421e6b52e5"
      }
     },
     "metadata": {},
     "output_type": "display_data"
    },
    {
     "name": "stdout",
     "output_type": "stream",
     "text": [
      "Epoch [20/100], Loss: 13522850283520.0000, Current LR: 0.001\n",
      "Epoch [40/100], Loss: 13522841894912.0000, Current LR: 0.001\n",
      "Epoch [60/100], Loss: 13522831409152.0000, Current LR: 0.001\n",
      "Epoch [80/100], Loss: 13522824069120.0000, Current LR: 0.001\n",
      "Epoch [100/100], Loss: 13522811486208.0000, Current LR: 0.001\n",
      "Processed successfully 92/129.\n",
      "Drive: 2023-06-06-23-26-us-ca-sjc-he2, Phone: sm-a226b\n"
     ]
    },
    {
     "data": {
      "text/plain": "  0%|          | 0/1663 [00:00<?, ?it/s]",
      "application/vnd.jupyter.widget-view+json": {
       "version_major": 2,
       "version_minor": 0,
       "model_id": "62c7ecd614a443828ac92d03332e8eb9"
      }
     },
     "metadata": {},
     "output_type": "display_data"
    },
    {
     "name": "stdout",
     "output_type": "stream",
     "text": [
      "Epoch [20/100], Loss: 13523014909952.0000, Current LR: 0.001\n",
      "Epoch [40/100], Loss: 13523004424192.0000, Current LR: 0.001\n",
      "Epoch [60/100], Loss: 13522992889856.0000, Current LR: 0.001\n",
      "Epoch [80/100], Loss: 13522984501248.0000, Current LR: 0.001\n",
      "Epoch [100/100], Loss: 13522976112640.0000, Current LR: 0.001\n",
      "Processed successfully 93/130.\n",
      "Drive: 2023-09-05-20-13-us-ca, Phone: pixel5\n"
     ]
    },
    {
     "data": {
      "text/plain": "  0%|          | 0/1704 [00:00<?, ?it/s]",
      "application/vnd.jupyter.widget-view+json": {
       "version_major": 2,
       "version_minor": 0,
       "model_id": "c65ce79c6f8c49888c38dbc7948847f9"
      }
     },
     "metadata": {},
     "output_type": "display_data"
    },
    {
     "name": "stdout",
     "output_type": "stream",
     "text": [
      "Epoch [20/100], Loss: 13522518933504.0000, Current LR: 0.001\n",
      "Epoch [40/100], Loss: 13522510544896.0000, Current LR: 0.001\n",
      "Epoch [60/100], Loss: 13522497961984.0000, Current LR: 0.001\n",
      "Epoch [80/100], Loss: 13522491670528.0000, Current LR: 0.001\n",
      "Epoch [100/100], Loss: 13522480136192.0000, Current LR: 0.001\n",
      "Processed successfully 94/131.\n",
      "Drive: 2023-09-05-20-13-us-ca, Phone: pixel7pro\n"
     ]
    },
    {
     "data": {
      "text/plain": "  0%|          | 0/1706 [00:00<?, ?it/s]",
      "application/vnd.jupyter.widget-view+json": {
       "version_major": 2,
       "version_minor": 0,
       "model_id": "428aaf4ca30b42298e8d52c1508a1ef7"
      }
     },
     "metadata": {},
     "output_type": "display_data"
    },
    {
     "name": "stdout",
     "output_type": "stream",
     "text": [
      "Epoch [20/100], Loss: 13522494816256.0000, Current LR: 0.001\n",
      "Epoch [40/100], Loss: 13522482233344.0000, Current LR: 0.001\n",
      "Epoch [60/100], Loss: 13522473844736.0000, Current LR: 0.001\n",
      "Epoch [80/100], Loss: 13522464407552.0000, Current LR: 0.001\n",
      "Epoch [100/100], Loss: 13522454970368.0000, Current LR: 0.001\n",
      "Processed successfully 95/132.\n",
      "Drive: 2023-09-05-20-59-us-ca, Phone: pixel4xl\n"
     ]
    },
    {
     "data": {
      "text/plain": "  0%|          | 0/1512 [00:00<?, ?it/s]",
      "application/vnd.jupyter.widget-view+json": {
       "version_major": 2,
       "version_minor": 0,
       "model_id": "3968756d42f048c9a54d94d9b4fd000d"
      }
     },
     "metadata": {},
     "output_type": "display_data"
    },
    {
     "name": "stdout",
     "output_type": "stream",
     "text": [
      "Error processing\n",
      "Skipped due to errors.\n",
      "Drive: 2023-09-05-20-59-us-ca, Phone: pixel5a\n"
     ]
    },
    {
     "data": {
      "text/plain": "  0%|          | 0/1509 [00:00<?, ?it/s]",
      "application/vnd.jupyter.widget-view+json": {
       "version_major": 2,
       "version_minor": 0,
       "model_id": "66c66d0cb138448faedf7dcacee334f5"
      }
     },
     "metadata": {},
     "output_type": "display_data"
    },
    {
     "name": "stdout",
     "output_type": "stream",
     "text": [
      "Error processing\n",
      "Skipped due to errors.\n",
      "Drive: 2023-09-05-23-07-us-ca-routen, Phone: pixel5\n"
     ]
    },
    {
     "data": {
      "text/plain": "  0%|          | 0/1564 [00:00<?, ?it/s]",
      "application/vnd.jupyter.widget-view+json": {
       "version_major": 2,
       "version_minor": 0,
       "model_id": "2e3f7dea556240b39e049daa30ff07bf"
      }
     },
     "metadata": {},
     "output_type": "display_data"
    },
    {
     "name": "stdout",
     "output_type": "stream",
     "text": [
      "Epoch [20/100], Loss: 13522481184768.0000, Current LR: 0.001\n",
      "Epoch [40/100], Loss: 13522468601856.0000, Current LR: 0.001\n",
      "Epoch [60/100], Loss: 13522460213248.0000, Current LR: 0.001\n",
      "Epoch [80/100], Loss: 13522451824640.0000, Current LR: 0.001\n",
      "Epoch [100/100], Loss: 13522440290304.0000, Current LR: 0.001\n",
      "Processed successfully 96/135.\n",
      "Drive: 2023-09-05-23-07-us-ca-routen, Phone: pixel7pro\n"
     ]
    },
    {
     "data": {
      "text/plain": "  0%|          | 0/1564 [00:00<?, ?it/s]",
      "application/vnd.jupyter.widget-view+json": {
       "version_major": 2,
       "version_minor": 0,
       "model_id": "70332853a8f9483295ef8687ba513229"
      }
     },
     "metadata": {},
     "output_type": "display_data"
    },
    {
     "name": "stdout",
     "output_type": "stream",
     "text": [
      "Epoch [20/100], Loss: 13522438193152.0000, Current LR: 0.001\n",
      "Epoch [40/100], Loss: 13522426658816.0000, Current LR: 0.001\n",
      "Epoch [60/100], Loss: 13522416173056.0000, Current LR: 0.001\n",
      "Epoch [80/100], Loss: 13522408833024.0000, Current LR: 0.001\n",
      "Epoch [100/100], Loss: 13522399395840.0000, Current LR: 0.001\n",
      "Processed successfully 97/136.\n",
      "Drive: 2023-09-06-00-01-us-ca-routen, Phone: pixel4xl\n"
     ]
    },
    {
     "data": {
      "text/plain": "  0%|          | 0/1651 [00:00<?, ?it/s]",
      "application/vnd.jupyter.widget-view+json": {
       "version_major": 2,
       "version_minor": 0,
       "model_id": "b304378010b045f0af05497bed875acc"
      }
     },
     "metadata": {},
     "output_type": "display_data"
    },
    {
     "name": "stdout",
     "output_type": "stream",
     "text": [
      "Error processing\n",
      "Skipped due to errors.\n",
      "Drive: 2023-09-06-00-01-us-ca-routen, Phone: pixel5a\n"
     ]
    },
    {
     "data": {
      "text/plain": "  0%|          | 0/1652 [00:00<?, ?it/s]",
      "application/vnd.jupyter.widget-view+json": {
       "version_major": 2,
       "version_minor": 0,
       "model_id": "6934a79f800c49ccb2fe9f10d9f47303"
      }
     },
     "metadata": {},
     "output_type": "display_data"
    },
    {
     "name": "stdout",
     "output_type": "stream",
     "text": [
      "Epoch [20/100], Loss: 13522395201536.0000, Current LR: 0.001\n",
      "Epoch [40/100], Loss: 13522384715776.0000, Current LR: 0.001\n",
      "Epoch [60/100], Loss: 13522376327168.0000, Current LR: 0.001\n",
      "Epoch [80/100], Loss: 13522365841408.0000, Current LR: 0.001\n",
      "Epoch [100/100], Loss: 13522356404224.0000, Current LR: 0.001\n",
      "Processed successfully 98/138.\n",
      "Drive: 2023-09-06-00-01-us-ca-routen, Phone: pixel6pro\n"
     ]
    },
    {
     "data": {
      "text/plain": "  0%|          | 0/1650 [00:00<?, ?it/s]",
      "application/vnd.jupyter.widget-view+json": {
       "version_major": 2,
       "version_minor": 0,
       "model_id": "f327999982d04236b2ac1564fb44e61e"
      }
     },
     "metadata": {},
     "output_type": "display_data"
    },
    {
     "name": "stdout",
     "output_type": "stream",
     "text": [
      "Epoch [20/100], Loss: 13522336481280.0000, Current LR: 0.001\n",
      "Epoch [40/100], Loss: 13522323898368.0000, Current LR: 0.001\n",
      "Epoch [60/100], Loss: 13522316558336.0000, Current LR: 0.001\n",
      "Epoch [80/100], Loss: 13522307121152.0000, Current LR: 0.001\n",
      "Epoch [100/100], Loss: 13522295586816.0000, Current LR: 0.001\n",
      "Processed successfully 99/139.\n",
      "Drive: 2023-09-06-00-01-us-ca-routen, Phone: sm-g955f\n"
     ]
    },
    {
     "data": {
      "text/plain": "  0%|          | 0/1650 [00:00<?, ?it/s]",
      "application/vnd.jupyter.widget-view+json": {
       "version_major": 2,
       "version_minor": 0,
       "model_id": "393badae414c4f95a2f512e739778389"
      }
     },
     "metadata": {},
     "output_type": "display_data"
    },
    {
     "name": "stdout",
     "output_type": "stream",
     "text": [
      "Error processing\n",
      "Skipped due to errors.\n",
      "Drive: 2023-09-06-18-04-us-ca, Phone: pixel5\n"
     ]
    },
    {
     "data": {
      "text/plain": "  0%|          | 0/1453 [00:00<?, ?it/s]",
      "application/vnd.jupyter.widget-view+json": {
       "version_major": 2,
       "version_minor": 0,
       "model_id": "c2ac573e0f0f40e59cafff7fcceb75a8"
      }
     },
     "metadata": {},
     "output_type": "display_data"
    },
    {
     "name": "stdout",
     "output_type": "stream",
     "text": [
      "Epoch [20/100], Loss: 13522661539840.0000, Current LR: 0.001\n",
      "Epoch [40/100], Loss: 13522653151232.0000, Current LR: 0.001\n",
      "Epoch [60/100], Loss: 13522644762624.0000, Current LR: 0.001\n",
      "Epoch [80/100], Loss: 13522634276864.0000, Current LR: 0.001\n",
      "Epoch [100/100], Loss: 13522625888256.0000, Current LR: 0.001\n",
      "Processed successfully 100/141.\n",
      "Drive: 2023-09-06-18-04-us-ca, Phone: pixel7pro\n"
     ]
    },
    {
     "data": {
      "text/plain": "  0%|          | 0/1452 [00:00<?, ?it/s]",
      "application/vnd.jupyter.widget-view+json": {
       "version_major": 2,
       "version_minor": 0,
       "model_id": "258a7b6fd4b24a80b37b5bac476f5245"
      }
     },
     "metadata": {},
     "output_type": "display_data"
    },
    {
     "name": "stdout",
     "output_type": "stream",
     "text": [
      "Epoch [20/100], Loss: 13522607013888.0000, Current LR: 0.001\n",
      "Epoch [40/100], Loss: 13522595479552.0000, Current LR: 0.001\n",
      "Epoch [60/100], Loss: 13522586042368.0000, Current LR: 0.001\n",
      "Epoch [80/100], Loss: 13522576605184.0000, Current LR: 0.001\n",
      "Epoch [100/100], Loss: 13522568216576.0000, Current LR: 0.001\n",
      "Processed successfully 101/142.\n",
      "Drive: 2023-09-06-18-04-us-ca, Phone: sm-s908b\n"
     ]
    },
    {
     "data": {
      "text/plain": "  0%|          | 0/1453 [00:00<?, ?it/s]",
      "application/vnd.jupyter.widget-view+json": {
       "version_major": 2,
       "version_minor": 0,
       "model_id": "6b066a84b54048f69233f2e5132ed2ff"
      }
     },
     "metadata": {},
     "output_type": "display_data"
    },
    {
     "name": "stdout",
     "output_type": "stream",
     "text": [
      "i = 198 position lsq status = 2\n",
      "i = 199 position lsq status = 2\n",
      "i = 200 position lsq status = 2\n",
      "i = 201 position lsq status = 2\n",
      "i = 202 position lsq status = 0\n",
      "i = 203 position lsq status = 2\n",
      "i = 204 position lsq status = 2\n",
      "i = 205 position lsq status = 2\n",
      "i = 206 position lsq status = 2\n",
      "i = 207 position lsq status = 2\n",
      "i = 208 position lsq status = 2\n",
      "i = 209 position lsq status = 2\n",
      "i = 210 position lsq status = 2\n",
      "i = 211 position lsq status = 2\n",
      "i = 212 position lsq status = 2\n",
      "i = 213 position lsq status = 2\n",
      "i = 214 position lsq status = 2\n",
      "i = 215 position lsq status = 2\n",
      "i = 216 position lsq status = 2\n",
      "i = 217 position lsq status = 2\n",
      "i = 218 position lsq status = 2\n",
      "i = 219 position lsq status = 2\n",
      "i = 220 position lsq status = 2\n",
      "i = 222 position lsq status = 2\n",
      "i = 223 position lsq status = 2\n",
      "i = 224 position lsq status = 2\n",
      "i = 225 position lsq status = 2\n",
      "i = 226 position lsq status = 2\n",
      "i = 227 position lsq status = 2\n",
      "i = 228 position lsq status = 2\n",
      "i = 229 position lsq status = 2\n",
      "i = 230 position lsq status = 2\n",
      "i = 231 position lsq status = 2\n",
      "i = 232 position lsq status = 2\n",
      "i = 233 position lsq status = 2\n",
      "i = 234 position lsq status = 2\n",
      "i = 235 position lsq status = 2\n",
      "i = 236 position lsq status = 2\n",
      "i = 237 position lsq status = 2\n",
      "i = 238 position lsq status = 2\n",
      "i = 239 position lsq status = 2\n",
      "i = 240 position lsq status = 2\n",
      "i = 241 position lsq status = 0\n",
      "i = 242 position lsq status = 2\n",
      "i = 243 position lsq status = 2\n",
      "i = 244 position lsq status = 2\n",
      "i = 245 position lsq status = 0\n",
      "i = 246 position lsq status = 2\n",
      "i = 247 position lsq status = 2\n",
      "i = 248 position lsq status = 0\n",
      "i = 249 position lsq status = 2\n",
      "i = 250 position lsq status = 0\n",
      "i = 251 position lsq status = 2\n",
      "i = 252 position lsq status = 2\n",
      "i = 253 position lsq status = 2\n",
      "i = 255 position lsq status = 2\n",
      "i = 256 position lsq status = 2\n",
      "i = 257 position lsq status = 2\n",
      "i = 258 position lsq status = 2\n",
      "i = 259 position lsq status = 2\n",
      "i = 260 position lsq status = 2\n",
      "i = 261 position lsq status = 2\n",
      "i = 262 position lsq status = 2\n",
      "i = 263 position lsq status = 2\n",
      "i = 264 position lsq status = 2\n",
      "i = 265 position lsq status = 2\n",
      "i = 266 position lsq status = 2\n",
      "i = 267 position lsq status = 2\n",
      "i = 268 position lsq status = 2\n",
      "i = 269 position lsq status = 2\n",
      "i = 270 position lsq status = 2\n",
      "i = 271 position lsq status = 2\n",
      "i = 272 position lsq status = 2\n",
      "i = 273 position lsq status = 2\n",
      "i = 274 position lsq status = 2\n",
      "i = 275 position lsq status = 2\n",
      "i = 276 position lsq status = 2\n",
      "i = 277 position lsq status = 2\n",
      "i = 278 position lsq status = 2\n",
      "i = 279 position lsq status = 2\n",
      "i = 280 position lsq status = 2\n",
      "i = 281 position lsq status = 2\n",
      "i = 282 position lsq status = 2\n",
      "i = 283 position lsq status = 2\n",
      "i = 284 position lsq status = 2\n",
      "i = 285 position lsq status = 2\n",
      "i = 286 position lsq status = 2\n",
      "i = 287 position lsq status = 2\n",
      "i = 288 position lsq status = 2\n",
      "i = 289 position lsq status = 2\n",
      "i = 290 position lsq status = 2\n",
      "i = 291 position lsq status = 2\n",
      "i = 292 position lsq status = 2\n",
      "i = 293 position lsq status = 2\n",
      "i = 294 position lsq status = 0\n",
      "i = 295 position lsq status = 2\n",
      "i = 296 position lsq status = 2\n",
      "i = 297 position lsq status = 2\n",
      "i = 298 position lsq status = 2\n",
      "i = 299 position lsq status = 2\n",
      "i = 300 position lsq status = 2\n",
      "i = 301 position lsq status = 2\n",
      "i = 302 position lsq status = 2\n",
      "i = 303 position lsq status = 2\n",
      "i = 304 position lsq status = 2\n",
      "i = 305 position lsq status = 2\n",
      "i = 306 position lsq status = 2\n",
      "i = 307 position lsq status = 2\n",
      "i = 308 position lsq status = 2\n",
      "i = 309 position lsq status = 2\n",
      "i = 310 position lsq status = 2\n",
      "i = 311 position lsq status = 2\n",
      "i = 312 position lsq status = 2\n",
      "i = 313 position lsq status = 2\n",
      "i = 314 position lsq status = 2\n",
      "i = 315 position lsq status = 2\n",
      "i = 316 position lsq status = 2\n",
      "i = 317 position lsq status = 2\n",
      "i = 318 position lsq status = 2\n",
      "i = 319 position lsq status = 2\n",
      "i = 320 position lsq status = 2\n",
      "i = 321 position lsq status = 2\n",
      "i = 322 position lsq status = 2\n",
      "i = 323 position lsq status = 2\n",
      "i = 324 position lsq status = 2\n",
      "i = 325 position lsq status = 2\n",
      "i = 326 position lsq status = 2\n",
      "i = 327 position lsq status = 2\n",
      "i = 328 position lsq status = 2\n",
      "i = 329 position lsq status = 0\n",
      "i = 330 position lsq status = 2\n",
      "i = 331 position lsq status = 2\n",
      "i = 332 position lsq status = 2\n",
      "i = 333 position lsq status = 0\n",
      "i = 334 position lsq status = 2\n",
      "i = 335 position lsq status = 2\n",
      "i = 336 position lsq status = 2\n",
      "i = 337 position lsq status = 2\n",
      "i = 338 position lsq status = 2\n",
      "i = 339 position lsq status = 2\n",
      "i = 340 position lsq status = 2\n",
      "i = 341 position lsq status = 2\n",
      "i = 342 position lsq status = 2\n",
      "i = 343 position lsq status = 2\n",
      "i = 344 position lsq status = 2\n",
      "i = 345 position lsq status = 2\n",
      "i = 346 position lsq status = 2\n",
      "i = 347 position lsq status = 2\n",
      "i = 348 position lsq status = 2\n",
      "i = 349 position lsq status = 2\n",
      "i = 350 position lsq status = 2\n",
      "i = 351 position lsq status = 2\n",
      "i = 352 position lsq status = 2\n",
      "i = 353 position lsq status = 2\n",
      "i = 354 position lsq status = 2\n",
      "i = 355 position lsq status = 2\n",
      "i = 356 position lsq status = 2\n",
      "i = 357 position lsq status = 2\n",
      "i = 358 position lsq status = 0\n",
      "i = 359 position lsq status = 2\n",
      "i = 360 position lsq status = 2\n",
      "i = 361 position lsq status = 2\n",
      "i = 362 position lsq status = 2\n",
      "i = 363 position lsq status = 2\n",
      "i = 364 position lsq status = 2\n",
      "i = 365 position lsq status = 2\n",
      "i = 366 position lsq status = 2\n",
      "i = 367 position lsq status = 2\n",
      "i = 368 position lsq status = 2\n",
      "i = 369 position lsq status = 2\n",
      "i = 370 position lsq status = 2\n",
      "i = 371 position lsq status = 2\n",
      "i = 372 position lsq status = 2\n",
      "i = 373 position lsq status = 2\n",
      "i = 374 position lsq status = 2\n",
      "i = 375 position lsq status = 2\n",
      "i = 376 position lsq status = 2\n",
      "i = 377 position lsq status = 2\n",
      "i = 378 position lsq status = 2\n",
      "i = 379 position lsq status = 2\n",
      "i = 380 position lsq status = 2\n",
      "i = 381 position lsq status = 2\n",
      "i = 382 position lsq status = 2\n",
      "i = 384 position lsq status = 2\n",
      "i = 385 position lsq status = 2\n",
      "i = 386 position lsq status = 2\n",
      "i = 387 position lsq status = 2\n",
      "i = 388 position lsq status = 2\n",
      "i = 389 position lsq status = 2\n",
      "i = 390 position lsq status = 2\n",
      "i = 391 position lsq status = 2\n",
      "i = 392 position lsq status = 2\n",
      "i = 393 position lsq status = 0\n",
      "i = 394 position lsq status = 2\n",
      "i = 395 position lsq status = 2\n",
      "i = 396 position lsq status = 2\n",
      "i = 397 position lsq status = 2\n",
      "i = 398 position lsq status = 2\n",
      "i = 399 position lsq status = 2\n",
      "i = 400 position lsq status = 2\n",
      "i = 401 position lsq status = 2\n",
      "i = 402 position lsq status = 2\n",
      "i = 403 position lsq status = 2\n",
      "i = 404 position lsq status = 2\n",
      "i = 405 position lsq status = 2\n",
      "i = 406 position lsq status = 2\n",
      "i = 407 position lsq status = 2\n",
      "i = 408 position lsq status = 2\n",
      "i = 409 position lsq status = 2\n",
      "i = 410 position lsq status = 2\n",
      "i = 411 position lsq status = 2\n",
      "i = 412 position lsq status = 2\n",
      "i = 413 position lsq status = 2\n",
      "i = 414 position lsq status = 2\n",
      "i = 415 position lsq status = 2\n",
      "i = 416 position lsq status = 2\n",
      "i = 417 position lsq status = 2\n",
      "i = 418 position lsq status = 2\n",
      "i = 419 position lsq status = 2\n",
      "i = 420 position lsq status = 2\n",
      "i = 421 position lsq status = 2\n",
      "i = 422 position lsq status = 2\n",
      "i = 423 position lsq status = 2\n",
      "i = 424 position lsq status = 2\n",
      "i = 425 position lsq status = 2\n",
      "i = 426 position lsq status = 2\n",
      "i = 427 position lsq status = 2\n",
      "i = 428 position lsq status = 2\n",
      "i = 429 position lsq status = 2\n",
      "i = 430 position lsq status = 2\n",
      "i = 431 position lsq status = 2\n",
      "i = 432 position lsq status = 2\n",
      "i = 433 position lsq status = 2\n",
      "i = 434 position lsq status = 2\n",
      "i = 435 position lsq status = 2\n",
      "i = 436 position lsq status = 2\n",
      "i = 437 position lsq status = 2\n",
      "i = 438 position lsq status = 2\n",
      "i = 439 position lsq status = 2\n",
      "i = 440 position lsq status = 2\n",
      "i = 441 position lsq status = 2\n",
      "i = 442 position lsq status = 2\n",
      "i = 443 position lsq status = 2\n",
      "i = 444 position lsq status = 2\n",
      "i = 445 position lsq status = 2\n",
      "i = 446 position lsq status = 2\n",
      "i = 447 position lsq status = 2\n",
      "i = 448 position lsq status = 2\n",
      "i = 449 position lsq status = 2\n",
      "i = 450 position lsq status = 2\n",
      "i = 451 position lsq status = 2\n",
      "i = 452 position lsq status = 2\n",
      "i = 453 position lsq status = 2\n",
      "i = 454 position lsq status = 2\n",
      "i = 455 position lsq status = 2\n",
      "i = 456 position lsq status = 2\n",
      "i = 457 position lsq status = 2\n",
      "i = 458 position lsq status = 2\n",
      "i = 459 position lsq status = 2\n",
      "i = 460 position lsq status = 2\n",
      "i = 461 position lsq status = 2\n",
      "i = 462 position lsq status = 2\n",
      "i = 463 position lsq status = 2\n",
      "i = 464 position lsq status = 2\n",
      "i = 465 position lsq status = 2\n",
      "i = 466 position lsq status = 2\n",
      "i = 467 position lsq status = 2\n",
      "i = 468 position lsq status = 2\n",
      "i = 469 position lsq status = 2\n",
      "i = 470 position lsq status = 2\n",
      "i = 471 position lsq status = 2\n",
      "i = 472 position lsq status = 0\n",
      "i = 473 position lsq status = 2\n",
      "i = 474 position lsq status = 0\n",
      "i = 475 position lsq status = 2\n",
      "i = 476 position lsq status = 2\n",
      "i = 477 position lsq status = 2\n",
      "i = 478 position lsq status = 2\n",
      "i = 479 position lsq status = 2\n",
      "i = 480 position lsq status = 2\n",
      "i = 481 position lsq status = 2\n",
      "i = 482 position lsq status = 2\n",
      "i = 483 position lsq status = 2\n",
      "i = 484 position lsq status = 2\n",
      "i = 485 position lsq status = 2\n",
      "i = 486 position lsq status = 2\n",
      "i = 487 position lsq status = 2\n",
      "i = 488 position lsq status = 2\n",
      "i = 489 position lsq status = 2\n",
      "i = 490 position lsq status = 2\n",
      "i = 491 position lsq status = 2\n",
      "i = 492 position lsq status = 2\n",
      "i = 493 position lsq status = 2\n",
      "i = 494 position lsq status = 2\n",
      "i = 495 position lsq status = 2\n",
      "i = 496 position lsq status = 2\n",
      "i = 497 position lsq status = 2\n",
      "i = 498 position lsq status = 2\n",
      "i = 499 position lsq status = 0\n",
      "i = 500 position lsq status = 2\n",
      "i = 501 position lsq status = 0\n",
      "i = 502 position lsq status = 2\n",
      "i = 503 position lsq status = 2\n",
      "i = 504 position lsq status = 2\n",
      "i = 505 position lsq status = 2\n",
      "i = 506 position lsq status = 2\n",
      "i = 507 position lsq status = 2\n",
      "i = 508 position lsq status = 2\n",
      "i = 509 position lsq status = 2\n",
      "i = 510 position lsq status = 2\n",
      "i = 511 position lsq status = 2\n",
      "i = 512 position lsq status = 2\n",
      "i = 513 position lsq status = 2\n",
      "i = 514 position lsq status = 2\n",
      "i = 515 position lsq status = 2\n",
      "i = 516 position lsq status = 2\n",
      "i = 517 position lsq status = 2\n",
      "i = 518 position lsq status = 2\n",
      "i = 519 position lsq status = 2\n",
      "i = 520 position lsq status = 2\n",
      "i = 521 position lsq status = 2\n",
      "i = 523 position lsq status = 2\n",
      "i = 524 position lsq status = 2\n",
      "i = 525 position lsq status = 2\n",
      "i = 526 position lsq status = 2\n",
      "i = 527 position lsq status = 2\n",
      "i = 528 position lsq status = 2\n",
      "i = 529 position lsq status = 0\n",
      "i = 530 position lsq status = 2\n",
      "i = 531 position lsq status = 2\n",
      "i = 532 position lsq status = 2\n",
      "i = 533 position lsq status = 2\n",
      "i = 534 position lsq status = 2\n",
      "i = 535 position lsq status = 2\n",
      "i = 536 position lsq status = 2\n",
      "i = 537 position lsq status = 2\n",
      "i = 538 position lsq status = 0\n",
      "i = 539 position lsq status = 2\n",
      "i = 540 position lsq status = 2\n",
      "i = 541 position lsq status = 2\n",
      "i = 542 position lsq status = 2\n",
      "i = 543 position lsq status = 2\n",
      "i = 544 position lsq status = 2\n",
      "i = 545 position lsq status = 2\n",
      "i = 546 position lsq status = 2\n",
      "i = 547 position lsq status = 2\n",
      "i = 548 position lsq status = 2\n",
      "i = 549 position lsq status = 2\n",
      "i = 551 position lsq status = 2\n",
      "i = 552 position lsq status = 2\n",
      "i = 553 position lsq status = 2\n",
      "i = 554 position lsq status = 2\n",
      "i = 555 position lsq status = 2\n",
      "i = 556 position lsq status = 2\n",
      "i = 557 position lsq status = 2\n",
      "i = 558 position lsq status = 2\n",
      "i = 559 position lsq status = 2\n",
      "i = 560 position lsq status = 2\n",
      "i = 561 position lsq status = 2\n",
      "i = 562 position lsq status = 2\n",
      "i = 563 position lsq status = 2\n",
      "i = 564 position lsq status = 0\n",
      "i = 565 position lsq status = 0\n",
      "i = 566 position lsq status = 2\n",
      "i = 567 position lsq status = 2\n",
      "i = 568 position lsq status = 2\n",
      "i = 569 position lsq status = 2\n",
      "i = 570 position lsq status = 2\n",
      "i = 571 position lsq status = 2\n",
      "i = 572 position lsq status = 2\n",
      "i = 573 position lsq status = 2\n",
      "i = 574 position lsq status = 2\n",
      "i = 575 position lsq status = 2\n",
      "i = 577 position lsq status = 2\n",
      "i = 578 position lsq status = 2\n",
      "i = 579 position lsq status = 2\n",
      "i = 580 position lsq status = 2\n",
      "i = 581 position lsq status = 2\n",
      "i = 582 position lsq status = 2\n",
      "i = 583 position lsq status = 2\n",
      "i = 584 position lsq status = 2\n",
      "i = 585 position lsq status = 2\n",
      "i = 586 position lsq status = 2\n",
      "i = 587 position lsq status = 2\n",
      "i = 588 position lsq status = 2\n",
      "i = 589 position lsq status = 2\n",
      "i = 590 position lsq status = 2\n",
      "i = 591 position lsq status = 2\n",
      "i = 593 position lsq status = 2\n",
      "i = 596 position lsq status = 2\n",
      "i = 599 position lsq status = 2\n",
      "i = 600 position lsq status = 2\n",
      "i = 601 position lsq status = 2\n",
      "i = 602 position lsq status = 2\n",
      "i = 603 position lsq status = 2\n",
      "i = 604 position lsq status = 2\n",
      "i = 605 position lsq status = 2\n",
      "i = 606 position lsq status = 2\n",
      "i = 607 position lsq status = 2\n",
      "i = 608 position lsq status = 2\n",
      "i = 609 position lsq status = 2\n",
      "i = 610 position lsq status = 2\n",
      "i = 611 position lsq status = 0\n",
      "i = 612 position lsq status = 2\n",
      "i = 613 position lsq status = 2\n",
      "i = 614 position lsq status = 2\n",
      "i = 615 position lsq status = 2\n",
      "i = 616 position lsq status = 0\n",
      "i = 617 position lsq status = 2\n",
      "i = 618 position lsq status = 2\n",
      "i = 619 position lsq status = 2\n",
      "i = 620 position lsq status = 2\n",
      "i = 621 position lsq status = 2\n",
      "i = 622 position lsq status = 2\n",
      "i = 623 position lsq status = 2\n",
      "i = 624 position lsq status = 2\n",
      "i = 625 position lsq status = 2\n",
      "i = 627 position lsq status = 2\n",
      "i = 628 position lsq status = 2\n",
      "i = 631 position lsq status = 2\n",
      "i = 632 position lsq status = 2\n",
      "i = 633 position lsq status = 2\n",
      "i = 635 position lsq status = 2\n",
      "i = 636 position lsq status = 2\n",
      "i = 637 position lsq status = 2\n",
      "i = 638 position lsq status = 2\n",
      "i = 640 position lsq status = 2\n",
      "i = 641 position lsq status = 2\n",
      "i = 642 position lsq status = 2\n",
      "i = 643 position lsq status = 2\n",
      "i = 644 position lsq status = 2\n",
      "i = 645 position lsq status = 2\n",
      "i = 646 position lsq status = 2\n",
      "i = 647 position lsq status = 2\n",
      "i = 648 position lsq status = 2\n",
      "i = 649 position lsq status = 2\n",
      "i = 650 position lsq status = 2\n",
      "i = 651 position lsq status = 2\n",
      "i = 652 position lsq status = 2\n",
      "i = 653 position lsq status = 2\n",
      "i = 654 position lsq status = 2\n",
      "i = 655 position lsq status = 2\n",
      "i = 656 position lsq status = 0\n",
      "i = 657 position lsq status = 2\n",
      "i = 658 position lsq status = 2\n",
      "i = 659 position lsq status = 2\n",
      "i = 660 position lsq status = 0\n",
      "i = 662 position lsq status = 2\n",
      "i = 663 position lsq status = 2\n",
      "i = 664 position lsq status = 2\n",
      "i = 665 position lsq status = 2\n",
      "i = 666 position lsq status = 2\n",
      "i = 667 position lsq status = 2\n",
      "i = 668 position lsq status = 2\n",
      "i = 669 position lsq status = 2\n",
      "i = 670 position lsq status = 2\n",
      "i = 671 position lsq status = 2\n",
      "i = 672 position lsq status = 0\n",
      "i = 673 position lsq status = 2\n",
      "i = 674 position lsq status = 2\n",
      "i = 675 position lsq status = 2\n",
      "i = 676 position lsq status = 2\n",
      "i = 677 position lsq status = 0\n",
      "i = 678 position lsq status = 0\n",
      "i = 679 position lsq status = 2\n",
      "i = 680 position lsq status = 2\n",
      "i = 681 position lsq status = 2\n",
      "i = 682 position lsq status = 2\n",
      "i = 683 position lsq status = 0\n",
      "i = 684 position lsq status = 2\n",
      "i = 685 position lsq status = 0\n",
      "i = 686 position lsq status = 2\n",
      "i = 687 position lsq status = 2\n",
      "i = 688 position lsq status = 0\n",
      "i = 689 position lsq status = 2\n",
      "i = 690 position lsq status = 2\n",
      "i = 691 position lsq status = 2\n",
      "i = 692 position lsq status = 2\n",
      "i = 693 position lsq status = 2\n",
      "i = 694 position lsq status = 2\n",
      "i = 695 position lsq status = 2\n",
      "i = 696 position lsq status = 2\n",
      "i = 697 position lsq status = 2\n",
      "i = 698 position lsq status = 2\n",
      "i = 699 position lsq status = 2\n",
      "i = 700 position lsq status = 2\n",
      "i = 701 position lsq status = 2\n",
      "i = 702 position lsq status = 2\n",
      "i = 703 position lsq status = 2\n",
      "i = 704 position lsq status = 2\n",
      "i = 705 position lsq status = 2\n",
      "i = 706 position lsq status = 2\n",
      "i = 707 position lsq status = 2\n",
      "i = 708 position lsq status = 2\n",
      "i = 709 position lsq status = 2\n",
      "i = 710 position lsq status = 2\n",
      "i = 711 position lsq status = 2\n",
      "i = 712 position lsq status = 2\n",
      "i = 713 position lsq status = 2\n",
      "i = 714 position lsq status = 2\n",
      "i = 715 position lsq status = 2\n",
      "i = 716 position lsq status = 0\n",
      "i = 717 position lsq status = 2\n",
      "i = 718 position lsq status = 2\n",
      "i = 719 position lsq status = 2\n",
      "i = 720 position lsq status = 2\n",
      "i = 721 position lsq status = 2\n",
      "i = 722 position lsq status = 0\n",
      "i = 723 position lsq status = 0\n",
      "i = 724 position lsq status = 2\n",
      "i = 725 position lsq status = 2\n",
      "i = 726 position lsq status = 2\n",
      "i = 727 position lsq status = 2\n",
      "i = 728 position lsq status = 2\n",
      "i = 729 position lsq status = 2\n",
      "i = 730 position lsq status = 2\n",
      "i = 731 position lsq status = 2\n",
      "i = 732 position lsq status = 2\n",
      "i = 733 position lsq status = 2\n",
      "i = 734 position lsq status = 2\n",
      "i = 735 position lsq status = 2\n",
      "i = 736 position lsq status = 2\n",
      "i = 737 position lsq status = 2\n",
      "i = 738 position lsq status = 2\n",
      "i = 739 position lsq status = 2\n",
      "i = 740 position lsq status = 2\n",
      "i = 741 position lsq status = 0\n",
      "i = 742 position lsq status = 2\n",
      "i = 743 position lsq status = 0\n",
      "i = 745 position lsq status = 2\n",
      "i = 746 position lsq status = 2\n",
      "i = 747 position lsq status = 2\n",
      "i = 748 position lsq status = 2\n",
      "i = 749 position lsq status = 2\n",
      "i = 750 position lsq status = 0\n",
      "i = 751 position lsq status = 2\n",
      "i = 752 position lsq status = 2\n",
      "i = 753 position lsq status = 2\n",
      "i = 754 position lsq status = 2\n",
      "i = 755 position lsq status = 2\n",
      "i = 756 position lsq status = 2\n",
      "i = 757 position lsq status = 2\n",
      "i = 758 position lsq status = 2\n",
      "i = 759 position lsq status = 2\n",
      "i = 760 position lsq status = 2\n",
      "i = 761 position lsq status = 2\n",
      "i = 762 position lsq status = 2\n",
      "i = 763 position lsq status = 2\n",
      "i = 764 position lsq status = 2\n",
      "i = 765 position lsq status = 2\n",
      "i = 766 position lsq status = 0\n",
      "i = 767 position lsq status = 2\n",
      "i = 768 position lsq status = 2\n",
      "i = 769 position lsq status = 2\n",
      "i = 770 position lsq status = 0\n",
      "i = 771 position lsq status = 0\n",
      "i = 772 position lsq status = 0\n",
      "i = 773 position lsq status = 0\n",
      "i = 774 position lsq status = 0\n",
      "i = 775 position lsq status = 2\n",
      "i = 776 position lsq status = 2\n",
      "i = 777 position lsq status = 2\n",
      "i = 778 position lsq status = 0\n",
      "i = 779 position lsq status = 2\n",
      "i = 780 position lsq status = 0\n",
      "i = 781 position lsq status = 2\n",
      "i = 782 position lsq status = 2\n",
      "i = 783 position lsq status = 2\n",
      "i = 784 position lsq status = 2\n",
      "i = 785 position lsq status = 2\n",
      "i = 786 position lsq status = 2\n",
      "i = 787 position lsq status = 2\n",
      "i = 788 position lsq status = 2\n",
      "i = 789 position lsq status = 2\n",
      "i = 790 position lsq status = 2\n",
      "i = 791 position lsq status = 0\n",
      "i = 792 position lsq status = 2\n",
      "i = 793 position lsq status = 0\n",
      "i = 794 position lsq status = 0\n",
      "i = 795 position lsq status = 0\n",
      "i = 796 position lsq status = 2\n",
      "i = 797 position lsq status = 0\n",
      "i = 798 position lsq status = 0\n",
      "i = 799 position lsq status = 0\n",
      "i = 800 position lsq status = 2\n",
      "i = 801 position lsq status = 2\n",
      "i = 802 position lsq status = 0\n",
      "i = 803 position lsq status = 0\n",
      "i = 804 position lsq status = 2\n",
      "i = 805 position lsq status = 2\n",
      "i = 806 position lsq status = 2\n",
      "i = 807 position lsq status = 0\n",
      "i = 808 position lsq status = 2\n",
      "i = 809 position lsq status = 2\n",
      "i = 810 position lsq status = 2\n",
      "i = 811 position lsq status = 2\n",
      "i = 812 position lsq status = 2\n",
      "i = 813 position lsq status = 0\n",
      "i = 814 position lsq status = 0\n",
      "i = 815 position lsq status = 2\n",
      "i = 816 position lsq status = 2\n",
      "i = 817 position lsq status = 2\n",
      "i = 818 position lsq status = 2\n",
      "i = 819 position lsq status = 0\n",
      "i = 820 position lsq status = 0\n",
      "i = 821 position lsq status = 2\n",
      "i = 822 position lsq status = 2\n",
      "i = 823 position lsq status = 2\n",
      "i = 824 position lsq status = 0\n",
      "i = 825 position lsq status = 0\n",
      "i = 826 position lsq status = 2\n",
      "i = 827 position lsq status = 2\n",
      "i = 828 position lsq status = 0\n",
      "i = 829 position lsq status = 0\n",
      "i = 830 position lsq status = 2\n",
      "i = 831 position lsq status = 2\n",
      "i = 832 position lsq status = 0\n",
      "i = 833 position lsq status = 0\n",
      "i = 834 position lsq status = 0\n",
      "i = 835 position lsq status = 2\n",
      "i = 836 position lsq status = 0\n",
      "i = 837 position lsq status = 0\n",
      "i = 838 position lsq status = 2\n",
      "i = 839 position lsq status = 2\n",
      "i = 840 position lsq status = 2\n",
      "i = 841 position lsq status = 0\n",
      "i = 842 position lsq status = 2\n",
      "i = 843 position lsq status = 2\n",
      "i = 844 position lsq status = 2\n",
      "i = 845 position lsq status = 2\n",
      "i = 846 position lsq status = 0\n",
      "i = 847 position lsq status = 2\n",
      "i = 848 position lsq status = 0\n",
      "i = 849 position lsq status = 2\n",
      "i = 850 position lsq status = 0\n",
      "i = 851 position lsq status = 2\n",
      "i = 852 position lsq status = 2\n",
      "i = 853 position lsq status = 2\n",
      "i = 854 position lsq status = 0\n",
      "i = 855 position lsq status = 2\n",
      "i = 856 position lsq status = 2\n",
      "i = 857 position lsq status = 0\n",
      "i = 858 position lsq status = 2\n",
      "i = 859 position lsq status = 2\n",
      "i = 860 position lsq status = 2\n",
      "i = 861 position lsq status = 2\n",
      "i = 862 position lsq status = 2\n",
      "i = 863 position lsq status = 2\n",
      "i = 864 position lsq status = 2\n",
      "i = 866 position lsq status = 2\n",
      "i = 867 position lsq status = 0\n",
      "i = 868 position lsq status = 2\n",
      "i = 869 position lsq status = 2\n",
      "i = 870 position lsq status = 2\n",
      "i = 871 position lsq status = 2\n",
      "i = 872 position lsq status = 2\n",
      "i = 873 position lsq status = 2\n",
      "i = 874 position lsq status = 2\n",
      "i = 875 position lsq status = 2\n",
      "i = 876 position lsq status = 0\n",
      "i = 877 position lsq status = 2\n",
      "i = 878 position lsq status = 0\n",
      "i = 879 position lsq status = 2\n",
      "i = 880 position lsq status = 2\n",
      "i = 881 position lsq status = 2\n",
      "i = 884 position lsq status = 2\n",
      "i = 885 position lsq status = 2\n",
      "i = 886 position lsq status = 0\n",
      "i = 887 position lsq status = 0\n",
      "i = 888 position lsq status = 2\n",
      "i = 889 position lsq status = 2\n",
      "i = 890 position lsq status = 2\n",
      "i = 891 position lsq status = 0\n",
      "i = 892 position lsq status = 0\n",
      "i = 893 position lsq status = 0\n",
      "i = 894 position lsq status = 0\n",
      "i = 895 position lsq status = 0\n",
      "i = 896 position lsq status = 2\n",
      "i = 897 position lsq status = 2\n",
      "i = 898 position lsq status = 0\n",
      "i = 899 position lsq status = 0\n",
      "i = 900 position lsq status = 0\n",
      "i = 901 position lsq status = 0\n",
      "i = 902 position lsq status = 0\n",
      "i = 903 position lsq status = 0\n",
      "i = 904 position lsq status = 2\n",
      "i = 905 position lsq status = 2\n",
      "i = 906 position lsq status = 2\n",
      "i = 907 position lsq status = 2\n",
      "i = 908 position lsq status = 2\n",
      "i = 909 position lsq status = 2\n",
      "i = 910 position lsq status = 2\n",
      "i = 911 position lsq status = 0\n",
      "i = 912 position lsq status = 0\n",
      "i = 913 position lsq status = 2\n",
      "i = 914 position lsq status = 0\n",
      "i = 915 position lsq status = 0\n",
      "i = 916 position lsq status = 0\n",
      "i = 917 position lsq status = 2\n",
      "i = 918 position lsq status = 2\n",
      "i = 919 position lsq status = 2\n",
      "i = 920 position lsq status = 2\n",
      "i = 921 position lsq status = 2\n",
      "i = 922 position lsq status = 2\n",
      "i = 923 position lsq status = 0\n",
      "i = 924 position lsq status = 0\n",
      "i = 925 position lsq status = 0\n",
      "i = 926 position lsq status = 0\n",
      "i = 927 position lsq status = 0\n",
      "i = 928 position lsq status = 2\n",
      "i = 929 position lsq status = 2\n",
      "i = 930 position lsq status = 0\n",
      "i = 931 position lsq status = 2\n",
      "i = 932 position lsq status = 2\n",
      "i = 933 position lsq status = 0\n",
      "i = 934 position lsq status = 2\n",
      "i = 935 position lsq status = 2\n",
      "i = 936 position lsq status = 2\n",
      "i = 937 position lsq status = 2\n",
      "i = 938 position lsq status = 2\n",
      "i = 939 position lsq status = 2\n",
      "i = 940 position lsq status = 2\n",
      "i = 941 position lsq status = 2\n",
      "i = 942 position lsq status = 2\n",
      "i = 943 position lsq status = 2\n",
      "i = 944 position lsq status = 2\n",
      "i = 945 position lsq status = 2\n",
      "i = 946 position lsq status = 0\n",
      "i = 947 position lsq status = 2\n",
      "i = 948 position lsq status = 0\n",
      "i = 949 position lsq status = 2\n",
      "i = 950 position lsq status = 2\n",
      "i = 951 position lsq status = 2\n",
      "i = 952 position lsq status = 2\n",
      "i = 953 position lsq status = 2\n",
      "i = 954 position lsq status = 2\n",
      "i = 955 position lsq status = 2\n",
      "i = 956 position lsq status = 2\n",
      "i = 957 position lsq status = 2\n",
      "i = 958 position lsq status = 2\n",
      "i = 960 position lsq status = 0\n",
      "i = 962 position lsq status = 2\n",
      "i = 963 position lsq status = 0\n",
      "i = 964 position lsq status = 2\n",
      "i = 965 position lsq status = 0\n",
      "i = 966 position lsq status = 0\n",
      "i = 967 position lsq status = 2\n",
      "i = 968 position lsq status = 0\n",
      "i = 969 position lsq status = 0\n",
      "i = 970 position lsq status = 2\n",
      "i = 973 position lsq status = 0\n",
      "i = 974 position lsq status = 0\n",
      "i = 975 position lsq status = 0\n",
      "i = 976 position lsq status = 0\n",
      "i = 977 position lsq status = 0\n",
      "i = 978 position lsq status = 2\n",
      "i = 979 position lsq status = 0\n",
      "i = 980 position lsq status = 2\n",
      "i = 981 position lsq status = 2\n",
      "i = 982 position lsq status = 2\n",
      "i = 983 position lsq status = 2\n",
      "i = 984 position lsq status = 0\n",
      "i = 985 position lsq status = 2\n",
      "i = 986 position lsq status = 2\n",
      "i = 987 position lsq status = 2\n",
      "i = 988 position lsq status = 2\n",
      "i = 989 position lsq status = 0\n",
      "i = 990 position lsq status = 2\n",
      "i = 991 position lsq status = 2\n",
      "i = 992 position lsq status = 2\n",
      "i = 993 position lsq status = 2\n",
      "i = 994 position lsq status = 2\n",
      "i = 995 position lsq status = 0\n",
      "i = 996 position lsq status = 2\n",
      "i = 997 position lsq status = 2\n",
      "i = 998 position lsq status = 2\n",
      "i = 999 position lsq status = 2\n",
      "i = 1000 position lsq status = 0\n",
      "i = 1001 position lsq status = 2\n",
      "i = 1002 position lsq status = 2\n",
      "i = 1003 position lsq status = 2\n",
      "i = 1004 position lsq status = 0\n",
      "i = 1005 position lsq status = 0\n",
      "i = 1006 position lsq status = 2\n",
      "i = 1007 position lsq status = 2\n",
      "i = 1008 position lsq status = 2\n",
      "i = 1009 position lsq status = 2\n",
      "i = 1010 position lsq status = 0\n",
      "i = 1011 position lsq status = 2\n",
      "i = 1012 position lsq status = 2\n",
      "i = 1013 position lsq status = 2\n",
      "i = 1014 position lsq status = 0\n",
      "i = 1015 position lsq status = 2\n",
      "i = 1016 position lsq status = 2\n",
      "i = 1017 position lsq status = 2\n",
      "i = 1018 position lsq status = 2\n",
      "i = 1019 position lsq status = 2\n",
      "i = 1020 position lsq status = 2\n",
      "i = 1021 position lsq status = 2\n",
      "i = 1022 position lsq status = 2\n",
      "i = 1023 position lsq status = 0\n",
      "i = 1024 position lsq status = 2\n",
      "i = 1025 position lsq status = 0\n",
      "i = 1026 position lsq status = 2\n",
      "i = 1027 position lsq status = 2\n",
      "i = 1028 position lsq status = 2\n",
      "i = 1029 position lsq status = 2\n",
      "i = 1030 position lsq status = 2\n",
      "i = 1031 position lsq status = 2\n",
      "i = 1032 position lsq status = 2\n",
      "i = 1033 position lsq status = 2\n",
      "i = 1034 position lsq status = 2\n",
      "i = 1035 position lsq status = 2\n",
      "i = 1036 position lsq status = 2\n",
      "i = 1037 position lsq status = 2\n",
      "i = 1038 position lsq status = 2\n",
      "i = 1039 position lsq status = 2\n",
      "i = 1040 position lsq status = 0\n",
      "i = 1041 position lsq status = 2\n",
      "i = 1042 position lsq status = 0\n",
      "i = 1043 position lsq status = 2\n",
      "i = 1044 position lsq status = 2\n",
      "i = 1045 position lsq status = 2\n",
      "i = 1046 position lsq status = 2\n",
      "i = 1047 position lsq status = 2\n",
      "i = 1048 position lsq status = 2\n",
      "i = 1049 position lsq status = 2\n",
      "i = 1050 position lsq status = 2\n",
      "i = 1051 position lsq status = 2\n",
      "i = 1052 position lsq status = 2\n",
      "i = 1053 position lsq status = 0\n",
      "i = 1054 position lsq status = 2\n",
      "i = 1055 position lsq status = 2\n",
      "i = 1056 position lsq status = 2\n",
      "i = 1057 position lsq status = 0\n",
      "i = 1058 position lsq status = 0\n",
      "i = 1059 position lsq status = 2\n",
      "i = 1060 position lsq status = 2\n",
      "i = 1061 position lsq status = 2\n",
      "i = 1062 position lsq status = 2\n",
      "i = 1063 position lsq status = 2\n",
      "i = 1064 position lsq status = 2\n",
      "i = 1065 position lsq status = 2\n",
      "i = 1066 position lsq status = 2\n",
      "i = 1067 position lsq status = 2\n",
      "i = 1068 position lsq status = 2\n",
      "i = 1069 position lsq status = 2\n",
      "i = 1070 position lsq status = 2\n",
      "i = 1071 position lsq status = 2\n",
      "i = 1072 position lsq status = 2\n",
      "i = 1073 position lsq status = 0\n",
      "i = 1074 position lsq status = 2\n",
      "i = 1075 position lsq status = 2\n",
      "i = 1076 position lsq status = 2\n",
      "i = 1077 position lsq status = 2\n",
      "i = 1078 position lsq status = 2\n",
      "i = 1079 position lsq status = 2\n",
      "i = 1080 position lsq status = 2\n",
      "i = 1081 position lsq status = 2\n",
      "i = 1082 position lsq status = 2\n",
      "i = 1083 position lsq status = 2\n",
      "i = 1084 position lsq status = 2\n",
      "i = 1085 position lsq status = 2\n",
      "i = 1086 position lsq status = 2\n",
      "i = 1087 position lsq status = 2\n",
      "i = 1088 position lsq status = 2\n",
      "i = 1089 position lsq status = 0\n",
      "i = 1090 position lsq status = 0\n",
      "i = 1091 position lsq status = 2\n",
      "i = 1092 position lsq status = 2\n",
      "i = 1093 position lsq status = 0\n",
      "i = 1094 position lsq status = 0\n",
      "i = 1095 position lsq status = 2\n",
      "i = 1096 position lsq status = 0\n",
      "i = 1097 position lsq status = 2\n",
      "i = 1098 position lsq status = 2\n",
      "i = 1099 position lsq status = 0\n",
      "i = 1100 position lsq status = 2\n",
      "i = 1101 position lsq status = 2\n",
      "i = 1102 position lsq status = 2\n",
      "i = 1103 position lsq status = 0\n",
      "i = 1104 position lsq status = 2\n",
      "i = 1105 position lsq status = 0\n",
      "i = 1106 position lsq status = 0\n",
      "i = 1107 position lsq status = 0\n",
      "i = 1108 position lsq status = 0\n",
      "i = 1109 position lsq status = 2\n",
      "i = 1110 position lsq status = 2\n",
      "i = 1111 position lsq status = 0\n",
      "i = 1112 position lsq status = 0\n",
      "i = 1113 position lsq status = 0\n",
      "i = 1114 position lsq status = 2\n",
      "i = 1115 position lsq status = 2\n",
      "i = 1116 position lsq status = 2\n",
      "i = 1117 position lsq status = 2\n",
      "i = 1118 position lsq status = 0\n",
      "i = 1119 position lsq status = 2\n",
      "i = 1120 position lsq status = 2\n",
      "i = 1122 position lsq status = 0\n",
      "i = 1123 position lsq status = 0\n",
      "i = 1124 position lsq status = 2\n",
      "i = 1125 position lsq status = 0\n",
      "i = 1126 position lsq status = 0\n",
      "i = 1127 position lsq status = 0\n",
      "i = 1128 position lsq status = 2\n",
      "i = 1129 position lsq status = 0\n",
      "i = 1132 position lsq status = 2\n",
      "i = 1133 position lsq status = 2\n",
      "i = 1134 position lsq status = 2\n",
      "i = 1135 position lsq status = 2\n",
      "i = 1136 position lsq status = 0\n",
      "i = 1137 position lsq status = 2\n",
      "i = 1138 position lsq status = 2\n",
      "i = 1139 position lsq status = 2\n",
      "i = 1140 position lsq status = 2\n",
      "i = 1141 position lsq status = 2\n",
      "i = 1142 position lsq status = 0\n",
      "i = 1143 position lsq status = 2\n",
      "i = 1144 position lsq status = 2\n",
      "i = 1145 position lsq status = 2\n",
      "i = 1146 position lsq status = 0\n",
      "i = 1147 position lsq status = 2\n",
      "i = 1149 position lsq status = 2\n",
      "i = 1150 position lsq status = 0\n",
      "i = 1151 position lsq status = 2\n",
      "i = 1153 position lsq status = 2\n",
      "i = 1154 position lsq status = 2\n",
      "i = 1155 position lsq status = 2\n",
      "i = 1156 position lsq status = 2\n",
      "i = 1157 position lsq status = 0\n",
      "i = 1158 position lsq status = 0\n",
      "i = 1159 position lsq status = 0\n",
      "i = 1160 position lsq status = 2\n",
      "i = 1161 position lsq status = 0\n",
      "i = 1162 position lsq status = 2\n",
      "i = 1163 position lsq status = 2\n",
      "i = 1164 position lsq status = 2\n",
      "i = 1165 position lsq status = 0\n",
      "i = 1166 position lsq status = 2\n",
      "i = 1167 position lsq status = 0\n",
      "i = 1168 position lsq status = 0\n",
      "i = 1170 position lsq status = 0\n",
      "i = 1171 position lsq status = 2\n",
      "i = 1172 position lsq status = 0\n",
      "i = 1173 position lsq status = 2\n",
      "i = 1174 position lsq status = 2\n",
      "i = 1175 position lsq status = 2\n",
      "i = 1176 position lsq status = 0\n",
      "i = 1177 position lsq status = 0\n",
      "i = 1178 position lsq status = 2\n",
      "i = 1179 position lsq status = 2\n",
      "i = 1180 position lsq status = 2\n",
      "i = 1181 position lsq status = 2\n",
      "i = 1182 position lsq status = 2\n",
      "i = 1183 position lsq status = 0\n",
      "i = 1184 position lsq status = 2\n",
      "i = 1185 position lsq status = 2\n",
      "i = 1186 position lsq status = 2\n",
      "i = 1187 position lsq status = 0\n",
      "i = 1188 position lsq status = 2\n",
      "i = 1189 position lsq status = 2\n",
      "i = 1190 position lsq status = 2\n",
      "i = 1191 position lsq status = 2\n",
      "i = 1192 position lsq status = 0\n",
      "i = 1193 position lsq status = 2\n",
      "i = 1194 position lsq status = 2\n",
      "i = 1195 position lsq status = 2\n",
      "i = 1196 position lsq status = 2\n",
      "i = 1197 position lsq status = 2\n",
      "i = 1198 position lsq status = 2\n",
      "i = 1199 position lsq status = 2\n",
      "i = 1200 position lsq status = 0\n",
      "i = 1201 position lsq status = 2\n",
      "i = 1202 position lsq status = 2\n",
      "i = 1203 position lsq status = 2\n",
      "i = 1204 position lsq status = 2\n",
      "i = 1205 position lsq status = 2\n",
      "i = 1206 position lsq status = 0\n",
      "i = 1207 position lsq status = 0\n",
      "i = 1208 position lsq status = 0\n",
      "i = 1209 position lsq status = 2\n",
      "i = 1210 position lsq status = 2\n",
      "i = 1211 position lsq status = 2\n",
      "i = 1212 position lsq status = 2\n",
      "i = 1213 position lsq status = 2\n",
      "i = 1214 position lsq status = 2\n",
      "i = 1215 position lsq status = 0\n",
      "i = 1216 position lsq status = 2\n",
      "i = 1217 position lsq status = 2\n",
      "i = 1218 position lsq status = 2\n",
      "i = 1219 position lsq status = 2\n",
      "i = 1220 position lsq status = 2\n",
      "i = 1221 position lsq status = 2\n",
      "i = 1222 position lsq status = 2\n",
      "i = 1223 position lsq status = 2\n",
      "i = 1224 position lsq status = 2\n",
      "i = 1225 position lsq status = 2\n",
      "i = 1226 position lsq status = 0\n",
      "i = 1227 position lsq status = 0\n",
      "i = 1228 position lsq status = 2\n",
      "i = 1229 position lsq status = 2\n",
      "i = 1230 position lsq status = 2\n",
      "i = 1231 position lsq status = 2\n",
      "i = 1232 position lsq status = 2\n",
      "i = 1233 position lsq status = 2\n",
      "i = 1234 position lsq status = 0\n",
      "i = 1235 position lsq status = 2\n",
      "i = 1236 position lsq status = 2\n",
      "i = 1237 position lsq status = 2\n",
      "i = 1238 position lsq status = 2\n",
      "i = 1239 position lsq status = 0\n",
      "i = 1240 position lsq status = 2\n",
      "i = 1241 position lsq status = 2\n",
      "i = 1242 position lsq status = 2\n",
      "i = 1243 position lsq status = 0\n",
      "i = 1244 position lsq status = 2\n",
      "i = 1245 position lsq status = 2\n",
      "i = 1246 position lsq status = 2\n",
      "i = 1247 position lsq status = 2\n",
      "i = 1248 position lsq status = 2\n",
      "i = 1249 position lsq status = 0\n",
      "i = 1250 position lsq status = 2\n",
      "i = 1251 position lsq status = 2\n",
      "i = 1252 position lsq status = 2\n",
      "i = 1253 position lsq status = 2\n",
      "i = 1254 position lsq status = 2\n",
      "i = 1255 position lsq status = 2\n",
      "i = 1256 position lsq status = 2\n",
      "i = 1257 position lsq status = 2\n",
      "i = 1258 position lsq status = 2\n",
      "i = 1259 position lsq status = 2\n",
      "i = 1260 position lsq status = 0\n",
      "i = 1261 position lsq status = 2\n",
      "i = 1262 position lsq status = 0\n",
      "i = 1263 position lsq status = 2\n",
      "i = 1264 position lsq status = 0\n",
      "i = 1265 position lsq status = 2\n",
      "i = 1267 position lsq status = 2\n",
      "i = 1268 position lsq status = 2\n",
      "i = 1269 position lsq status = 2\n",
      "i = 1270 position lsq status = 0\n",
      "i = 1271 position lsq status = 2\n",
      "i = 1272 position lsq status = 2\n",
      "i = 1273 position lsq status = 2\n",
      "i = 1274 position lsq status = 2\n",
      "i = 1275 position lsq status = 2\n",
      "i = 1276 position lsq status = 0\n",
      "i = 1277 position lsq status = 2\n",
      "i = 1278 position lsq status = 0\n",
      "i = 1279 position lsq status = 2\n",
      "i = 1280 position lsq status = 0\n",
      "i = 1281 position lsq status = 2\n",
      "i = 1282 position lsq status = 2\n",
      "i = 1283 position lsq status = 2\n",
      "i = 1284 position lsq status = 2\n",
      "i = 1285 position lsq status = 0\n",
      "i = 1286 position lsq status = 2\n",
      "i = 1287 position lsq status = 2\n",
      "i = 1288 position lsq status = 0\n",
      "i = 1289 position lsq status = 2\n",
      "i = 1290 position lsq status = 2\n",
      "i = 1291 position lsq status = 2\n",
      "i = 1292 position lsq status = 0\n",
      "i = 1293 position lsq status = 2\n",
      "i = 1294 position lsq status = 0\n",
      "i = 1295 position lsq status = 2\n",
      "i = 1296 position lsq status = 0\n",
      "i = 1297 position lsq status = 2\n",
      "i = 1298 position lsq status = 2\n",
      "i = 1299 position lsq status = 2\n",
      "i = 1300 position lsq status = 0\n",
      "i = 1301 position lsq status = 2\n",
      "i = 1302 position lsq status = 2\n",
      "i = 1303 position lsq status = 2\n",
      "i = 1304 position lsq status = 2\n",
      "i = 1305 position lsq status = 2\n",
      "i = 1306 position lsq status = 2\n",
      "i = 1307 position lsq status = 2\n",
      "i = 1308 position lsq status = 2\n",
      "i = 1309 position lsq status = 2\n",
      "i = 1310 position lsq status = 0\n",
      "i = 1311 position lsq status = 2\n",
      "i = 1312 position lsq status = 2\n",
      "i = 1313 position lsq status = 0\n",
      "i = 1314 position lsq status = 2\n",
      "i = 1315 position lsq status = 2\n",
      "i = 1316 position lsq status = 2\n",
      "i = 1317 position lsq status = 2\n",
      "i = 1318 position lsq status = 2\n",
      "i = 1319 position lsq status = 2\n",
      "i = 1320 position lsq status = 2\n",
      "i = 1321 position lsq status = 0\n",
      "i = 1322 position lsq status = 2\n",
      "i = 1323 position lsq status = 2\n",
      "i = 1324 position lsq status = 2\n",
      "i = 1325 position lsq status = 2\n",
      "i = 1326 position lsq status = 0\n",
      "i = 1327 position lsq status = 2\n",
      "i = 1328 position lsq status = 0\n",
      "i = 1329 position lsq status = 2\n",
      "i = 1331 position lsq status = 2\n",
      "i = 1332 position lsq status = 2\n",
      "i = 1333 position lsq status = 0\n",
      "i = 1334 position lsq status = 0\n",
      "i = 1335 position lsq status = 2\n",
      "i = 1336 position lsq status = 0\n",
      "i = 1337 position lsq status = 2\n",
      "i = 1338 position lsq status = 2\n",
      "i = 1339 position lsq status = 2\n",
      "i = 1340 position lsq status = 2\n",
      "i = 1341 position lsq status = 2\n",
      "i = 1342 position lsq status = 0\n",
      "i = 1343 position lsq status = 2\n",
      "i = 1344 position lsq status = 0\n",
      "i = 1345 position lsq status = 0\n",
      "i = 1346 position lsq status = 2\n",
      "i = 1347 position lsq status = 2\n",
      "i = 1348 position lsq status = 0\n",
      "i = 1349 position lsq status = 2\n",
      "i = 1350 position lsq status = 2\n",
      "i = 1351 position lsq status = 2\n",
      "i = 1352 position lsq status = 2\n",
      "i = 1353 position lsq status = 2\n",
      "i = 1354 position lsq status = 2\n",
      "i = 1355 position lsq status = 2\n",
      "i = 1356 position lsq status = 2\n",
      "i = 1357 position lsq status = 0\n",
      "i = 1358 position lsq status = 2\n",
      "i = 1359 position lsq status = 2\n",
      "i = 1360 position lsq status = 0\n",
      "i = 1361 position lsq status = 2\n",
      "i = 1362 position lsq status = 2\n",
      "i = 1363 position lsq status = 2\n",
      "i = 1364 position lsq status = 2\n",
      "i = 1365 position lsq status = 2\n",
      "i = 1366 position lsq status = 2\n",
      "i = 1367 position lsq status = 2\n",
      "i = 1368 position lsq status = 2\n",
      "i = 1369 position lsq status = 2\n",
      "i = 1370 position lsq status = 2\n",
      "i = 1371 position lsq status = 2\n",
      "i = 1372 position lsq status = 2\n",
      "i = 1373 position lsq status = 2\n",
      "i = 1374 position lsq status = 2\n",
      "i = 1375 position lsq status = 2\n",
      "i = 1376 position lsq status = 2\n",
      "i = 1377 position lsq status = 2\n",
      "i = 1378 position lsq status = 2\n",
      "i = 1379 position lsq status = 2\n",
      "i = 1380 position lsq status = 2\n",
      "i = 1381 position lsq status = 2\n",
      "i = 1382 position lsq status = 2\n",
      "i = 1383 position lsq status = 2\n",
      "i = 1384 position lsq status = 2\n",
      "i = 1385 position lsq status = 2\n",
      "i = 1386 position lsq status = 2\n",
      "i = 1387 position lsq status = 2\n",
      "i = 1388 position lsq status = 2\n",
      "i = 1389 position lsq status = 2\n",
      "i = 1390 position lsq status = 2\n",
      "i = 1391 position lsq status = 0\n",
      "i = 1392 position lsq status = 2\n",
      "i = 1393 position lsq status = 2\n",
      "i = 1394 position lsq status = 2\n",
      "i = 1395 position lsq status = 2\n",
      "i = 1396 position lsq status = 0\n",
      "i = 1398 position lsq status = 0\n",
      "i = 1399 position lsq status = 2\n",
      "i = 1400 position lsq status = 2\n",
      "i = 1401 position lsq status = 2\n",
      "i = 1402 position lsq status = 2\n",
      "i = 1403 position lsq status = 2\n",
      "i = 1404 position lsq status = 2\n",
      "i = 1405 position lsq status = 2\n",
      "i = 1406 position lsq status = 2\n",
      "i = 1407 position lsq status = 2\n",
      "i = 1408 position lsq status = 2\n",
      "i = 1409 position lsq status = 2\n",
      "i = 1410 position lsq status = 2\n",
      "i = 1411 position lsq status = 2\n",
      "i = 1412 position lsq status = 2\n",
      "i = 1413 position lsq status = 2\n",
      "i = 1414 position lsq status = 0\n",
      "i = 1415 position lsq status = 2\n",
      "i = 1416 position lsq status = 2\n",
      "i = 1417 position lsq status = 2\n",
      "i = 1418 position lsq status = 2\n",
      "i = 1419 position lsq status = 2\n",
      "i = 1420 position lsq status = 2\n",
      "i = 1421 position lsq status = 0\n",
      "i = 1423 position lsq status = 2\n",
      "i = 1424 position lsq status = 2\n",
      "i = 1425 position lsq status = 0\n",
      "i = 1426 position lsq status = 2\n",
      "i = 1427 position lsq status = 2\n",
      "i = 1428 position lsq status = 0\n",
      "i = 1429 position lsq status = 0\n",
      "i = 1430 position lsq status = 2\n",
      "i = 1431 position lsq status = 0\n",
      "i = 1432 position lsq status = 2\n",
      "i = 1433 position lsq status = 2\n",
      "i = 1434 position lsq status = 2\n",
      "i = 1435 position lsq status = 2\n",
      "i = 1436 position lsq status = 2\n",
      "i = 1437 position lsq status = 0\n",
      "i = 1438 position lsq status = 2\n",
      "i = 1439 position lsq status = 0\n",
      "i = 1440 position lsq status = 2\n",
      "i = 1441 position lsq status = 0\n",
      "i = 1442 position lsq status = 2\n",
      "i = 1443 position lsq status = 0\n",
      "i = 1444 position lsq status = 0\n",
      "i = 1445 position lsq status = 2\n",
      "i = 1446 position lsq status = 2\n",
      "i = 1447 position lsq status = 2\n",
      "i = 1448 position lsq status = 2\n",
      "i = 1449 position lsq status = 2\n",
      "i = 1450 position lsq status = 2\n",
      "i = 1451 position lsq status = 2\n",
      "i = 1452 position lsq status = 2\n",
      "Error processing\n",
      "Skipped due to errors.\n",
      "Drive: 2023-09-06-18-47-us-ca, Phone: pixel4xl\n"
     ]
    },
    {
     "data": {
      "text/plain": "  0%|          | 0/1486 [00:00<?, ?it/s]",
      "application/vnd.jupyter.widget-view+json": {
       "version_major": 2,
       "version_minor": 0,
       "model_id": "f1d4dece3eaa42308f197e69d25340a7"
      }
     },
     "metadata": {},
     "output_type": "display_data"
    },
    {
     "name": "stdout",
     "output_type": "stream",
     "text": [
      "Epoch [20/100], Loss: 13522573459456.0000, Current LR: 0.001\n",
      "Epoch [40/100], Loss: 13522564022272.0000, Current LR: 0.001\n",
      "Epoch [60/100], Loss: 13522554585088.0000, Current LR: 0.001\n",
      "Epoch [80/100], Loss: 13522543050752.0000, Current LR: 0.001\n",
      "Epoch [100/100], Loss: 13522534662144.0000, Current LR: 0.001\n",
      "Processed successfully 102/144.\n",
      "Drive: 2023-09-06-18-47-us-ca, Phone: pixel6pro\n"
     ]
    },
    {
     "data": {
      "text/plain": "  0%|          | 0/1486 [00:00<?, ?it/s]",
      "application/vnd.jupyter.widget-view+json": {
       "version_major": 2,
       "version_minor": 0,
       "model_id": "24a7e903649c49c2802ebe4f837eeaae"
      }
     },
     "metadata": {},
     "output_type": "display_data"
    },
    {
     "name": "stdout",
     "output_type": "stream",
     "text": [
      "Epoch [20/100], Loss: 13522529419264.0000, Current LR: 0.001\n",
      "Epoch [40/100], Loss: 13522519982080.0000, Current LR: 0.001\n",
      "Epoch [60/100], Loss: 13522511593472.0000, Current LR: 0.001\n",
      "Epoch [80/100], Loss: 13522501107712.0000, Current LR: 0.001\n",
      "Epoch [100/100], Loss: 13522490621952.0000, Current LR: 0.001\n",
      "Processed successfully 103/145.\n",
      "Drive: 2023-09-06-22-49-us-ca-routebb1, Phone: pixel7pro\n"
     ]
    },
    {
     "data": {
      "text/plain": "  0%|          | 0/1602 [00:00<?, ?it/s]",
      "application/vnd.jupyter.widget-view+json": {
       "version_major": 2,
       "version_minor": 0,
       "model_id": "c63237e7837c4951b050d68d84cc68ca"
      }
     },
     "metadata": {},
     "output_type": "display_data"
    },
    {
     "name": "stdout",
     "output_type": "stream",
     "text": [
      "Epoch [20/100], Loss: 13521967382528.0000, Current LR: 0.001\n",
      "Epoch [40/100], Loss: 13521957945344.0000, Current LR: 0.001\n",
      "Epoch [60/100], Loss: 13521946411008.0000, Current LR: 0.001\n",
      "Epoch [80/100], Loss: 13521938022400.0000, Current LR: 0.001\n",
      "Epoch [100/100], Loss: 13521929633792.0000, Current LR: 0.001\n",
      "Processed successfully 104/146.\n",
      "Drive: 2023-09-06-22-49-us-ca-routebb1, Phone: sm-s908b\n"
     ]
    },
    {
     "data": {
      "text/plain": "  0%|          | 0/1603 [00:00<?, ?it/s]",
      "application/vnd.jupyter.widget-view+json": {
       "version_major": 2,
       "version_minor": 0,
       "model_id": "e602dd88cd924eea86c869845f8f5da3"
      }
     },
     "metadata": {},
     "output_type": "display_data"
    },
    {
     "name": "stdout",
     "output_type": "stream",
     "text": [
      "Epoch [20/100], Loss: 13521981014016.0000, Current LR: 0.001\n",
      "Epoch [40/100], Loss: 13521972625408.0000, Current LR: 0.001\n",
      "Epoch [60/100], Loss: 13521962139648.0000, Current LR: 0.001\n",
      "Epoch [80/100], Loss: 13521953751040.0000, Current LR: 0.001\n",
      "Epoch [100/100], Loss: 13521944313856.0000, Current LR: 0.001\n",
      "Processed successfully 105/147.\n",
      "Drive: 2023-09-07-18-59-us-ca, Phone: pixel5\n"
     ]
    },
    {
     "data": {
      "text/plain": "  0%|          | 0/1172 [00:00<?, ?it/s]",
      "application/vnd.jupyter.widget-view+json": {
       "version_major": 2,
       "version_minor": 0,
       "model_id": "e3a4b237c9d549b3bcfc400a3b5ea7c7"
      }
     },
     "metadata": {},
     "output_type": "display_data"
    },
    {
     "name": "stdout",
     "output_type": "stream",
     "text": [
      "Epoch [20/100], Loss: 13521506009088.0000, Current LR: 0.001\n",
      "Epoch [40/100], Loss: 13521495523328.0000, Current LR: 0.001\n",
      "Epoch [60/100], Loss: 13521486086144.0000, Current LR: 0.001\n",
      "Epoch [80/100], Loss: 13521476648960.0000, Current LR: 0.001\n",
      "Epoch [100/100], Loss: 13521466163200.0000, Current LR: 0.001\n",
      "Processed successfully 106/148.\n",
      "Drive: 2023-09-07-18-59-us-ca, Phone: pixel7pro\n"
     ]
    },
    {
     "data": {
      "text/plain": "  0%|          | 0/1175 [00:00<?, ?it/s]",
      "application/vnd.jupyter.widget-view+json": {
       "version_major": 2,
       "version_minor": 0,
       "model_id": "2e4278dbc67942d8ae81511078634afb"
      }
     },
     "metadata": {},
     "output_type": "display_data"
    },
    {
     "name": "stdout",
     "output_type": "stream",
     "text": [
      "Epoch [20/100], Loss: 13521458823168.0000, Current LR: 0.001\n",
      "Epoch [40/100], Loss: 13521450434560.0000, Current LR: 0.001\n",
      "Epoch [60/100], Loss: 13521440997376.0000, Current LR: 0.001\n",
      "Epoch [80/100], Loss: 13521430511616.0000, Current LR: 0.001\n",
      "Epoch [100/100], Loss: 13521421074432.0000, Current LR: 0.001\n",
      "Processed successfully 107/149.\n",
      "Drive: 2023-09-07-19-33-us-ca, Phone: pixel4xl\n"
     ]
    },
    {
     "data": {
      "text/plain": "  0%|          | 0/1087 [00:00<?, ?it/s]",
      "application/vnd.jupyter.widget-view+json": {
       "version_major": 2,
       "version_minor": 0,
       "model_id": "92ea0686b91248d2b6d40c1f7f4319b1"
      }
     },
     "metadata": {},
     "output_type": "display_data"
    },
    {
     "name": "stdout",
     "output_type": "stream",
     "text": [
      "Error processing\n",
      "Skipped due to errors.\n",
      "Drive: 2023-09-07-19-33-us-ca, Phone: pixel5a\n"
     ]
    },
    {
     "data": {
      "text/plain": "  0%|          | 0/1085 [00:00<?, ?it/s]",
      "application/vnd.jupyter.widget-view+json": {
       "version_major": 2,
       "version_minor": 0,
       "model_id": "9f44ebe58fce49108a11d99a8c80169c"
      }
     },
     "metadata": {},
     "output_type": "display_data"
    },
    {
     "name": "stdout",
     "output_type": "stream",
     "text": [
      "Error processing\n",
      "Skipped due to errors.\n",
      "Drive: 2023-09-07-19-33-us-ca, Phone: pixel6pro\n"
     ]
    },
    {
     "data": {
      "text/plain": "  0%|          | 0/1089 [00:00<?, ?it/s]",
      "application/vnd.jupyter.widget-view+json": {
       "version_major": 2,
       "version_minor": 0,
       "model_id": "6f4ffa9d17704f128687c3c098d19fef"
      }
     },
     "metadata": {},
     "output_type": "display_data"
    },
    {
     "name": "stdout",
     "output_type": "stream",
     "text": [
      "Epoch [20/100], Loss: 13521415831552.0000, Current LR: 0.001\n",
      "Epoch [40/100], Loss: 13521405345792.0000, Current LR: 0.001\n",
      "Epoch [60/100], Loss: 13521396957184.0000, Current LR: 0.001\n",
      "Epoch [80/100], Loss: 13521386471424.0000, Current LR: 0.001\n",
      "Epoch [100/100], Loss: 13521377034240.0000, Current LR: 0.001\n",
      "Processed successfully 108/152.\n",
      "Drive: 2023-09-07-19-33-us-ca, Phone: sm-g955f\n"
     ]
    },
    {
     "data": {
      "text/plain": "  0%|          | 0/1088 [00:00<?, ?it/s]",
      "application/vnd.jupyter.widget-view+json": {
       "version_major": 2,
       "version_minor": 0,
       "model_id": "059b72c6e8da4b13a35f6b50a9e11e4d"
      }
     },
     "metadata": {},
     "output_type": "display_data"
    },
    {
     "name": "stdout",
     "output_type": "stream",
     "text": [
      "Error processing\n",
      "Skipped due to errors.\n",
      "Drive: 2023-09-07-22-47-us-ca-routebc2, Phone: pixel6pro\n"
     ]
    },
    {
     "data": {
      "text/plain": "  0%|          | 0/2067 [00:00<?, ?it/s]",
      "application/vnd.jupyter.widget-view+json": {
       "version_major": 2,
       "version_minor": 0,
       "model_id": "eb28b5c1abda41a88e59c09aa78f9f9e"
      }
     },
     "metadata": {},
     "output_type": "display_data"
    },
    {
     "name": "stdout",
     "output_type": "stream",
     "text": [
      "i = 69 position lsq status = 2\n",
      "i = 75 position lsq status = 2\n",
      "i = 76 position lsq status = 2\n",
      "i = 78 position lsq status = 2\n",
      "i = 80 position lsq status = 2\n",
      "i = 82 position lsq status = 2\n",
      "i = 88 position lsq status = 2\n",
      "i = 89 position lsq status = 2\n",
      "i = 99 position lsq status = 2\n",
      "i = 100 position lsq status = 2\n",
      "i = 823 position lsq status = 2\n",
      "i = 826 position lsq status = 2\n",
      "i = 827 position lsq status = 2\n",
      "i = 828 position lsq status = 2\n",
      "i = 831 position lsq status = 2\n",
      "i = 832 position lsq status = 2\n",
      "i = 834 position lsq status = 2\n",
      "i = 836 position lsq status = 2\n",
      "i = 838 position lsq status = 2\n",
      "i = 850 position lsq status = 2\n",
      "i = 865 position lsq status = 2\n",
      "i = 866 position lsq status = 2\n",
      "i = 869 position lsq status = 2\n",
      "i = 872 position lsq status = 2\n",
      "i = 883 position lsq status = 2\n",
      "i = 884 position lsq status = 2\n",
      "i = 885 position lsq status = 2\n",
      "i = 900 position lsq status = 2\n",
      "i = 905 position lsq status = 2\n",
      "i = 906 position lsq status = 2\n",
      "i = 908 position lsq status = 2\n",
      "i = 919 position lsq status = 2\n",
      "i = 925 position lsq status = 2\n",
      "i = 928 position lsq status = 2\n",
      "i = 930 position lsq status = 2\n",
      "i = 931 position lsq status = 2\n",
      "Error processing\n",
      "Skipped due to errors.\n",
      "Drive: 2023-09-07-22-48-us-ca-routebc2, Phone: pixel4xl\n"
     ]
    },
    {
     "data": {
      "text/plain": "  0%|          | 0/2070 [00:00<?, ?it/s]",
      "application/vnd.jupyter.widget-view+json": {
       "version_major": 2,
       "version_minor": 0,
       "model_id": "9868550bfdd449699508ee6ace844c76"
      }
     },
     "metadata": {},
     "output_type": "display_data"
    },
    {
     "name": "stdout",
     "output_type": "stream",
     "text": [
      "Epoch [20/100], Loss: 13521670635520.0000, Current LR: 0.001\n",
      "Epoch [40/100], Loss: 13521660149760.0000, Current LR: 0.001\n",
      "Epoch [60/100], Loss: 13521650712576.0000, Current LR: 0.001\n",
      "Epoch [80/100], Loss: 13521641275392.0000, Current LR: 0.001\n",
      "Epoch [100/100], Loss: 13521631838208.0000, Current LR: 0.001\n",
      "Processed successfully 109/155.\n",
      "Drive: 2023-09-07-22-48-us-ca-routebc2, Phone: pixel5a\n"
     ]
    },
    {
     "data": {
      "text/plain": "  0%|          | 0/2072 [00:00<?, ?it/s]",
      "application/vnd.jupyter.widget-view+json": {
       "version_major": 2,
       "version_minor": 0,
       "model_id": "6679f238db9a47569a409fac2a312d4f"
      }
     },
     "metadata": {},
     "output_type": "display_data"
    },
    {
     "name": "stdout",
     "output_type": "stream",
     "text": [
      "Epoch [20/100], Loss: 13521627643904.0000, Current LR: 0.001\n",
      "Epoch [40/100], Loss: 13521618206720.0000, Current LR: 0.001\n",
      "Epoch [60/100], Loss: 13521610866688.0000, Current LR: 0.001\n",
      "Epoch [80/100], Loss: 13521600380928.0000, Current LR: 0.001\n",
      "Epoch [100/100], Loss: 13521591992320.0000, Current LR: 0.001\n",
      "Processed successfully 110/156.\n"
     ]
    }
   ],
   "source": [
    "# Loop for each trip\n",
    "path = 'D:/PythonProject/FinalProject/smartphone-decimeter-2023/sdc2023/train'\n",
    "\n",
    "num_SuccessFile = 0 \n",
    "num_features = 4\n",
    "hidden_dim = 64  # LSTM隐藏层维数\n",
    "output_dim = 3  # 输出类别数\n",
    "num_layers = 3  # LSTM层数\n",
    "dropout = 0.5\n",
    "sequence_length = 10\n",
    "# 实例化模型\n",
    "model_train = LSTMModel(num_features, hidden_dim, output_dim, num_layers, dropout)\n",
    "optimizer = torch.optim.Adam(model_train.parameters(), lr=0.001)\n",
    "loss_function = nn.MSELoss()\n",
    "\n",
    "for i, dirname in enumerate(tqdm(sorted(gl.glob(f'{path}/*/*')))):\n",
    "    cleaned_path = dirname.replace('\\\\', '/').rstrip('/')\n",
    "    \n",
    "    # 分割路径并选择最后两个部分作为 drive 和 phone\n",
    "    drive, phone = cleaned_path.split('/')[-2:]\n",
    "    \n",
    "    # 输出 drive 和 phone 以验证\n",
    "    print(f\"Drive: {drive}, Phone: {phone}\")\n",
    "\n",
    "    # Read data\n",
    "    gnss_df = pd.read_csv(f'{dirname}/device_gnss.csv',low_memory=False)\n",
    "    gt_df = pd.read_csv(f'{dirname}/ground_truth.csv',low_memory=False)\n",
    "    \n",
    "    # Point positioning\n",
    "    utc, x_wls, v_wls = point_positioning(gnss_df)\n",
    "\n",
    "    # Exclude velocity outliers\n",
    "    x_wls, v_wls = exclude_interpolate_outlier(x_wls, v_wls)\n",
    "    \n",
    "    checkpoint = process_array(x_wls)\n",
    "    if checkpoint is not None:\n",
    "        num_SuccessFile = num_SuccessFile + 1\n",
    "        print(\"Processed successfully %d/%d.\"%(num_SuccessFile,i+1))\n",
    "    else:\n",
    "        print(\"Skipped due to errors.\")"
   ],
   "metadata": {
    "collapsed": false,
    "ExecuteTime": {
     "end_time": "2024-04-30T05:17:39.097354Z",
     "start_time": "2024-04-30T04:41:36.273579Z"
    }
   },
   "id": "62ac96327a7b1ff9",
   "execution_count": 368
  },
  {
   "cell_type": "code",
   "outputs": [],
   "source": [
    "# torch.save(model_train.state_dict(), 'model_state_dict.pth')"
   ],
   "metadata": {
    "collapsed": false,
    "ExecuteTime": {
     "end_time": "2024-04-30T02:49:22.715058Z",
     "start_time": "2024-04-30T02:49:22.709973Z"
    }
   },
   "id": "3d817bde88cdce39",
   "execution_count": 347
  },
  {
   "cell_type": "markdown",
   "source": [],
   "metadata": {
    "collapsed": false
   },
   "id": "387b6c422be8bc68"
  },
  {
   "cell_type": "code",
   "outputs": [
    {
     "name": "stdout",
     "output_type": "stream",
     "text": [
      "57.465833828051544\n",
      "56.508961047816676\n",
      "56.16506888577534\n",
      "56.81702950366018\n"
     ]
    }
   ],
   "source": [
    "print(np.nanmean(train_score_bl))\n",
    "print(np.nanmean(train_score_wls))\n",
    "print(np.nanmean(train_score_kf))\n",
    "print(np.nanmean(train_score_lstm))"
   ],
   "metadata": {
    "collapsed": false,
    "ExecuteTime": {
     "end_time": "2024-04-30T05:22:21.361705Z",
     "start_time": "2024-04-30T05:22:21.357482Z"
    }
   },
   "id": "18033e55830f6fe9",
   "execution_count": 370
  },
  {
   "cell_type": "markdown",
   "source": [
    "65.01834181677802\n",
    "63.84216011999472\n",
    "63.42446419834961\n",
    "64.30112325220965"
   ],
   "metadata": {
    "collapsed": false
   },
   "id": "bf56c9f17e3d7973"
  },
  {
   "cell_type": "code",
   "outputs": [
    {
     "data": {
      "text/plain": "  0%|          | 0/40 [00:00<?, ?it/s]",
      "application/vnd.jupyter.widget-view+json": {
       "version_major": 2,
       "version_minor": 0,
       "model_id": "fb9d1621469a4646b6819fc160d98941"
      }
     },
     "metadata": {},
     "output_type": "display_data"
    },
    {
     "name": "stdout",
     "output_type": "stream",
     "text": [
      "sdc2023/\n"
     ]
    },
    {
     "data": {
      "text/plain": "  0%|          | 0/1190 [00:00<?, ?it/s]",
      "application/vnd.jupyter.widget-view+json": {
       "version_major": 2,
       "version_minor": 0,
       "model_id": "544eba0f51214f41853c3198cc2183b4"
      }
     },
     "metadata": {},
     "output_type": "display_data"
    },
    {
     "name": "stderr",
     "output_type": "stream",
     "text": [
      "C:\\Users\\Administrator\\AppData\\Local\\Temp\\ipykernel_36740\\445851347.py:30: UserWarning: Creating a tensor from a list of numpy.ndarrays is extremely slow. Please consider converting the list to a single numpy.ndarray with numpy.array() before converting to a tensor. (Triggered internally at C:\\cb\\pytorch_1000000000000\\work\\torch\\csrc\\utils\\tensor_new.cpp:278.)\n",
      "  X_pred_tensor = torch.tensor(test_seq, dtype=torch.float32)\n"
     ]
    },
    {
     "name": "stdout",
     "output_type": "stream",
     "text": [
      "sdc2023/\n"
     ]
    },
    {
     "data": {
      "text/plain": "  0%|          | 0/1676 [00:00<?, ?it/s]",
      "application/vnd.jupyter.widget-view+json": {
       "version_major": 2,
       "version_minor": 0,
       "model_id": "36c014e2d11343d79cae9aae0a49f757"
      }
     },
     "metadata": {},
     "output_type": "display_data"
    },
    {
     "name": "stdout",
     "output_type": "stream",
     "text": [
      "sdc2023/\n"
     ]
    },
    {
     "name": "stderr",
     "output_type": "stream",
     "text": [
      "C:\\Users\\Administrator\\AppData\\Local\\Temp\\ipykernel_36740\\445851347.py:12: DtypeWarning: Columns (21) have mixed types. Specify dtype option on import or set low_memory=False.\n",
      "  gnss_df = pd.read_csv(f'{dirname}/device_gnss.csv')\n"
     ]
    },
    {
     "data": {
      "text/plain": "  0%|          | 0/1141 [00:00<?, ?it/s]",
      "application/vnd.jupyter.widget-view+json": {
       "version_major": 2,
       "version_minor": 0,
       "model_id": "11b654d40c5a4b029a35443daa213253"
      }
     },
     "metadata": {},
     "output_type": "display_data"
    },
    {
     "name": "stdout",
     "output_type": "stream",
     "text": [
      "sdc2023/\n"
     ]
    },
    {
     "data": {
      "text/plain": "  0%|          | 0/1274 [00:00<?, ?it/s]",
      "application/vnd.jupyter.widget-view+json": {
       "version_major": 2,
       "version_minor": 0,
       "model_id": "7926b56e54634fd29900a79f02afd86c"
      }
     },
     "metadata": {},
     "output_type": "display_data"
    },
    {
     "name": "stdout",
     "output_type": "stream",
     "text": [
      "sdc2023/\n"
     ]
    },
    {
     "data": {
      "text/plain": "  0%|          | 0/1797 [00:00<?, ?it/s]",
      "application/vnd.jupyter.widget-view+json": {
       "version_major": 2,
       "version_minor": 0,
       "model_id": "a2e7def7bfec49838cf5706fef6a7d08"
      }
     },
     "metadata": {},
     "output_type": "display_data"
    },
    {
     "name": "stdout",
     "output_type": "stream",
     "text": [
      "sdc2023/\n"
     ]
    },
    {
     "name": "stderr",
     "output_type": "stream",
     "text": [
      "C:\\Users\\Administrator\\AppData\\Local\\Temp\\ipykernel_36740\\445851347.py:12: DtypeWarning: Columns (21) have mixed types. Specify dtype option on import or set low_memory=False.\n",
      "  gnss_df = pd.read_csv(f'{dirname}/device_gnss.csv')\n"
     ]
    },
    {
     "data": {
      "text/plain": "  0%|          | 0/2479 [00:00<?, ?it/s]",
      "application/vnd.jupyter.widget-view+json": {
       "version_major": 2,
       "version_minor": 0,
       "model_id": "553ad99247bd48bda51fc48ad3970765"
      }
     },
     "metadata": {},
     "output_type": "display_data"
    },
    {
     "name": "stdout",
     "output_type": "stream",
     "text": [
      "i = 2358 position lsq status = 2\n",
      "i = 2453 position lsq status = 2\n",
      "sdc2023/\n"
     ]
    },
    {
     "data": {
      "text/plain": "  0%|          | 0/1446 [00:00<?, ?it/s]",
      "application/vnd.jupyter.widget-view+json": {
       "version_major": 2,
       "version_minor": 0,
       "model_id": "45f0ff425cd94442be00bd24e9ce6391"
      }
     },
     "metadata": {},
     "output_type": "display_data"
    },
    {
     "name": "stdout",
     "output_type": "stream",
     "text": [
      "sdc2023/\n"
     ]
    },
    {
     "name": "stderr",
     "output_type": "stream",
     "text": [
      "C:\\Users\\Administrator\\AppData\\Local\\Temp\\ipykernel_36740\\445851347.py:12: DtypeWarning: Columns (21) have mixed types. Specify dtype option on import or set low_memory=False.\n",
      "  gnss_df = pd.read_csv(f'{dirname}/device_gnss.csv')\n"
     ]
    },
    {
     "data": {
      "text/plain": "  0%|          | 0/1395 [00:00<?, ?it/s]",
      "application/vnd.jupyter.widget-view+json": {
       "version_major": 2,
       "version_minor": 0,
       "model_id": "c7f96d37e9d44e279f30ccf18c9a2d20"
      }
     },
     "metadata": {},
     "output_type": "display_data"
    },
    {
     "name": "stdout",
     "output_type": "stream",
     "text": [
      "i = 15 position lsq status = 2\n",
      "i = 101 position lsq status = 2\n",
      "i = 118 position lsq status = 2\n",
      "i = 120 position lsq status = 2\n",
      "i = 121 position lsq status = 2\n",
      "i = 123 position lsq status = 2\n",
      "i = 124 position lsq status = 2\n",
      "i = 125 position lsq status = 2\n",
      "i = 126 position lsq status = 2\n",
      "i = 127 position lsq status = 2\n",
      "i = 128 position lsq status = 2\n",
      "i = 129 position lsq status = 2\n",
      "i = 130 position lsq status = 2\n",
      "i = 131 position lsq status = 2\n",
      "i = 133 position lsq status = 2\n",
      "i = 135 position lsq status = 2\n",
      "i = 137 position lsq status = 2\n",
      "i = 139 position lsq status = 2\n",
      "i = 140 position lsq status = 2\n",
      "i = 141 position lsq status = 2\n",
      "i = 142 position lsq status = 2\n",
      "i = 143 position lsq status = 2\n",
      "sdc2023/\n"
     ]
    },
    {
     "data": {
      "text/plain": "  0%|          | 0/1665 [00:00<?, ?it/s]",
      "application/vnd.jupyter.widget-view+json": {
       "version_major": 2,
       "version_minor": 0,
       "model_id": "52ce7535aae14a70bd9d11e803c6804f"
      }
     },
     "metadata": {},
     "output_type": "display_data"
    },
    {
     "name": "stdout",
     "output_type": "stream",
     "text": [
      "sdc2023/\n"
     ]
    },
    {
     "data": {
      "text/plain": "  0%|          | 0/2407 [00:00<?, ?it/s]",
      "application/vnd.jupyter.widget-view+json": {
       "version_major": 2,
       "version_minor": 0,
       "model_id": "7b11c8329da049ce8f1f8e86ef7cda2e"
      }
     },
     "metadata": {},
     "output_type": "display_data"
    },
    {
     "name": "stdout",
     "output_type": "stream",
     "text": [
      "sdc2023/\n"
     ]
    },
    {
     "data": {
      "text/plain": "  0%|          | 0/2805 [00:00<?, ?it/s]",
      "application/vnd.jupyter.widget-view+json": {
       "version_major": 2,
       "version_minor": 0,
       "model_id": "a23422da00264e81947bbdfdd273f196"
      }
     },
     "metadata": {},
     "output_type": "display_data"
    },
    {
     "name": "stdout",
     "output_type": "stream",
     "text": [
      "sdc2023/\n"
     ]
    },
    {
     "data": {
      "text/plain": "  0%|          | 0/4515 [00:00<?, ?it/s]",
      "application/vnd.jupyter.widget-view+json": {
       "version_major": 2,
       "version_minor": 0,
       "model_id": "efd80c2f186944fc8523fd67c7a21486"
      }
     },
     "metadata": {},
     "output_type": "display_data"
    },
    {
     "name": "stdout",
     "output_type": "stream",
     "text": [
      "i = 2752 position lsq status = 0\n",
      "i = 2752 velocity lsq status = 0\n",
      "sdc2023/\n"
     ]
    },
    {
     "data": {
      "text/plain": "  0%|          | 0/3582 [00:00<?, ?it/s]",
      "application/vnd.jupyter.widget-view+json": {
       "version_major": 2,
       "version_minor": 0,
       "model_id": "a2b85cd196174d16ab6dd7e6bd6fd8de"
      }
     },
     "metadata": {},
     "output_type": "display_data"
    },
    {
     "name": "stdout",
     "output_type": "stream",
     "text": [
      "sdc2023/\n"
     ]
    },
    {
     "name": "stderr",
     "output_type": "stream",
     "text": [
      "C:\\Users\\Administrator\\AppData\\Local\\Temp\\ipykernel_36740\\445851347.py:12: DtypeWarning: Columns (21) have mixed types. Specify dtype option on import or set low_memory=False.\n",
      "  gnss_df = pd.read_csv(f'{dirname}/device_gnss.csv')\n"
     ]
    },
    {
     "data": {
      "text/plain": "  0%|          | 0/1679 [00:00<?, ?it/s]",
      "application/vnd.jupyter.widget-view+json": {
       "version_major": 2,
       "version_minor": 0,
       "model_id": "6b5d822bd50c435eb6f64aac3fc2620c"
      }
     },
     "metadata": {},
     "output_type": "display_data"
    },
    {
     "name": "stdout",
     "output_type": "stream",
     "text": [
      "sdc2023/\n"
     ]
    },
    {
     "data": {
      "text/plain": "  0%|          | 0/1172 [00:00<?, ?it/s]",
      "application/vnd.jupyter.widget-view+json": {
       "version_major": 2,
       "version_minor": 0,
       "model_id": "5909e7cabef4499884286f87763d04c2"
      }
     },
     "metadata": {},
     "output_type": "display_data"
    },
    {
     "name": "stdout",
     "output_type": "stream",
     "text": [
      "sdc2023/\n"
     ]
    },
    {
     "data": {
      "text/plain": "  0%|          | 0/2112 [00:00<?, ?it/s]",
      "application/vnd.jupyter.widget-view+json": {
       "version_major": 2,
       "version_minor": 0,
       "model_id": "3c84664dbe6f43b4902dc575f00a2ba5"
      }
     },
     "metadata": {},
     "output_type": "display_data"
    },
    {
     "name": "stdout",
     "output_type": "stream",
     "text": [
      "sdc2023/\n"
     ]
    },
    {
     "data": {
      "text/plain": "  0%|          | 0/2171 [00:00<?, ?it/s]",
      "application/vnd.jupyter.widget-view+json": {
       "version_major": 2,
       "version_minor": 0,
       "model_id": "44c07687ccda47c08fcfbc7bf8100c97"
      }
     },
     "metadata": {},
     "output_type": "display_data"
    },
    {
     "name": "stdout",
     "output_type": "stream",
     "text": [
      "sdc2023/\n"
     ]
    },
    {
     "data": {
      "text/plain": "  0%|          | 0/1400 [00:00<?, ?it/s]",
      "application/vnd.jupyter.widget-view+json": {
       "version_major": 2,
       "version_minor": 0,
       "model_id": "0f81d84355ce48ff8593ff44bfc2a356"
      }
     },
     "metadata": {},
     "output_type": "display_data"
    },
    {
     "name": "stdout",
     "output_type": "stream",
     "text": [
      "sdc2023/\n"
     ]
    },
    {
     "name": "stderr",
     "output_type": "stream",
     "text": [
      "C:\\Users\\Administrator\\AppData\\Local\\Temp\\ipykernel_36740\\445851347.py:12: DtypeWarning: Columns (21) have mixed types. Specify dtype option on import or set low_memory=False.\n",
      "  gnss_df = pd.read_csv(f'{dirname}/device_gnss.csv')\n"
     ]
    },
    {
     "data": {
      "text/plain": "  0%|          | 0/1924 [00:00<?, ?it/s]",
      "application/vnd.jupyter.widget-view+json": {
       "version_major": 2,
       "version_minor": 0,
       "model_id": "0be312d6c1ec4643b6b69544d1f096f3"
      }
     },
     "metadata": {},
     "output_type": "display_data"
    },
    {
     "name": "stdout",
     "output_type": "stream",
     "text": [
      "i = 10 position lsq status = 2\n",
      "i = 700 position lsq status = 2\n",
      "sdc2023/\n"
     ]
    },
    {
     "data": {
      "text/plain": "  0%|          | 0/1587 [00:00<?, ?it/s]",
      "application/vnd.jupyter.widget-view+json": {
       "version_major": 2,
       "version_minor": 0,
       "model_id": "533925dafab8411999ffbd1fad882688"
      }
     },
     "metadata": {},
     "output_type": "display_data"
    },
    {
     "name": "stdout",
     "output_type": "stream",
     "text": [
      "sdc2023/\n"
     ]
    },
    {
     "data": {
      "text/plain": "  0%|          | 0/1315 [00:00<?, ?it/s]",
      "application/vnd.jupyter.widget-view+json": {
       "version_major": 2,
       "version_minor": 0,
       "model_id": "17544dc9d6db4c6f8b8c181c9fa51514"
      }
     },
     "metadata": {},
     "output_type": "display_data"
    },
    {
     "name": "stdout",
     "output_type": "stream",
     "text": [
      "sdc2023/\n"
     ]
    },
    {
     "data": {
      "text/plain": "  0%|          | 0/1382 [00:00<?, ?it/s]",
      "application/vnd.jupyter.widget-view+json": {
       "version_major": 2,
       "version_minor": 0,
       "model_id": "bb4ec7003a8b402d82bfb6b17ff9c16e"
      }
     },
     "metadata": {},
     "output_type": "display_data"
    },
    {
     "name": "stdout",
     "output_type": "stream",
     "text": [
      "sdc2023/\n"
     ]
    },
    {
     "name": "stderr",
     "output_type": "stream",
     "text": [
      "C:\\Users\\Administrator\\AppData\\Local\\Temp\\ipykernel_36740\\445851347.py:12: DtypeWarning: Columns (21) have mixed types. Specify dtype option on import or set low_memory=False.\n",
      "  gnss_df = pd.read_csv(f'{dirname}/device_gnss.csv')\n"
     ]
    },
    {
     "data": {
      "text/plain": "  0%|          | 0/1344 [00:00<?, ?it/s]",
      "application/vnd.jupyter.widget-view+json": {
       "version_major": 2,
       "version_minor": 0,
       "model_id": "5b577d529994459fb4bc1f69a1ba08a5"
      }
     },
     "metadata": {},
     "output_type": "display_data"
    },
    {
     "name": "stdout",
     "output_type": "stream",
     "text": [
      "i = 324 position lsq status = 2\n",
      "i = 331 position lsq status = 2\n",
      "i = 393 position lsq status = 2\n",
      "i = 508 position lsq status = 2\n",
      "sdc2023/\n"
     ]
    },
    {
     "data": {
      "text/plain": "  0%|          | 0/1435 [00:00<?, ?it/s]",
      "application/vnd.jupyter.widget-view+json": {
       "version_major": 2,
       "version_minor": 0,
       "model_id": "d3790ae8527c45589cf3e0e67c1fe012"
      }
     },
     "metadata": {},
     "output_type": "display_data"
    },
    {
     "name": "stdout",
     "output_type": "stream",
     "text": [
      "sdc2023/\n"
     ]
    },
    {
     "data": {
      "text/plain": "  0%|          | 0/1862 [00:00<?, ?it/s]",
      "application/vnd.jupyter.widget-view+json": {
       "version_major": 2,
       "version_minor": 0,
       "model_id": "077eb0971df14b7ab125c2d117ea71f3"
      }
     },
     "metadata": {},
     "output_type": "display_data"
    },
    {
     "name": "stdout",
     "output_type": "stream",
     "text": [
      "sdc2023/\n"
     ]
    },
    {
     "data": {
      "text/plain": "  0%|          | 0/1838 [00:00<?, ?it/s]",
      "application/vnd.jupyter.widget-view+json": {
       "version_major": 2,
       "version_minor": 0,
       "model_id": "9ff152b42f4249c29ae2911e987927f4"
      }
     },
     "metadata": {},
     "output_type": "display_data"
    },
    {
     "name": "stdout",
     "output_type": "stream",
     "text": [
      "sdc2023/\n"
     ]
    },
    {
     "data": {
      "text/plain": "  0%|          | 0/1782 [00:00<?, ?it/s]",
      "application/vnd.jupyter.widget-view+json": {
       "version_major": 2,
       "version_minor": 0,
       "model_id": "7abec68f214a43dc8064dda63319cdab"
      }
     },
     "metadata": {},
     "output_type": "display_data"
    },
    {
     "name": "stdout",
     "output_type": "stream",
     "text": [
      "sdc2023/\n"
     ]
    },
    {
     "data": {
      "text/plain": "  0%|          | 0/1699 [00:00<?, ?it/s]",
      "application/vnd.jupyter.widget-view+json": {
       "version_major": 2,
       "version_minor": 0,
       "model_id": "a1a63fd0abe94bb48f41eaebc3ef1731"
      }
     },
     "metadata": {},
     "output_type": "display_data"
    },
    {
     "name": "stdout",
     "output_type": "stream",
     "text": [
      "sdc2023/\n"
     ]
    },
    {
     "data": {
      "text/plain": "  0%|          | 0/1357 [00:00<?, ?it/s]",
      "application/vnd.jupyter.widget-view+json": {
       "version_major": 2,
       "version_minor": 0,
       "model_id": "4e42fc7cfdfd4a5d82e9d0b614dc5ac2"
      }
     },
     "metadata": {},
     "output_type": "display_data"
    },
    {
     "name": "stdout",
     "output_type": "stream",
     "text": [
      "sdc2023/\n"
     ]
    },
    {
     "data": {
      "text/plain": "  0%|          | 0/1380 [00:00<?, ?it/s]",
      "application/vnd.jupyter.widget-view+json": {
       "version_major": 2,
       "version_minor": 0,
       "model_id": "96ef5a62e01f42418d0eb04418872997"
      }
     },
     "metadata": {},
     "output_type": "display_data"
    },
    {
     "name": "stdout",
     "output_type": "stream",
     "text": [
      "sdc2023/\n"
     ]
    },
    {
     "data": {
      "text/plain": "  0%|          | 0/2110 [00:00<?, ?it/s]",
      "application/vnd.jupyter.widget-view+json": {
       "version_major": 2,
       "version_minor": 0,
       "model_id": "9658c7794f2740e9863649506cbe3fca"
      }
     },
     "metadata": {},
     "output_type": "display_data"
    },
    {
     "name": "stdout",
     "output_type": "stream",
     "text": [
      "sdc2023/\n"
     ]
    },
    {
     "name": "stderr",
     "output_type": "stream",
     "text": [
      "C:\\Users\\Administrator\\AppData\\Local\\Temp\\ipykernel_36740\\445851347.py:12: DtypeWarning: Columns (21) have mixed types. Specify dtype option on import or set low_memory=False.\n",
      "  gnss_df = pd.read_csv(f'{dirname}/device_gnss.csv')\n"
     ]
    },
    {
     "data": {
      "text/plain": "  0%|          | 0/2145 [00:00<?, ?it/s]",
      "application/vnd.jupyter.widget-view+json": {
       "version_major": 2,
       "version_minor": 0,
       "model_id": "93b6586ba4484271a4b88000cad20b3d"
      }
     },
     "metadata": {},
     "output_type": "display_data"
    },
    {
     "name": "stdout",
     "output_type": "stream",
     "text": [
      "sdc2023/\n"
     ]
    },
    {
     "data": {
      "text/plain": "  0%|          | 0/2384 [00:00<?, ?it/s]",
      "application/vnd.jupyter.widget-view+json": {
       "version_major": 2,
       "version_minor": 0,
       "model_id": "6efca1641cf54500969c31d2519f98d9"
      }
     },
     "metadata": {},
     "output_type": "display_data"
    },
    {
     "name": "stdout",
     "output_type": "stream",
     "text": [
      "i = 1571 position lsq status = 2\n",
      "i = 1573 position lsq status = 2\n",
      "sdc2023/\n"
     ]
    },
    {
     "data": {
      "text/plain": "  0%|          | 0/1975 [00:00<?, ?it/s]",
      "application/vnd.jupyter.widget-view+json": {
       "version_major": 2,
       "version_minor": 0,
       "model_id": "f4ee0730482d4799b568b81fb57865c2"
      }
     },
     "metadata": {},
     "output_type": "display_data"
    },
    {
     "name": "stdout",
     "output_type": "stream",
     "text": [
      "sdc2023/\n"
     ]
    },
    {
     "data": {
      "text/plain": "  0%|          | 0/1020 [00:00<?, ?it/s]",
      "application/vnd.jupyter.widget-view+json": {
       "version_major": 2,
       "version_minor": 0,
       "model_id": "c010c128e4c54d9cbeb1ca97ad38c257"
      }
     },
     "metadata": {},
     "output_type": "display_data"
    },
    {
     "name": "stdout",
     "output_type": "stream",
     "text": [
      "sdc2023/\n"
     ]
    },
    {
     "name": "stderr",
     "output_type": "stream",
     "text": [
      "C:\\Users\\Administrator\\AppData\\Local\\Temp\\ipykernel_36740\\445851347.py:12: DtypeWarning: Columns (21) have mixed types. Specify dtype option on import or set low_memory=False.\n",
      "  gnss_df = pd.read_csv(f'{dirname}/device_gnss.csv')\n"
     ]
    },
    {
     "data": {
      "text/plain": "  0%|          | 0/1292 [00:00<?, ?it/s]",
      "application/vnd.jupyter.widget-view+json": {
       "version_major": 2,
       "version_minor": 0,
       "model_id": "57a7a0c0b7b4490eb323104b767fc2f7"
      }
     },
     "metadata": {},
     "output_type": "display_data"
    },
    {
     "name": "stdout",
     "output_type": "stream",
     "text": [
      "sdc2023/\n"
     ]
    },
    {
     "data": {
      "text/plain": "  0%|          | 0/1728 [00:00<?, ?it/s]",
      "application/vnd.jupyter.widget-view+json": {
       "version_major": 2,
       "version_minor": 0,
       "model_id": "9883e47ba4e94d9a8ce95ce3731b4f67"
      }
     },
     "metadata": {},
     "output_type": "display_data"
    },
    {
     "name": "stdout",
     "output_type": "stream",
     "text": [
      "sdc2023/\n"
     ]
    },
    {
     "data": {
      "text/plain": "  0%|          | 0/1482 [00:00<?, ?it/s]",
      "application/vnd.jupyter.widget-view+json": {
       "version_major": 2,
       "version_minor": 0,
       "model_id": "d9359fe840a1416a860066076d0932cc"
      }
     },
     "metadata": {},
     "output_type": "display_data"
    },
    {
     "name": "stdout",
     "output_type": "stream",
     "text": [
      "sdc2023/\n"
     ]
    },
    {
     "data": {
      "text/plain": "  0%|          | 0/1608 [00:00<?, ?it/s]",
      "application/vnd.jupyter.widget-view+json": {
       "version_major": 2,
       "version_minor": 0,
       "model_id": "66006efd9eff40dab91875671b274c82"
      }
     },
     "metadata": {},
     "output_type": "display_data"
    },
    {
     "name": "stdout",
     "output_type": "stream",
     "text": [
      "sdc2023/\n"
     ]
    },
    {
     "name": "stderr",
     "output_type": "stream",
     "text": [
      "C:\\Users\\Administrator\\AppData\\Local\\Temp\\ipykernel_36740\\445851347.py:12: DtypeWarning: Columns (21) have mixed types. Specify dtype option on import or set low_memory=False.\n",
      "  gnss_df = pd.read_csv(f'{dirname}/device_gnss.csv')\n"
     ]
    },
    {
     "data": {
      "text/plain": "  0%|          | 0/1495 [00:00<?, ?it/s]",
      "application/vnd.jupyter.widget-view+json": {
       "version_major": 2,
       "version_minor": 0,
       "model_id": "28187613286c46378a4cb896ac92724f"
      }
     },
     "metadata": {},
     "output_type": "display_data"
    },
    {
     "name": "stdout",
     "output_type": "stream",
     "text": [
      "i = 628 position lsq status = 2\n",
      "i = 633 position lsq status = 2\n",
      "i = 647 position lsq status = 2\n"
     ]
    }
   ],
   "source": [
    "path = 'D:/PythonProject/FinalProject/smartphone-decimeter-2023/sdc2023/'\n",
    "sample_df = pd.read_csv(f'{path}/sample_submission.csv')\n",
    "test_dfs = []\n",
    "sequence_length = 10\n",
    "# Loop for each trip\n",
    "for i, dirname in enumerate(tqdm(sorted(gl.glob(f'{path}/test/*/*/')))):\n",
    "    drive, phone = dirname.split('/')[-3:-1]\n",
    "    tripID = f'{drive}/{phone}'\n",
    "    print(tripID)\n",
    "\n",
    "    # Read data\n",
    "    gnss_df = pd.read_csv(f'{dirname}/device_gnss.csv')\n",
    "\n",
    "    # Point positioning\n",
    "    utc, x_wls, v_wls = point_positioning(gnss_df)\n",
    "    utc_array = np.array(utc).reshape(-1,1)\n",
    "\n",
    "    # Exclude velocity outliers\n",
    "    x_wls, v_wls = exclude_interpolate_outlier(x_wls, v_wls)\n",
    "\n",
    "    # Kalman smoothing\n",
    "    x_kf, _, _ = Kalman_smoothing(x_wls, v_wls, phone)\n",
    "\n",
    "    # Convert to latitude and longitude\n",
    "    # llh_kf = np.array(pm.ecef2geodetic(x_kf[:, 0], x_kf[:, 1], x_kf[:, 2])).T\n",
    "    x_test = np.hstack((x_kf, utc_array)) \n",
    "    test_seq = []    \n",
    "    for i in range(len(x_test) - sequence_length):\n",
    "        test_seq.append(x_test[i:i+sequence_length])\n",
    "    X_pred_tensor = torch.tensor(test_seq, dtype=torch.float32)\n",
    "    model_train.eval()  # 设置模型为评估模式\n",
    "    with torch.no_grad():\n",
    "        x_lstm = model_train(X_pred_tensor)  # 假设 test_data 已准备好\n",
    "        predictions = np.concatenate((x_kf[:sequence_length],x_lstm))\n",
    "\n",
    "    llh_kf = np.array(pm.ecef2geodetic(predictions[:, 0], predictions[:, 1], predictions[:, 2])).T\n",
    "    # Interpolation for submission\n",
    "    UnixTimeMillis = sample_df[sample_df['tripId'] == tripID]['UnixTimeMillis'].to_numpy()\n",
    "    lat = InterpolatedUnivariateSpline(utc, llh_kf[:,0], ext=3)(UnixTimeMillis)\n",
    "    lng = InterpolatedUnivariateSpline(utc, llh_kf[:,1], ext=3)(UnixTimeMillis)\n",
    "    trip_df = pd.DataFrame({\n",
    "        'tripId' : tripID,\n",
    "        'UnixTimeMillis': UnixTimeMillis,\n",
    "        'LatitudeDegrees': lat,\n",
    "        'LongitudeDegrees': lng\n",
    "        })\n",
    "\n",
    "    test_dfs.append(trip_df)\n",
    "\n",
    "# Write submission.csv\n",
    "test_df = pd.concat(test_dfs)\n",
    "test_df.to_csv('submission.csv', index=False)"
   ],
   "metadata": {
    "collapsed": false,
    "ExecuteTime": {
     "end_time": "2024-04-30T03:07:34.116529Z",
     "start_time": "2024-04-30T03:00:31.826471Z"
    }
   },
   "id": "2eee7077771c44e4",
   "execution_count": 353
  }
 ],
 "metadata": {
  "kernelspec": {
   "display_name": "Python 3",
   "language": "python",
   "name": "python3"
  },
  "language_info": {
   "codemirror_mode": {
    "name": "ipython",
    "version": 2
   },
   "file_extension": ".py",
   "mimetype": "text/x-python",
   "name": "python",
   "nbconvert_exporter": "python",
   "pygments_lexer": "ipython2",
   "version": "2.7.6"
  }
 },
 "nbformat": 4,
 "nbformat_minor": 5
}
